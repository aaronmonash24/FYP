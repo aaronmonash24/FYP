{
 "cells": [
  {
   "cell_type": "code",
   "execution_count": 18,
   "id": "1380be2f",
   "metadata": {},
   "outputs": [],
   "source": [
    "import pandas as pd\n",
    "import numpy as np\n",
    "import matplotlib.pyplot as plt\n",
    "import statsmodels.api as sm "
   ]
  },
  {
   "cell_type": "code",
   "execution_count": null,
   "id": "52b68ff2-5103-475d-b964-bdea5228d7f9",
   "metadata": {},
   "outputs": [],
   "source": []
  },
  {
   "cell_type": "code",
   "execution_count": null,
   "id": "545cc5aa",
   "metadata": {},
   "outputs": [],
   "source": [
    "pip install numpy"
   ]
  },
  {
   "cell_type": "code",
   "execution_count": null,
   "id": "b1deb456",
   "metadata": {},
   "outputs": [],
   "source": [
    "pip install pandas"
   ]
  },
  {
   "cell_type": "code",
   "execution_count": null,
   "id": "c8f02bfa",
   "metadata": {},
   "outputs": [],
   "source": [
    "selling_price = pd.read_csv('sell_prices.csv')\n",
    "calendar = pd.read_csv('calendar.csv')"
   ]
  },
  {
   "cell_type": "code",
   "execution_count": null,
   "id": "f5b173d6",
   "metadata": {},
   "outputs": [],
   "source": [
    "sell_calendar_merge = pd.merge(selling_price, calendar, on='wm_yr_wk')"
   ]
  },
  {
   "cell_type": "code",
   "execution_count": null,
   "id": "060479a7",
   "metadata": {},
   "outputs": [],
   "source": [
    "sell_calendar_merge['id']= sell_calendar_merge['item_id'] + '_'+sell_calendar_merge['store_id']"
   ]
  },
  {
   "cell_type": "code",
   "execution_count": null,
   "id": "991e87d3",
   "metadata": {},
   "outputs": [],
   "source": [
    "sell_calendar_merge.to_csv('sell_calendar.csv')"
   ]
  },
  {
   "cell_type": "code",
   "execution_count": null,
   "id": "3028d385",
   "metadata": {},
   "outputs": [],
   "source": [
    "sell_calendar = pd.read_csv('sell_calendar.csv')"
   ]
  },
  {
   "cell_type": "code",
   "execution_count": null,
   "id": "3c0bdd8b",
   "metadata": {},
   "outputs": [],
   "source": [
    "sell_calendar = sell_calendar.drop(sell_calendar.columns[0],axis=1)"
   ]
  },
  {
   "cell_type": "code",
   "execution_count": null,
   "id": "b8f9cca2",
   "metadata": {},
   "outputs": [],
   "source": [
    "sell_calendar[['prefix', 'number']] = sell_calendar['d'].str.split('_', expand=True)"
   ]
  },
  {
   "cell_type": "code",
   "execution_count": null,
   "id": "9cd217bb",
   "metadata": {},
   "outputs": [],
   "source": [
    "sell_calendar = sell_calendar.drop(sell_calendar.columns[9],axis=1)"
   ]
  },
  {
   "cell_type": "code",
   "execution_count": null,
   "id": "5c362dc6",
   "metadata": {},
   "outputs": [],
   "source": [
    "sell_calendar['number'] = sell_calendar['number'].astype(int)"
   ]
  },
  {
   "cell_type": "code",
   "execution_count": null,
   "id": "9956de07",
   "metadata": {},
   "outputs": [],
   "source": [
    "selected_sell_calendar = sell_calendar.loc[sell_calendar['number'] <= 1913]"
   ]
  },
  {
   "cell_type": "code",
   "execution_count": null,
   "id": "749b45c6",
   "metadata": {},
   "outputs": [],
   "source": [
    "selected_sell_calendar = selected_sell_calendar.reset_index(drop=True)"
   ]
  },
  {
   "cell_type": "code",
   "execution_count": null,
   "id": "ff106977",
   "metadata": {},
   "outputs": [],
   "source": [
    "selected_sell_calendar.to_csv('selected_sell_calendar.csv')"
   ]
  },
  {
   "cell_type": "code",
   "execution_count": null,
   "id": "00475aab",
   "metadata": {},
   "outputs": [],
   "source": [
    "selected_sell_calendar_hobbies = selected_sell_calendar[selected_sell_calendar.iloc[:, 0].str.contains('HOBBIES')]"
   ]
  },
  {
   "cell_type": "code",
   "execution_count": null,
   "id": "10925e2e",
   "metadata": {},
   "outputs": [],
   "source": [
    "selected_sell_calendar_foods = selected_sell_calendar[selected_sell_calendar.iloc[:, 0].str.contains('FOODS')]"
   ]
  },
  {
   "cell_type": "code",
   "execution_count": null,
   "id": "cac46bb7",
   "metadata": {},
   "outputs": [],
   "source": [
    "selected_sell_calendar_households  = selected_sell_calendar[selected_sell_calendar.iloc[:, 0].str.contains('HOUSEHOLD')]"
   ]
  },
  {
   "cell_type": "code",
   "execution_count": null,
   "id": "fd3dea3d",
   "metadata": {},
   "outputs": [],
   "source": [
    "selected_sell_calendar_hobbies = selected_sell_calendar_hobbies.reset_index(drop=True)"
   ]
  },
  {
   "cell_type": "code",
   "execution_count": null,
   "id": "e3a3cac2",
   "metadata": {},
   "outputs": [],
   "source": [
    "selected_sell_calendar_foods = selected_sell_calendar_foods.reset_index(drop=True)\n",
    "selected_sell_calendar_households = selected_sell_calendar_households.reset_index(drop=True)\n",
    "selected_sell_calendar_hobbies.to_csv('selected_sell_calendar_hobbies.csv')\n",
    "selected_sell_calendar_foods.to_csv('selected_sell_calendar_foods')\n",
    "selected_sell_calendar_households.to_csv('selected_sell_calendar_households')\n",
    "sales_train_validation = pd.read_csv('sales_train_validation.csv')\n",
    "for i in range(len(sales_train_validation['id'])):\n",
    "    sales_train_validation['id'][i] = sales_train_validation['id'][i].rstrip('_validation')\n",
    "hobbies_sales = sales_train_validation.loc[sales_train_validation['cat_id'] == 'HOBBIES'].set_index('id')\n",
    "foods_sales = sales_train_validation.loc[sales_train_validation['cat_id'] == 'FOODS'].set_index('id')\n",
    "households_sales = sales_train_validation.loc[sales_train_validation['cat_id'] == 'HOUSEHOLD'].set_index('id')\n",
    "for i in range(len(selected_sell_calendar_hobbies['id'])):\n",
    "    selected_sell_calendar_hobbies.at[i, 'amount'] = hobbies_sales.loc[selected_sell_calendar_hobbies['id'][i],selected_sell_calendar_hobbies['d'][i]]"
   ]
  },
  {
   "cell_type": "code",
   "execution_count": null,
   "id": "4bde35c9",
   "metadata": {},
   "outputs": [],
   "source": [
    "for i in range(len(selected_sell_calendar_households['id'])):\n",
    "    selected_sell_calendar_households.at[i, 'amount'] = households_sales.loc[selected_sell_calendar_households['id'][i],selected_sell_calendar_households['d'][i]]"
   ]
  },
  {
   "cell_type": "code",
   "execution_count": null,
   "id": "4870a226",
   "metadata": {},
   "outputs": [],
   "source": [
    "for i in range(len(selected_sell_calendar_foods['id'])):\n",
    "    selected_sell_calendar_foods.at[i, 'amount'] = foods_sales.loc[selected_sell_calendar_foods['id'][i],selected_sell_calendar_foods['d'][i]]"
   ]
  },
  {
   "cell_type": "code",
   "execution_count": null,
   "id": "6d7e675f",
   "metadata": {},
   "outputs": [],
   "source": [
    "selected_sell_calendar_hobbies.to_csv('final_sell_calendar_hobbies.csv')"
   ]
  },
  {
   "cell_type": "code",
   "execution_count": null,
   "id": "bcbc305c",
   "metadata": {},
   "outputs": [],
   "source": [
    "selected_sell_calendar_households.to_csv('final_sell_calendar_households.csv')"
   ]
  },
  {
   "cell_type": "code",
   "execution_count": null,
   "id": "01882b48",
   "metadata": {},
   "outputs": [],
   "source": [
    "selected_sell_calendar_foods.to_csv('final_sell_calendar_foods.csv')"
   ]
  },
  {
   "cell_type": "code",
   "execution_count": null,
   "id": "51634d98-edb7-4276-a758-87e5342346aa",
   "metadata": {},
   "outputs": [],
   "source": [
    "sales_train_validation = pd.read_csv('sales_train_validation.csv')"
   ]
  },
  {
   "cell_type": "code",
   "execution_count": null,
   "id": "27cb11b4",
   "metadata": {},
   "outputs": [],
   "source": [
    "sales = pd.read_csv('sales_train_evaluation.csv')\n",
    "calendar = pd.read_csv('calendar.csv')\n",
    "prices = pd.read_csv('sell_prices.csv')"
   ]
  },
  {
   "cell_type": "code",
   "execution_count": null,
   "id": "a8cfb343",
   "metadata": {},
   "outputs": [],
   "source": [
    "#Downcast in order to save memory\n",
    "def downcast(df):\n",
    "    cols = df.dtypes.index.tolist()\n",
    "    types = df.dtypes.values.tolist()\n",
    "    for i,t in enumerate(types):\n",
    "        if 'int' in str(t):\n",
    "            if df[cols[i]].min() > np.iinfo(np.int8).min and df[cols[i]].max() < np.iinfo(np.int8).max:\n",
    "                df[cols[i]] = df[cols[i]].astype(np.int8)\n",
    "            elif df[cols[i]].min() > np.iinfo(np.int16).min and df[cols[i]].max() < np.iinfo(np.int16).max:\n",
    "                df[cols[i]] = df[cols[i]].astype(np.int16)\n",
    "            elif df[cols[i]].min() > np.iinfo(np.int32).min and df[cols[i]].max() < np.iinfo(np.int32).max:\n",
    "                df[cols[i]] = df[cols[i]].astype(np.int32)\n",
    "            else:\n",
    "                df[cols[i]] = df[cols[i]].astype(np.int64)\n",
    "        elif 'float' in str(t):\n",
    "            if df[cols[i]].min() > np.finfo(np.float16).min and df[cols[i]].max() < np.finfo(np.float16).max:\n",
    "                df[cols[i]] = df[cols[i]].astype(np.float16)\n",
    "            elif df[cols[i]].min() > np.finfo(np.float32).min and df[cols[i]].max() < np.finfo(np.float32).max:\n",
    "                df[cols[i]] = df[cols[i]].astype(np.float32)\n",
    "            else:\n",
    "                df[cols[i]] = df[cols[i]].astype(np.float64)\n",
    "        elif t == object:\n",
    "            if cols[i] == 'date':\n",
    "                df[cols[i]] = pd.to_datetime(df[cols[i]], format='%Y-%m-%d')\n",
    "            else:\n",
    "                df[cols[i]] = df[cols[i]].astype('category')\n",
    "    return df  \n",
    "\n"
   ]
  },
  {
   "cell_type": "code",
   "execution_count": null,
   "id": "2495835e-14c9-4c6d-ab6b-0bd553ace53e",
   "metadata": {},
   "outputs": [],
   "source": [
    "sales = downcast(sales)\n",
    "prices = downcast(prices)\n",
    "calendar = downcast(calendar)"
   ]
  },
  {
   "cell_type": "code",
   "execution_count": null,
   "id": "02134837",
   "metadata": {},
   "outputs": [],
   "source": [
    "df = pd.melt(sales, id_vars=['id', 'item_id', 'dept_id', 'cat_id', 'store_id', 'state_id'], var_name='d', value_name='sold')"
   ]
  },
  {
   "cell_type": "code",
   "execution_count": null,
   "id": "332db905-c060-4444-ad5f-85fcb41854fd",
   "metadata": {},
   "outputs": [],
   "source": [
    "df=pd.read_csv(\"hobbies.csv\")"
   ]
  },
  {
   "cell_type": "code",
   "execution_count": null,
   "id": "c82b0700-7e18-413d-886a-8afce5ac3105",
   "metadata": {},
   "outputs": [],
   "source": [
    "df.head()"
   ]
  },
  {
   "cell_type": "code",
   "execution_count": null,
   "id": "467a874c-c936-438c-b7a5-a92e07182328",
   "metadata": {},
   "outputs": [],
   "source": [
    "df.dtypes"
   ]
  },
  {
   "cell_type": "code",
   "execution_count": null,
   "id": "2a21b459-7f0c-409f-95a6-0bdc9ba6a8ee",
   "metadata": {},
   "outputs": [],
   "source": [
    "def downcast(df):\n",
    "    cols = df.dtypes.index.tolist()\n",
    "    types = df.dtypes.values.tolist()\n",
    "    for i,t in enumerate(types):\n",
    "        if 'int' in str(t):\n",
    "            if df[cols[i]].min() > np.iinfo(np.int8).min and df[cols[i]].max() < np.iinfo(np.int8).max:\n",
    "                df[cols[i]] = df[cols[i]].astype(np.int8)\n",
    "            elif df[cols[i]].min() > np.iinfo(np.int16).min and df[cols[i]].max() < np.iinfo(np.int16).max:\n",
    "                df[cols[i]] = df[cols[i]].astype(np.int16)\n",
    "            elif df[cols[i]].min() > np.iinfo(np.int32).min and df[cols[i]].max() < np.iinfo(np.int32).max:\n",
    "                df[cols[i]] = df[cols[i]].astype(np.int32)\n",
    "            else:\n",
    "                df[cols[i]] = df[cols[i]].astype(np.int64)\n",
    "        elif 'float' in str(t):\n",
    "            if df[cols[i]].min() > np.finfo(np.float16).min and df[cols[i]].max() < np.finfo(np.float16).max:\n",
    "                df[cols[i]] = df[cols[i]].astype(np.float16)\n",
    "            elif df[cols[i]].min() > np.finfo(np.float32).min and df[cols[i]].max() < np.finfo(np.float32).max:\n",
    "                df[cols[i]] = df[cols[i]].astype(np.float32)\n",
    "            else:\n",
    "                df[cols[i]] = df[cols[i]].astype(np.float64)\n",
    "        elif t == object:\n",
    "            if cols[i] == 'date':\n",
    "                df[cols[i]] = pd.to_datetime(df[cols[i]], format='%Y-%m-%d')\n",
    "            else:\n",
    "                df[cols[i]] = df[cols[i]].astype('category')\n",
    "    return df  \n"
   ]
  },
  {
   "cell_type": "code",
   "execution_count": null,
   "id": "dd6f1d80-ed7b-4d90-b9b7-f1da65b46601",
   "metadata": {},
   "outputs": [],
   "source": [
    "df=downcast(df)"
   ]
  },
  {
   "cell_type": "code",
   "execution_count": null,
   "id": "13366f33-49d1-4cb9-b727-e956aa1054ad",
   "metadata": {},
   "outputs": [],
   "source": [
    "sum(df.memory_usage())"
   ]
  },
  {
   "cell_type": "code",
   "execution_count": null,
   "id": "7694e990-b9c0-42ef-9476-3d116fde83dd",
   "metadata": {},
   "outputs": [],
   "source": [
    "df2=df.groupby(['ID','YearMonth','Category','State_ID'])"
   ]
  },
  {
   "cell_type": "code",
   "execution_count": null,
   "id": "abfe8ccd-aeea-410f-9f3d-9fbc8c965d4e",
   "metadata": {},
   "outputs": [],
   "source": [
    "test=df2.aggregate({'Quantity':np.sum,'Price':np.mean})"
   ]
  },
  {
   "cell_type": "code",
   "execution_count": null,
   "id": "91dd3eaa-9455-4c36-9295-c246423b2150",
   "metadata": {},
   "outputs": [],
   "source": [
    "test.head()"
   ]
  },
  {
   "cell_type": "code",
   "execution_count": null,
   "id": "42a31154-7043-4e98-8348-80c743ccec08",
   "metadata": {},
   "outputs": [],
   "source": [
    "first_values = sorted(pd.DataFrame([t[0] for t in test2.index])[0].unique())"
   ]
  },
  {
   "cell_type": "code",
   "execution_count": null,
   "id": "fcfa9534-4b4f-4d7e-bc04-7154d02b6ff2",
   "metadata": {},
   "outputs": [],
   "source": [
    "first_values"
   ]
  },
  {
   "cell_type": "code",
   "execution_count": null,
   "id": "fc89ca9b-4b4f-4a07-a387-9e33635266df",
   "metadata": {},
   "outputs": [],
   "source": [
    "test2.loc[first_values[0]]['sold'].to_list()"
   ]
  },
  {
   "cell_type": "code",
   "execution_count": 50,
   "id": "c008a095-c88e-4bba-9644-3afd67791fdc",
   "metadata": {},
   "outputs": [],
   "source": [
    "x=pd.read_csv(\"hobby.csv\")"
   ]
  },
  {
   "cell_type": "code",
   "execution_count": 51,
   "id": "3ae11615-9f38-4dd6-99fd-999ec850700e",
   "metadata": {},
   "outputs": [],
   "source": [
    "def ped1(group):\n",
    "    X = sm.add_constant(group['sell_price'])\n",
    "    model = sm.OLS(group['sold'], X).fit()\n",
    "    price_coef = model.params['sell_price']\n",
    "    mean_sellprice = np.mean(group['sell_price'])\n",
    "    mean_quantity = np.mean(group['sold'])\n",
    "    ped = price_coef * (mean_sellprice / mean_quantity)\n",
    "\n",
    "    return ped"
   ]
  },
  {
   "cell_type": "code",
   "execution_count": null,
   "id": "002757d9-d34f-468f-896d-f74ffb23b49d",
   "metadata": {},
   "outputs": [],
   "source": [
    "print(x.groupby(['cat_id']).apply(ped1))"
   ]
  },
  {
   "cell_type": "code",
   "execution_count": 45,
   "id": "3cc99bdb-d438-4d99-9bc0-9382a46ba53d",
   "metadata": {},
   "outputs": [
    {
     "data": {
      "text/html": [
       "<div>\n",
       "<style scoped>\n",
       "    .dataframe tbody tr th:only-of-type {\n",
       "        vertical-align: middle;\n",
       "    }\n",
       "\n",
       "    .dataframe tbody tr th {\n",
       "        vertical-align: top;\n",
       "    }\n",
       "\n",
       "    .dataframe thead th {\n",
       "        text-align: right;\n",
       "    }\n",
       "</style>\n",
       "<table border=\"1\" class=\"dataframe\">\n",
       "  <thead>\n",
       "    <tr style=\"text-align: right;\">\n",
       "      <th></th>\n",
       "      <th>id</th>\n",
       "      <th>cat_id</th>\n",
       "      <th>store_id</th>\n",
       "      <th>sold</th>\n",
       "      <th>YearMonth</th>\n",
       "      <th>date</th>\n",
       "      <th>event_name_1</th>\n",
       "      <th>event_type_1</th>\n",
       "      <th>event_name_2</th>\n",
       "      <th>event_type_2</th>\n",
       "      <th>snap_CA</th>\n",
       "      <th>snap_TX</th>\n",
       "      <th>snap_WI</th>\n",
       "      <th>sell_price</th>\n",
       "    </tr>\n",
       "  </thead>\n",
       "  <tbody>\n",
       "    <tr>\n",
       "      <th>0</th>\n",
       "      <td>HOBBIES_1_266_WI_1</td>\n",
       "      <td>HOBBIES</td>\n",
       "      <td>WI_1</td>\n",
       "      <td>0</td>\n",
       "      <td>2014-04</td>\n",
       "      <td>2014-04-04</td>\n",
       "      <td>NaN</td>\n",
       "      <td>NaN</td>\n",
       "      <td>NaN</td>\n",
       "      <td>NaN</td>\n",
       "      <td>1</td>\n",
       "      <td>0</td>\n",
       "      <td>0</td>\n",
       "      <td>4.66</td>\n",
       "    </tr>\n",
       "    <tr>\n",
       "      <th>1</th>\n",
       "      <td>HOBBIES_1_070_CA_4</td>\n",
       "      <td>HOBBIES</td>\n",
       "      <td>CA_4</td>\n",
       "      <td>0</td>\n",
       "      <td>2013-03</td>\n",
       "      <td>2013-03-31</td>\n",
       "      <td>Easter</td>\n",
       "      <td>Cultural</td>\n",
       "      <td>NaN</td>\n",
       "      <td>NaN</td>\n",
       "      <td>0</td>\n",
       "      <td>0</td>\n",
       "      <td>0</td>\n",
       "      <td>5.88</td>\n",
       "    </tr>\n",
       "    <tr>\n",
       "      <th>2</th>\n",
       "      <td>HOBBIES_2_027_CA_1</td>\n",
       "      <td>HOBBIES</td>\n",
       "      <td>CA_1</td>\n",
       "      <td>0</td>\n",
       "      <td>2015-07</td>\n",
       "      <td>2015-07-31</td>\n",
       "      <td>NaN</td>\n",
       "      <td>NaN</td>\n",
       "      <td>NaN</td>\n",
       "      <td>NaN</td>\n",
       "      <td>0</td>\n",
       "      <td>0</td>\n",
       "      <td>0</td>\n",
       "      <td>1.97</td>\n",
       "    </tr>\n",
       "    <tr>\n",
       "      <th>3</th>\n",
       "      <td>HOBBIES_1_346_CA_4</td>\n",
       "      <td>HOBBIES</td>\n",
       "      <td>CA_4</td>\n",
       "      <td>0</td>\n",
       "      <td>2015-03</td>\n",
       "      <td>2015-03-10</td>\n",
       "      <td>NaN</td>\n",
       "      <td>NaN</td>\n",
       "      <td>NaN</td>\n",
       "      <td>NaN</td>\n",
       "      <td>1</td>\n",
       "      <td>0</td>\n",
       "      <td>0</td>\n",
       "      <td>3.97</td>\n",
       "    </tr>\n",
       "    <tr>\n",
       "      <th>4</th>\n",
       "      <td>HOBBIES_2_011_TX_1</td>\n",
       "      <td>HOBBIES</td>\n",
       "      <td>TX_1</td>\n",
       "      <td>0</td>\n",
       "      <td>2012-07</td>\n",
       "      <td>2012-07-26</td>\n",
       "      <td>NaN</td>\n",
       "      <td>NaN</td>\n",
       "      <td>NaN</td>\n",
       "      <td>NaN</td>\n",
       "      <td>0</td>\n",
       "      <td>0</td>\n",
       "      <td>0</td>\n",
       "      <td>0.97</td>\n",
       "    </tr>\n",
       "    <tr>\n",
       "      <th>...</th>\n",
       "      <td>...</td>\n",
       "      <td>...</td>\n",
       "      <td>...</td>\n",
       "      <td>...</td>\n",
       "      <td>...</td>\n",
       "      <td>...</td>\n",
       "      <td>...</td>\n",
       "      <td>...</td>\n",
       "      <td>...</td>\n",
       "      <td>...</td>\n",
       "      <td>...</td>\n",
       "      <td>...</td>\n",
       "      <td>...</td>\n",
       "      <td>...</td>\n",
       "    </tr>\n",
       "    <tr>\n",
       "      <th>8800880</th>\n",
       "      <td>HOBBIES_1_343_TX_3</td>\n",
       "      <td>HOBBIES</td>\n",
       "      <td>TX_3</td>\n",
       "      <td>3</td>\n",
       "      <td>2016-02</td>\n",
       "      <td>2016-02-06</td>\n",
       "      <td>NaN</td>\n",
       "      <td>NaN</td>\n",
       "      <td>NaN</td>\n",
       "      <td>NaN</td>\n",
       "      <td>1</td>\n",
       "      <td>1</td>\n",
       "      <td>1</td>\n",
       "      <td>5.32</td>\n",
       "    </tr>\n",
       "    <tr>\n",
       "      <th>8800881</th>\n",
       "      <td>HOBBIES_1_053_TX_3</td>\n",
       "      <td>HOBBIES</td>\n",
       "      <td>TX_3</td>\n",
       "      <td>0</td>\n",
       "      <td>2014-08</td>\n",
       "      <td>2014-08-10</td>\n",
       "      <td>NaN</td>\n",
       "      <td>NaN</td>\n",
       "      <td>NaN</td>\n",
       "      <td>NaN</td>\n",
       "      <td>1</td>\n",
       "      <td>0</td>\n",
       "      <td>0</td>\n",
       "      <td>3.97</td>\n",
       "    </tr>\n",
       "    <tr>\n",
       "      <th>8800882</th>\n",
       "      <td>HOBBIES_1_274_CA_1</td>\n",
       "      <td>HOBBIES</td>\n",
       "      <td>CA_1</td>\n",
       "      <td>0</td>\n",
       "      <td>2012-12</td>\n",
       "      <td>2012-12-18</td>\n",
       "      <td>NaN</td>\n",
       "      <td>NaN</td>\n",
       "      <td>NaN</td>\n",
       "      <td>NaN</td>\n",
       "      <td>0</td>\n",
       "      <td>0</td>\n",
       "      <td>0</td>\n",
       "      <td>9.88</td>\n",
       "    </tr>\n",
       "    <tr>\n",
       "      <th>8800883</th>\n",
       "      <td>HOBBIES_1_231_CA_2</td>\n",
       "      <td>HOBBIES</td>\n",
       "      <td>CA_2</td>\n",
       "      <td>1</td>\n",
       "      <td>2012-06</td>\n",
       "      <td>2012-06-22</td>\n",
       "      <td>NaN</td>\n",
       "      <td>NaN</td>\n",
       "      <td>NaN</td>\n",
       "      <td>NaN</td>\n",
       "      <td>0</td>\n",
       "      <td>0</td>\n",
       "      <td>0</td>\n",
       "      <td>6.87</td>\n",
       "    </tr>\n",
       "    <tr>\n",
       "      <th>8800884</th>\n",
       "      <td>HOBBIES_1_424_CA_3</td>\n",
       "      <td>HOBBIES</td>\n",
       "      <td>CA_3</td>\n",
       "      <td>0</td>\n",
       "      <td>2016-03</td>\n",
       "      <td>2016-03-02</td>\n",
       "      <td>NaN</td>\n",
       "      <td>NaN</td>\n",
       "      <td>NaN</td>\n",
       "      <td>NaN</td>\n",
       "      <td>1</td>\n",
       "      <td>0</td>\n",
       "      <td>1</td>\n",
       "      <td>1.77</td>\n",
       "    </tr>\n",
       "  </tbody>\n",
       "</table>\n",
       "<p>8800885 rows × 14 columns</p>\n",
       "</div>"
      ],
      "text/plain": [
       "                         id   cat_id store_id  sold YearMonth        date  \\\n",
       "0        HOBBIES_1_266_WI_1  HOBBIES     WI_1     0   2014-04  2014-04-04   \n",
       "1        HOBBIES_1_070_CA_4  HOBBIES     CA_4     0   2013-03  2013-03-31   \n",
       "2        HOBBIES_2_027_CA_1  HOBBIES     CA_1     0   2015-07  2015-07-31   \n",
       "3        HOBBIES_1_346_CA_4  HOBBIES     CA_4     0   2015-03  2015-03-10   \n",
       "4        HOBBIES_2_011_TX_1  HOBBIES     TX_1     0   2012-07  2012-07-26   \n",
       "...                     ...      ...      ...   ...       ...         ...   \n",
       "8800880  HOBBIES_1_343_TX_3  HOBBIES     TX_3     3   2016-02  2016-02-06   \n",
       "8800881  HOBBIES_1_053_TX_3  HOBBIES     TX_3     0   2014-08  2014-08-10   \n",
       "8800882  HOBBIES_1_274_CA_1  HOBBIES     CA_1     0   2012-12  2012-12-18   \n",
       "8800883  HOBBIES_1_231_CA_2  HOBBIES     CA_2     1   2012-06  2012-06-22   \n",
       "8800884  HOBBIES_1_424_CA_3  HOBBIES     CA_3     0   2016-03  2016-03-02   \n",
       "\n",
       "        event_name_1 event_type_1 event_name_2 event_type_2  snap_CA  snap_TX  \\\n",
       "0                NaN          NaN          NaN          NaN        1        0   \n",
       "1             Easter     Cultural          NaN          NaN        0        0   \n",
       "2                NaN          NaN          NaN          NaN        0        0   \n",
       "3                NaN          NaN          NaN          NaN        1        0   \n",
       "4                NaN          NaN          NaN          NaN        0        0   \n",
       "...              ...          ...          ...          ...      ...      ...   \n",
       "8800880          NaN          NaN          NaN          NaN        1        1   \n",
       "8800881          NaN          NaN          NaN          NaN        1        0   \n",
       "8800882          NaN          NaN          NaN          NaN        0        0   \n",
       "8800883          NaN          NaN          NaN          NaN        0        0   \n",
       "8800884          NaN          NaN          NaN          NaN        1        0   \n",
       "\n",
       "         snap_WI  sell_price  \n",
       "0              0        4.66  \n",
       "1              0        5.88  \n",
       "2              0        1.97  \n",
       "3              0        3.97  \n",
       "4              0        0.97  \n",
       "...          ...         ...  \n",
       "8800880        1        5.32  \n",
       "8800881        0        3.97  \n",
       "8800882        0        9.88  \n",
       "8800883        0        6.87  \n",
       "8800884        1        1.77  \n",
       "\n",
       "[8800885 rows x 14 columns]"
      ]
     },
     "execution_count": 45,
     "metadata": {},
     "output_type": "execute_result"
    }
   ],
   "source": [
    "x"
   ]
  },
  {
   "cell_type": "code",
   "execution_count": null,
   "id": "1572e930-e768-4f73-b495-70a2d00344ea",
   "metadata": {},
   "outputs": [],
   "source": [
    "def calc_ped(grouped,values,disc):\n",
    "    final=[]\n",
    "    for i in range(len(values)):\n",
    "        X = sm.add_constant(grouped.loc[values[i]]['sell_price'])\n",
    "        model = sm.OLS(grouped.loc[values[i]]['sold'], X).fit()\n",
    "        mean_sellprice = np.mean(grouped.loc[values[i]]['sell_price'])\n",
    "        mean_quantity = np.mean(grouped.loc[values[i]]['sold'])\n",
    "        ped = model.params['sell_price'] * (mean_sellprice / mean_quantity)\n",
    "        last_quantity=grouped.loc[values[i]]['sold'].iloc[-1]\n",
    "        last_price=grouped.loc[values[i]]['sell_price'].iloc[-1]\n",
    "        new_quantity=last_quantity*(1+ped*(last_price*((100-disc)/100)-last_price)/last_price)\n",
    "        cat=grouped.loc[values[i]].index[0][1]\n",
    "        state=grouped.loc[values[i]].index[0][2]\n",
    "        final.append([values[i],cat,state,-abs(ped),abs(new_quantity)])\n",
    "    final=pd.DataFrame(final,columns=[\"Product ID\",\"Category\",\"State ID\",\"Predicted PED\",\"Predicted Quantity\"])\n",
    "    return final"
   ]
  },
  {
   "cell_type": "code",
   "execution_count": 7,
   "id": "24791cb6-1c5b-41a3-be5f-b8007442ad9a",
   "metadata": {},
   "outputs": [
    {
     "name": "stderr",
     "output_type": "stream",
     "text": [
      "C:\\Users\\lywt9\\AppData\\Local\\Temp\\ipykernel_26336\\2949952999.py:1: FutureWarning: The provided callable <function sum at 0x0000024839732160> is currently using SeriesGroupBy.sum. In a future version of pandas, the provided callable will be used directly. To keep current behavior pass the string \"sum\" instead.\n",
      "  test2=x.aggregate({'sold':np.sum,'sell_price':np.mean})\n",
      "C:\\Users\\lywt9\\AppData\\Local\\Temp\\ipykernel_26336\\2949952999.py:1: FutureWarning: The provided callable <function mean at 0x0000024839733240> is currently using SeriesGroupBy.mean. In a future version of pandas, the provided callable will be used directly. To keep current behavior pass the string \"mean\" instead.\n",
      "  test2=x.aggregate({'sold':np.sum,'sell_price':np.mean})\n"
     ]
    }
   ],
   "source": [
    "test2=x.aggregate({'sold':np.sum,'sell_price':np.mean})"
   ]
  },
  {
   "cell_type": "code",
   "execution_count": 8,
   "id": "e3b3f60f-4dae-43b6-8f18-cd3a32447350",
   "metadata": {},
   "outputs": [
    {
     "data": {
      "text/html": [
       "<div>\n",
       "<style scoped>\n",
       "    .dataframe tbody tr th:only-of-type {\n",
       "        vertical-align: middle;\n",
       "    }\n",
       "\n",
       "    .dataframe tbody tr th {\n",
       "        vertical-align: top;\n",
       "    }\n",
       "\n",
       "    .dataframe thead th {\n",
       "        text-align: right;\n",
       "    }\n",
       "</style>\n",
       "<table border=\"1\" class=\"dataframe\">\n",
       "  <thead>\n",
       "    <tr style=\"text-align: right;\">\n",
       "      <th></th>\n",
       "      <th>sold</th>\n",
       "      <th>sell_price</th>\n",
       "    </tr>\n",
       "    <tr>\n",
       "      <th>cat_id</th>\n",
       "      <th></th>\n",
       "      <th></th>\n",
       "    </tr>\n",
       "  </thead>\n",
       "  <tbody>\n",
       "    <tr>\n",
       "      <th>HOBBIES</th>\n",
       "      <td>6240656</td>\n",
       "      <td>5.329587</td>\n",
       "    </tr>\n",
       "  </tbody>\n",
       "</table>\n",
       "</div>"
      ],
      "text/plain": [
       "            sold  sell_price\n",
       "cat_id                      \n",
       "HOBBIES  6240656    5.329587"
      ]
     },
     "execution_count": 8,
     "metadata": {},
     "output_type": "execute_result"
    }
   ],
   "source": [
    "test2"
   ]
  },
  {
   "cell_type": "code",
   "execution_count": null,
   "id": "9e62888a-b9d7-4921-8a3d-a994996e64f1",
   "metadata": {},
   "outputs": [],
   "source": [
    "df[df['ID']=='HOBBIES_1_001_CA_1_validation']"
   ]
  },
  {
   "cell_type": "code",
   "execution_count": null,
   "id": "a418c4dd-24ff-4ee2-b215-fe889ee81a8a",
   "metadata": {},
   "outputs": [],
   "source": []
  },
  {
   "cell_type": "code",
   "execution_count": null,
   "id": "b20e5841-14c8-475e-8112-5327235bc5f4",
   "metadata": {},
   "outputs": [],
   "source": [
    "X = sm.add_constant(test2['sell_price'])"
   ]
  },
  {
   "cell_type": "code",
   "execution_count": null,
   "id": "437d2fdf-f345-4427-aec5-8c0f105eb69a",
   "metadata": {},
   "outputs": [],
   "source": [
    "test2['sold']"
   ]
  },
  {
   "cell_type": "code",
   "execution_count": null,
   "id": "49f38bf9-b39d-4b13-973b-08d89ee05825",
   "metadata": {},
   "outputs": [],
   "source": [
    "model = sm.OLS(test2['sold'], X).fit()"
   ]
  },
  {
   "cell_type": "code",
   "execution_count": null,
   "id": "6b6578ec-11e2-419f-9250-51bad515ad73",
   "metadata": {},
   "outputs": [],
   "source": [
    "model.summary()"
   ]
  },
  {
   "cell_type": "code",
   "execution_count": null,
   "id": "145350e1-f849-4ed7-bf5b-091867e9dab4",
   "metadata": {},
   "outputs": [],
   "source": [
    "model.params"
   ]
  },
  {
   "cell_type": "code",
   "execution_count": null,
   "id": "a8e35e74-64c5-47bc-9353-c0c8b4540bef",
   "metadata": {},
   "outputs": [],
   "source": []
  }
 ],
 "metadata": {
  "kernelspec": {
   "display_name": "Python 3 (ipykernel)",
   "language": "python",
   "name": "python3"
  },
  "language_info": {
   "codemirror_mode": {
    "name": "ipython",
    "version": 3
   },
   "file_extension": ".py",
   "mimetype": "text/x-python",
   "name": "python",
   "nbconvert_exporter": "python",
   "pygments_lexer": "ipython3",
   "version": "3.11.7"
  }
 },
 "nbformat": 4,
 "nbformat_minor": 5
}
