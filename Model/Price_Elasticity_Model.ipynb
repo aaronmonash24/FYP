{
 "cells": [
  {
   "cell_type": "code",
   "execution_count": 1,
   "id": "11ab53ca",
   "metadata": {},
   "outputs": [],
   "source": [
    "import pandas as pd\n",
    "import math\n",
    "import statsmodels.api as sm\n",
    "import statsmodels.formula.api as smf\n",
    "from statsmodels.compat import lzip"
   ]
  },
  {
   "cell_type": "code",
   "execution_count": 2,
   "id": "03de7f78",
   "metadata": {},
   "outputs": [],
   "source": [
    "import matplotlib.pyplot as plt\n",
    "import numpy as np"
   ]
  },
  {
   "cell_type": "code",
   "execution_count": 3,
   "id": "97cc5d5e",
   "metadata": {},
   "outputs": [
    {
     "ename": "FileNotFoundError",
     "evalue": "[Errno 2] No such file or directory: 'sales_train_evaluation.csv'",
     "output_type": "error",
     "traceback": [
      "\u001b[1;31m---------------------------------------------------------------------------\u001b[0m",
      "\u001b[1;31mFileNotFoundError\u001b[0m                         Traceback (most recent call last)",
      "\u001b[1;32m~\\AppData\\Local\\Temp/ipykernel_28228/2353377595.py\u001b[0m in \u001b[0;36m<module>\u001b[1;34m\u001b[0m\n\u001b[1;32m----> 1\u001b[1;33m \u001b[0msales_train_evaluation\u001b[0m \u001b[1;33m=\u001b[0m \u001b[0mpd\u001b[0m\u001b[1;33m.\u001b[0m\u001b[0mread_csv\u001b[0m\u001b[1;33m(\u001b[0m\u001b[1;34m'sales_train_evaluation.csv'\u001b[0m\u001b[1;33m)\u001b[0m\u001b[1;33m\u001b[0m\u001b[1;33m\u001b[0m\u001b[0m\n\u001b[0m",
      "\u001b[1;32m~\\anaconda3\\lib\\site-packages\\pandas\\util\\_decorators.py\u001b[0m in \u001b[0;36mwrapper\u001b[1;34m(*args, **kwargs)\u001b[0m\n\u001b[0;32m    309\u001b[0m                     \u001b[0mstacklevel\u001b[0m\u001b[1;33m=\u001b[0m\u001b[0mstacklevel\u001b[0m\u001b[1;33m,\u001b[0m\u001b[1;33m\u001b[0m\u001b[1;33m\u001b[0m\u001b[0m\n\u001b[0;32m    310\u001b[0m                 )\n\u001b[1;32m--> 311\u001b[1;33m             \u001b[1;32mreturn\u001b[0m \u001b[0mfunc\u001b[0m\u001b[1;33m(\u001b[0m\u001b[1;33m*\u001b[0m\u001b[0margs\u001b[0m\u001b[1;33m,\u001b[0m \u001b[1;33m**\u001b[0m\u001b[0mkwargs\u001b[0m\u001b[1;33m)\u001b[0m\u001b[1;33m\u001b[0m\u001b[1;33m\u001b[0m\u001b[0m\n\u001b[0m\u001b[0;32m    312\u001b[0m \u001b[1;33m\u001b[0m\u001b[0m\n\u001b[0;32m    313\u001b[0m         \u001b[1;32mreturn\u001b[0m \u001b[0mwrapper\u001b[0m\u001b[1;33m\u001b[0m\u001b[1;33m\u001b[0m\u001b[0m\n",
      "\u001b[1;32m~\\anaconda3\\lib\\site-packages\\pandas\\io\\parsers\\readers.py\u001b[0m in \u001b[0;36mread_csv\u001b[1;34m(filepath_or_buffer, sep, delimiter, header, names, index_col, usecols, squeeze, prefix, mangle_dupe_cols, dtype, engine, converters, true_values, false_values, skipinitialspace, skiprows, skipfooter, nrows, na_values, keep_default_na, na_filter, verbose, skip_blank_lines, parse_dates, infer_datetime_format, keep_date_col, date_parser, dayfirst, cache_dates, iterator, chunksize, compression, thousands, decimal, lineterminator, quotechar, quoting, doublequote, escapechar, comment, encoding, encoding_errors, dialect, error_bad_lines, warn_bad_lines, on_bad_lines, delim_whitespace, low_memory, memory_map, float_precision, storage_options)\u001b[0m\n\u001b[0;32m    584\u001b[0m     \u001b[0mkwds\u001b[0m\u001b[1;33m.\u001b[0m\u001b[0mupdate\u001b[0m\u001b[1;33m(\u001b[0m\u001b[0mkwds_defaults\u001b[0m\u001b[1;33m)\u001b[0m\u001b[1;33m\u001b[0m\u001b[1;33m\u001b[0m\u001b[0m\n\u001b[0;32m    585\u001b[0m \u001b[1;33m\u001b[0m\u001b[0m\n\u001b[1;32m--> 586\u001b[1;33m     \u001b[1;32mreturn\u001b[0m \u001b[0m_read\u001b[0m\u001b[1;33m(\u001b[0m\u001b[0mfilepath_or_buffer\u001b[0m\u001b[1;33m,\u001b[0m \u001b[0mkwds\u001b[0m\u001b[1;33m)\u001b[0m\u001b[1;33m\u001b[0m\u001b[1;33m\u001b[0m\u001b[0m\n\u001b[0m\u001b[0;32m    587\u001b[0m \u001b[1;33m\u001b[0m\u001b[0m\n\u001b[0;32m    588\u001b[0m \u001b[1;33m\u001b[0m\u001b[0m\n",
      "\u001b[1;32m~\\anaconda3\\lib\\site-packages\\pandas\\io\\parsers\\readers.py\u001b[0m in \u001b[0;36m_read\u001b[1;34m(filepath_or_buffer, kwds)\u001b[0m\n\u001b[0;32m    480\u001b[0m \u001b[1;33m\u001b[0m\u001b[0m\n\u001b[0;32m    481\u001b[0m     \u001b[1;31m# Create the parser.\u001b[0m\u001b[1;33m\u001b[0m\u001b[1;33m\u001b[0m\u001b[0m\n\u001b[1;32m--> 482\u001b[1;33m     \u001b[0mparser\u001b[0m \u001b[1;33m=\u001b[0m \u001b[0mTextFileReader\u001b[0m\u001b[1;33m(\u001b[0m\u001b[0mfilepath_or_buffer\u001b[0m\u001b[1;33m,\u001b[0m \u001b[1;33m**\u001b[0m\u001b[0mkwds\u001b[0m\u001b[1;33m)\u001b[0m\u001b[1;33m\u001b[0m\u001b[1;33m\u001b[0m\u001b[0m\n\u001b[0m\u001b[0;32m    483\u001b[0m \u001b[1;33m\u001b[0m\u001b[0m\n\u001b[0;32m    484\u001b[0m     \u001b[1;32mif\u001b[0m \u001b[0mchunksize\u001b[0m \u001b[1;32mor\u001b[0m \u001b[0miterator\u001b[0m\u001b[1;33m:\u001b[0m\u001b[1;33m\u001b[0m\u001b[1;33m\u001b[0m\u001b[0m\n",
      "\u001b[1;32m~\\anaconda3\\lib\\site-packages\\pandas\\io\\parsers\\readers.py\u001b[0m in \u001b[0;36m__init__\u001b[1;34m(self, f, engine, **kwds)\u001b[0m\n\u001b[0;32m    809\u001b[0m             \u001b[0mself\u001b[0m\u001b[1;33m.\u001b[0m\u001b[0moptions\u001b[0m\u001b[1;33m[\u001b[0m\u001b[1;34m\"has_index_names\"\u001b[0m\u001b[1;33m]\u001b[0m \u001b[1;33m=\u001b[0m \u001b[0mkwds\u001b[0m\u001b[1;33m[\u001b[0m\u001b[1;34m\"has_index_names\"\u001b[0m\u001b[1;33m]\u001b[0m\u001b[1;33m\u001b[0m\u001b[1;33m\u001b[0m\u001b[0m\n\u001b[0;32m    810\u001b[0m \u001b[1;33m\u001b[0m\u001b[0m\n\u001b[1;32m--> 811\u001b[1;33m         \u001b[0mself\u001b[0m\u001b[1;33m.\u001b[0m\u001b[0m_engine\u001b[0m \u001b[1;33m=\u001b[0m \u001b[0mself\u001b[0m\u001b[1;33m.\u001b[0m\u001b[0m_make_engine\u001b[0m\u001b[1;33m(\u001b[0m\u001b[0mself\u001b[0m\u001b[1;33m.\u001b[0m\u001b[0mengine\u001b[0m\u001b[1;33m)\u001b[0m\u001b[1;33m\u001b[0m\u001b[1;33m\u001b[0m\u001b[0m\n\u001b[0m\u001b[0;32m    812\u001b[0m \u001b[1;33m\u001b[0m\u001b[0m\n\u001b[0;32m    813\u001b[0m     \u001b[1;32mdef\u001b[0m \u001b[0mclose\u001b[0m\u001b[1;33m(\u001b[0m\u001b[0mself\u001b[0m\u001b[1;33m)\u001b[0m\u001b[1;33m:\u001b[0m\u001b[1;33m\u001b[0m\u001b[1;33m\u001b[0m\u001b[0m\n",
      "\u001b[1;32m~\\anaconda3\\lib\\site-packages\\pandas\\io\\parsers\\readers.py\u001b[0m in \u001b[0;36m_make_engine\u001b[1;34m(self, engine)\u001b[0m\n\u001b[0;32m   1038\u001b[0m             )\n\u001b[0;32m   1039\u001b[0m         \u001b[1;31m# error: Too many arguments for \"ParserBase\"\u001b[0m\u001b[1;33m\u001b[0m\u001b[1;33m\u001b[0m\u001b[0m\n\u001b[1;32m-> 1040\u001b[1;33m         \u001b[1;32mreturn\u001b[0m \u001b[0mmapping\u001b[0m\u001b[1;33m[\u001b[0m\u001b[0mengine\u001b[0m\u001b[1;33m]\u001b[0m\u001b[1;33m(\u001b[0m\u001b[0mself\u001b[0m\u001b[1;33m.\u001b[0m\u001b[0mf\u001b[0m\u001b[1;33m,\u001b[0m \u001b[1;33m**\u001b[0m\u001b[0mself\u001b[0m\u001b[1;33m.\u001b[0m\u001b[0moptions\u001b[0m\u001b[1;33m)\u001b[0m  \u001b[1;31m# type: ignore[call-arg]\u001b[0m\u001b[1;33m\u001b[0m\u001b[1;33m\u001b[0m\u001b[0m\n\u001b[0m\u001b[0;32m   1041\u001b[0m \u001b[1;33m\u001b[0m\u001b[0m\n\u001b[0;32m   1042\u001b[0m     \u001b[1;32mdef\u001b[0m \u001b[0m_failover_to_python\u001b[0m\u001b[1;33m(\u001b[0m\u001b[0mself\u001b[0m\u001b[1;33m)\u001b[0m\u001b[1;33m:\u001b[0m\u001b[1;33m\u001b[0m\u001b[1;33m\u001b[0m\u001b[0m\n",
      "\u001b[1;32m~\\anaconda3\\lib\\site-packages\\pandas\\io\\parsers\\c_parser_wrapper.py\u001b[0m in \u001b[0;36m__init__\u001b[1;34m(self, src, **kwds)\u001b[0m\n\u001b[0;32m     49\u001b[0m \u001b[1;33m\u001b[0m\u001b[0m\n\u001b[0;32m     50\u001b[0m         \u001b[1;31m# open handles\u001b[0m\u001b[1;33m\u001b[0m\u001b[1;33m\u001b[0m\u001b[0m\n\u001b[1;32m---> 51\u001b[1;33m         \u001b[0mself\u001b[0m\u001b[1;33m.\u001b[0m\u001b[0m_open_handles\u001b[0m\u001b[1;33m(\u001b[0m\u001b[0msrc\u001b[0m\u001b[1;33m,\u001b[0m \u001b[0mkwds\u001b[0m\u001b[1;33m)\u001b[0m\u001b[1;33m\u001b[0m\u001b[1;33m\u001b[0m\u001b[0m\n\u001b[0m\u001b[0;32m     52\u001b[0m         \u001b[1;32massert\u001b[0m \u001b[0mself\u001b[0m\u001b[1;33m.\u001b[0m\u001b[0mhandles\u001b[0m \u001b[1;32mis\u001b[0m \u001b[1;32mnot\u001b[0m \u001b[1;32mNone\u001b[0m\u001b[1;33m\u001b[0m\u001b[1;33m\u001b[0m\u001b[0m\n\u001b[0;32m     53\u001b[0m \u001b[1;33m\u001b[0m\u001b[0m\n",
      "\u001b[1;32m~\\anaconda3\\lib\\site-packages\\pandas\\io\\parsers\\base_parser.py\u001b[0m in \u001b[0;36m_open_handles\u001b[1;34m(self, src, kwds)\u001b[0m\n\u001b[0;32m    220\u001b[0m         \u001b[0mLet\u001b[0m \u001b[0mthe\u001b[0m \u001b[0mreaders\u001b[0m \u001b[0mopen\u001b[0m \u001b[0mIOHandles\u001b[0m \u001b[0mafter\u001b[0m \u001b[0mthey\u001b[0m \u001b[0mare\u001b[0m \u001b[0mdone\u001b[0m \u001b[1;32mwith\u001b[0m \u001b[0mtheir\u001b[0m \u001b[0mpotential\u001b[0m \u001b[0mraises\u001b[0m\u001b[1;33m.\u001b[0m\u001b[1;33m\u001b[0m\u001b[1;33m\u001b[0m\u001b[0m\n\u001b[0;32m    221\u001b[0m         \"\"\"\n\u001b[1;32m--> 222\u001b[1;33m         self.handles = get_handle(\n\u001b[0m\u001b[0;32m    223\u001b[0m             \u001b[0msrc\u001b[0m\u001b[1;33m,\u001b[0m\u001b[1;33m\u001b[0m\u001b[1;33m\u001b[0m\u001b[0m\n\u001b[0;32m    224\u001b[0m             \u001b[1;34m\"r\"\u001b[0m\u001b[1;33m,\u001b[0m\u001b[1;33m\u001b[0m\u001b[1;33m\u001b[0m\u001b[0m\n",
      "\u001b[1;32m~\\anaconda3\\lib\\site-packages\\pandas\\io\\common.py\u001b[0m in \u001b[0;36mget_handle\u001b[1;34m(path_or_buf, mode, encoding, compression, memory_map, is_text, errors, storage_options)\u001b[0m\n\u001b[0;32m    700\u001b[0m         \u001b[1;32mif\u001b[0m \u001b[0mioargs\u001b[0m\u001b[1;33m.\u001b[0m\u001b[0mencoding\u001b[0m \u001b[1;32mand\u001b[0m \u001b[1;34m\"b\"\u001b[0m \u001b[1;32mnot\u001b[0m \u001b[1;32min\u001b[0m \u001b[0mioargs\u001b[0m\u001b[1;33m.\u001b[0m\u001b[0mmode\u001b[0m\u001b[1;33m:\u001b[0m\u001b[1;33m\u001b[0m\u001b[1;33m\u001b[0m\u001b[0m\n\u001b[0;32m    701\u001b[0m             \u001b[1;31m# Encoding\u001b[0m\u001b[1;33m\u001b[0m\u001b[1;33m\u001b[0m\u001b[0m\n\u001b[1;32m--> 702\u001b[1;33m             handle = open(\n\u001b[0m\u001b[0;32m    703\u001b[0m                 \u001b[0mhandle\u001b[0m\u001b[1;33m,\u001b[0m\u001b[1;33m\u001b[0m\u001b[1;33m\u001b[0m\u001b[0m\n\u001b[0;32m    704\u001b[0m                 \u001b[0mioargs\u001b[0m\u001b[1;33m.\u001b[0m\u001b[0mmode\u001b[0m\u001b[1;33m,\u001b[0m\u001b[1;33m\u001b[0m\u001b[1;33m\u001b[0m\u001b[0m\n",
      "\u001b[1;31mFileNotFoundError\u001b[0m: [Errno 2] No such file or directory: 'sales_train_evaluation.csv'"
     ]
    }
   ],
   "source": [
    "sales_train_evaluation = pd.read_csv('sales_train_evaluation.csv')"
   ]
  },
  {
   "cell_type": "code",
   "execution_count": null,
   "id": "ce2330a3",
   "metadata": {},
   "outputs": [],
   "source": [
    "sales_train_validation = pd.read_csv('sales_train_validation.csv')"
   ]
  },
  {
   "cell_type": "code",
   "execution_count": null,
   "id": "6dce280c",
   "metadata": {},
   "outputs": [],
   "source": [
    "sell_prices=pd.read_csv('sell_prices.csv')"
   ]
  },
  {
   "cell_type": "code",
   "execution_count": null,
   "id": "a28a7160",
   "metadata": {},
   "outputs": [],
   "source": [
    "sell_prices.head"
   ]
  },
  {
   "cell_type": "code",
   "execution_count": null,
   "id": "aab4e6ca",
   "metadata": {},
   "outputs": [],
   "source": [
    "sales_train_validation.head"
   ]
  },
  {
   "cell_type": "code",
   "execution_count": null,
   "id": "4e7ad925",
   "metadata": {},
   "outputs": [],
   "source": [
    "\n",
    "\n",
    "sales_train_validation"
   ]
  },
  {
   "cell_type": "code",
   "execution_count": null,
   "id": "389c8362",
   "metadata": {},
   "outputs": [],
   "source": [
    "df=pd.read_csv('sales_train_validation.csv')"
   ]
  },
  {
   "cell_type": "code",
   "execution_count": null,
   "id": "5784343d",
   "metadata": {},
   "outputs": [],
   "source": [
    "data=df"
   ]
  },
  {
   "cell_type": "code",
   "execution_count": null,
   "id": "8feb7b65",
   "metadata": {},
   "outputs": [],
   "source": [
    "def cal_days(data): #calculate and output a list of days \n",
    "    start_day=1\n",
    "    day_format=\"d_\"\n",
    "    converted=False\n",
    "    cols=[]\n",
    "    for j in range(math.ceil((len(data)-6)//7) ):\n",
    "        for i in range(1,8):\n",
    "            cols.append(day_format+str(start_day))\n",
    "            start_day=start_day+1\n",
    "    return cols\n",
    "\n",
    "\n",
    "    "
   ]
  },
  {
   "cell_type": "code",
   "execution_count": null,
   "id": "dbabb586",
   "metadata": {},
   "outputs": [],
   "source": [
    "len(cols)"
   ]
  },
  {
   "cell_type": "code",
   "execution_count": null,
   "id": "9e2c3825",
   "metadata": {},
   "outputs": [],
   "source": [
    "def create_week(cols,df): # create columns for each week and quantity of products sold that week\n",
    "    for i in range(0,len(cols),7):\n",
    "        temp=cols[i:i+7]\n",
    "\n",
    "        df[\"week\" +str(int(i/7+1))]=df[temp].sum(axis=1)\n",
    "    "
   ]
  },
  {
   "cell_type": "code",
   "execution_count": null,
   "id": "4fd58193",
   "metadata": {},
   "outputs": [],
   "source": [
    "create_week(cols,df)\n",
    "df"
   ]
  },
  {
   "cell_type": "code",
   "execution_count": null,
   "id": "214d405e",
   "metadata": {},
   "outputs": [],
   "source": [
    "def cal_extra_days(data):# calcualte extra days not included in weeks listed\n",
    "    if not ((len(data.columns)-6)/7).is_integer():\n",
    "        extra_days=(len(data.columns)-6)-(((len(data.columns)-6)//7)*7)\n",
    "    return extra_days"
   ]
  },
  {
   "cell_type": "code",
   "execution_count": null,
   "id": "658000ad",
   "metadata": {},
   "outputs": [],
   "source": [
    "extra_days=cal_extra_days(data)\n",
    "extra_days"
   ]
  },
  {
   "cell_type": "code",
   "execution_count": null,
   "id": "e2fdb3ee",
   "metadata": {},
   "outputs": [],
   "source": [
    "def add_extra_days_col(data,cols): # add extra days to list to sum all later to week\n",
    "    temp_col=[]\n",
    "    extra_days=cal_extra_days(data) \n",
    "    for i in range(((len(cols))//7)*7+1,((len(cols))//7)*7+extra_days+1):\n",
    "        temp=\"d_\"+str(i)\n",
    "        temp_col.append(temp)   \n",
    "    \n",
    "    data[\"week\" +str((len(cols))//7+1)]=data[temp_col].sum(axis=1)"
   ]
  },
  {
   "cell_type": "code",
   "execution_count": null,
   "id": "c2f48b02",
   "metadata": {},
   "outputs": [],
   "source": [
    "add_extra_days_col(df,cols)\n",
    "df"
   ]
  },
  {
   "cell_type": "code",
   "execution_count": null,
   "id": "947c186c",
   "metadata": {},
   "outputs": [],
   "source": [
    "df"
   ]
  },
  {
   "cell_type": "code",
   "execution_count": null,
   "id": "4e71a3e3",
   "metadata": {},
   "outputs": [],
   "source": [
    "def create_week_sales_info(df,cols):\n",
    "    info_sales=df.iloc[:,:6]\n",
    "    week_sales=df.iloc[:,-math.ceil((len(cols))/7):]\n",
    "    result_df = pd.concat([info_sales, week_sales], axis=1)\n",
    "    return result_df"
   ]
  },
  {
   "cell_type": "code",
   "execution_count": null,
   "id": "297623de",
   "metadata": {},
   "outputs": [],
   "source": [
    "result_df=create_week_sales_info(df,cols)\n",
    "result_df"
   ]
  },
  {
   "cell_type": "code",
   "execution_count": null,
   "id": "a99669d1",
   "metadata": {},
   "outputs": [],
   "source": [
    "result_df"
   ]
  },
  {
   "cell_type": "code",
   "execution_count": null,
   "id": "bc66c078",
   "metadata": {},
   "outputs": [],
   "source": [
    "def create_data_predict(result,sell_data):\n",
    "    start_week=\"week\"+str((int(str(sell_data.iloc[0,2])[2])*52-52+int(str(sell_data.iloc[0,2])[3:])))\n",
    "    x=result_df.loc[1][start_week:].values.tolist()\n",
    "    y=sell_data.iloc[0:146,3].values.tolist()\n",
    "\n",
    "    return x,y"
   ]
  },
  {
   "cell_type": "code",
   "execution_count": null,
   "id": "e8949d62",
   "metadata": {},
   "outputs": [],
   "source": [
    "x,y=create_data_predict(result_df,sell_prices)"
   ]
  },
  {
   "cell_type": "code",
   "execution_count": null,
   "id": "e2224f05",
   "metadata": {},
   "outputs": [],
   "source": [
    "len(x)"
   ]
  },
  {
   "cell_type": "code",
   "execution_count": null,
   "id": "8235cbb0",
   "metadata": {},
   "outputs": [],
   "source": [
    "y"
   ]
  },
  {
   "cell_type": "code",
   "execution_count": null,
   "id": "064f1143",
   "metadata": {},
   "outputs": [],
   "source": [
    "x=result_df.loc[1][start_week:]"
   ]
  },
  {
   "cell_type": "code",
   "execution_count": null,
   "id": "8c3d9e9f",
   "metadata": {},
   "outputs": [],
   "source": [
    "y=sell_prices.iloc[0:146,3]"
   ]
  },
  {
   "cell_type": "code",
   "execution_count": null,
   "id": "a1948b8f",
   "metadata": {},
   "outputs": [],
   "source": [
    "y"
   ]
  },
  {
   "cell_type": "code",
   "execution_count": null,
   "id": "693813aa",
   "metadata": {},
   "outputs": [],
   "source": [
    "data = pd.concat([x,y], axis=1,ignore_index=False)"
   ]
  },
  {
   "cell_type": "code",
   "execution_count": null,
   "id": "39fe3cb5",
   "metadata": {},
   "outputs": [],
   "source": [
    "x= sm.add_constant(x)"
   ]
  },
  {
   "cell_type": "code",
   "execution_count": null,
   "id": "1bd09b6f",
   "metadata": {},
   "outputs": [],
   "source": [
    "model = sm.OLS(y,x)"
   ]
  },
  {
   "cell_type": "code",
   "execution_count": null,
   "id": "3916a431",
   "metadata": {},
   "outputs": [],
   "source": [
    "results = model.fit()"
   ]
  },
  {
   "cell_type": "code",
   "execution_count": null,
   "id": "893709e5",
   "metadata": {},
   "outputs": [],
   "source": [
    "results.params"
   ]
  },
  {
   "cell_type": "code",
   "execution_count": null,
   "id": "713dc293",
   "metadata": {},
   "outputs": [],
   "source": [
    "results.tvalues"
   ]
  },
  {
   "cell_type": "code",
   "execution_count": null,
   "id": "a834a7d6",
   "metadata": {},
   "outputs": [],
   "source": [
    "print(results.t_test([1, 0]))"
   ]
  },
  {
   "cell_type": "code",
   "execution_count": null,
   "id": "b17fb5d5",
   "metadata": {},
   "outputs": [],
   "source": [
    "model=sm.OLS(y, x).fit()"
   ]
  },
  {
   "cell_type": "code",
   "execution_count": null,
   "id": "f6460e98",
   "metadata": {},
   "outputs": [],
   "source": [
    "sm.OLS(y,x).fit().summary()"
   ]
  },
  {
   "cell_type": "code",
   "execution_count": null,
   "id": "ad588f84",
   "metadata": {},
   "outputs": [],
   "source": [
    "plt.rc(\"figure\", figsize=(16, 8))\n"
   ]
  },
  {
   "cell_type": "code",
   "execution_count": null,
   "id": "0df6cb7f",
   "metadata": {},
   "outputs": [],
   "source": [
    "plt.rc(\"font\", size=14)"
   ]
  },
  {
   "cell_type": "code",
   "execution_count": null,
   "id": "e06ecbe8",
   "metadata": {},
   "outputs": [],
   "source": [
    "import seaborn as sns"
   ]
  },
  {
   "cell_type": "code",
   "execution_count": null,
   "id": "ca8dc8c1",
   "metadata": {},
   "outputs": [],
   "source": [
    "p=model.params"
   ]
  },
  {
   "cell_type": "code",
   "execution_count": null,
   "id": "84b34a6e",
   "metadata": {},
   "outputs": [],
   "source": [
    "p[0]"
   ]
  },
  {
   "cell_type": "code",
   "execution_count": null,
   "id": "112b4356",
   "metadata": {},
   "outputs": [],
   "source": []
  },
  {
   "cell_type": "code",
   "execution_count": null,
   "id": "1247ca6e",
   "metadata": {},
   "outputs": [],
   "source": []
  },
  {
   "cell_type": "code",
   "execution_count": null,
   "id": "3163bfc9",
   "metadata": {},
   "outputs": [],
   "source": []
  },
  {
   "cell_type": "code",
   "execution_count": null,
   "id": "9c5f1bf1",
   "metadata": {},
   "outputs": [],
   "source": [
    "data"
   ]
  },
  {
   "cell_type": "code",
   "execution_count": null,
   "id": "6af5c409",
   "metadata": {},
   "outputs": [],
   "source": [
    "data.rename(columns={1:\"quantity\"},inplace=True)"
   ]
  },
  {
   "cell_type": "code",
   "execution_count": null,
   "id": "be25553a",
   "metadata": {},
   "outputs": [],
   "source": [
    "from linearmodels import IV2SLS "
   ]
  },
  {
   "cell_type": "code",
   "execution_count": null,
   "id": "6a88b973",
   "metadata": {},
   "outputs": [],
   "source": [
    "iv_reg = IV2SLS.from_formula(\"sell_price ~ quantity\", data).fit()\n"
   ]
  },
  {
   "cell_type": "code",
   "execution_count": null,
   "id": "da8435df",
   "metadata": {},
   "outputs": [],
   "source": [
    "iv_reg.summary"
   ]
  },
  {
   "cell_type": "code",
   "execution_count": null,
   "id": "9fef0c93",
   "metadata": {},
   "outputs": [],
   "source": [
    "test=sell_prices.loc[0:146]\n",
    "test[]"
   ]
  },
  {
   "cell_type": "code",
   "execution_count": null,
   "id": "627dff69",
   "metadata": {},
   "outputs": [],
   "source": [
    "price_range=sell_prices.groupby(['store_id','item_id'])['sell_price'].apply(lambda x: max(x) - min(x))\n",
    "max_change_product=price_range.idxmax()\n",
    "max_change_value=price_range.max()"
   ]
  },
  {
   "cell_type": "code",
   "execution_count": null,
   "id": "747a2ecc",
   "metadata": {},
   "outputs": [],
   "source": [
    "max_change_product"
   ]
  },
  {
   "cell_type": "code",
   "execution_count": null,
   "id": "13b33e36",
   "metadata": {},
   "outputs": [],
   "source": [
    "price_range.max()"
   ]
  },
  {
   "cell_type": "code",
   "execution_count": null,
   "id": "653e4ff5",
   "metadata": {},
   "outputs": [],
   "source": [
    "max_change_value"
   ]
  },
  {
   "cell_type": "code",
   "execution_count": null,
   "id": "7206264b",
   "metadata": {},
   "outputs": [],
   "source": [
    "test=sell_prices.loc[sell_prices[\"store_id\"]==\"WI_3\" ]"
   ]
  },
  {
   "cell_type": "code",
   "execution_count": null,
   "id": "f0af682b",
   "metadata": {},
   "outputs": [],
   "source": [
    "test=test.loc[sell_prices[\"item_id\"]==\"HOUSEHOLD_2_406\"]"
   ]
  },
  {
   "cell_type": "code",
   "execution_count": null,
   "id": "8e97bd77",
   "metadata": {},
   "outputs": [],
   "source": [
    "test"
   ]
  },
  {
   "cell_type": "code",
   "execution_count": null,
   "id": "81d146f7",
   "metadata": {
    "scrolled": true
   },
   "outputs": [],
   "source": [
    "display(test.to_string())"
   ]
  },
  {
   "cell_type": "code",
   "execution_count": null,
   "id": "2a77794b",
   "metadata": {
    "scrolled": true
   },
   "outputs": [],
   "source": [
    "dates=test.loc[test[\"sell_price\"] >13][\"wm_yr_wk\"]"
   ]
  },
  {
   "cell_type": "code",
   "execution_count": null,
   "id": "20fc93ee",
   "metadata": {},
   "outputs": [],
   "source": [
    "start_week=\"week\"+str((int(str(sell_prices.iloc[0,2])[2])*52-52+int(str(sell_prices.iloc[0,2])[3:])))\n",
    "x=result_df.loc[1][start_week:].values.tolist()\n",
    "y=sell_prices.iloc[0:146,3].values.tolist()"
   ]
  },
  {
   "cell_type": "code",
   "execution_count": null,
   "id": "8cb66d11",
   "metadata": {},
   "outputs": [],
   "source": [
    "start_week=dates.iloc[0]\n"
   ]
  },
  {
   "cell_type": "code",
   "execution_count": null,
   "id": "86e12f27",
   "metadata": {},
   "outputs": [],
   "source": [
    "start_week\n",
    "x=result_df.loc[1][start_week:].values.tolist()\n"
   ]
  },
  {
   "cell_type": "code",
   "execution_count": null,
   "id": "56e38655",
   "metadata": {},
   "outputs": [],
   "source": [
    "result=result_df.loc[result_df[\"item_id\"]==\"HOUSEHOLD_2_406\"]"
   ]
  },
  {
   "cell_type": "code",
   "execution_count": null,
   "id": "3f88baf1",
   "metadata": {},
   "outputs": [],
   "source": [
    "result=result.loc[result[\"store_id\"]==\"WI_3\"]"
   ]
  },
  {
   "cell_type": "code",
   "execution_count": null,
   "id": "ceeef371",
   "metadata": {},
   "outputs": [],
   "source": [
    "x=result.iloc[:,6:].values.tolist()"
   ]
  },
  {
   "cell_type": "code",
   "execution_count": null,
   "id": "fe727df6",
   "metadata": {},
   "outputs": [],
   "source": [
    "x=x[0]"
   ]
  },
  {
   "cell_type": "code",
   "execution_count": null,
   "id": "42ac6f48",
   "metadata": {},
   "outputs": [],
   "source": [
    "x[115:125]"
   ]
  },
  {
   "cell_type": "code",
   "execution_count": null,
   "id": "ad9b01ba",
   "metadata": {},
   "outputs": [],
   "source": [
    "y=sell_prices.iloc[0:146,3].values.tolist()"
   ]
  },
  {
   "cell_type": "code",
   "execution_count": null,
   "id": "75d7b886",
   "metadata": {},
   "outputs": [],
   "source": [
    "test=test[\"sell_price\"].values.tolist()"
   ]
  },
  {
   "cell_type": "code",
   "execution_count": null,
   "id": "9567b2a9",
   "metadata": {},
   "outputs": [],
   "source": [
    "test[121]"
   ]
  },
  {
   "cell_type": "code",
   "execution_count": null,
   "id": "1b0e5f10",
   "metadata": {},
   "outputs": [],
   "source": [
    "x= sm.add_constant(x)"
   ]
  },
  {
   "cell_type": "code",
   "execution_count": null,
   "id": "8593805f",
   "metadata": {},
   "outputs": [],
   "source": [
    "sm.OLS(test[0:-8],x).fit().summary()"
   ]
  },
  {
   "cell_type": "code",
   "execution_count": null,
   "id": "11c52aad",
   "metadata": {},
   "outputs": [],
   "source": [
    "#Demand Forecasting Attempt"
   ]
  },
  {
   "cell_type": "code",
   "execution_count": null,
   "id": "178b38ae",
   "metadata": {},
   "outputs": [],
   "source": []
  }
 ],
 "metadata": {
  "kernelspec": {
   "display_name": "Python 3 (ipykernel)",
   "language": "python",
   "name": "python3"
  },
  "language_info": {
   "codemirror_mode": {
    "name": "ipython",
    "version": 3
   },
   "file_extension": ".py",
   "mimetype": "text/x-python",
   "name": "python",
   "nbconvert_exporter": "python",
   "pygments_lexer": "ipython3",
   "version": "3.9.7"
  }
 },
 "nbformat": 4,
 "nbformat_minor": 5
}
