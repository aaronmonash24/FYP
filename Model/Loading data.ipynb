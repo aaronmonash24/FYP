{
 "cells": [
  {
   "cell_type": "code",
   "execution_count": 4,
   "id": "ea8d952d",
   "metadata": {},
   "outputs": [],
   "source": [
    "from pathlib import Path\n",
    "\n",
    "import lightgbm as lgb\n",
    "import mlforecast\n",
    "import numpy as np\n",
    "import pandas as pd\n",
    "from mlforecast import MLForecast\n",
    "from mlforecast.lag_transforms import ExpandingMean, RollingMean, SeasonalRollingMean"
   ]
  },
  {
   "cell_type": "code",
   "execution_count": 71,
   "id": "e91c9ef8",
   "metadata": {},
   "outputs": [
    {
     "ename": "AttributeError",
     "evalue": "module 'coreforecast.lag_transforms' has no attribute 'BaseLagTransform'",
     "output_type": "error",
     "traceback": [
      "\u001b[1;31m---------------------------------------------------------------------------\u001b[0m",
      "\u001b[1;31mAttributeError\u001b[0m                            Traceback (most recent call last)",
      "\u001b[1;32m~\\AppData\\Local\\Temp/ipykernel_9732/1839638840.py\u001b[0m in \u001b[0;36m<module>\u001b[1;34m\u001b[0m\n\u001b[1;32m----> 1\u001b[1;33m \u001b[1;32mimport\u001b[0m \u001b[0mmlforecast\u001b[0m\u001b[1;33m\u001b[0m\u001b[1;33m\u001b[0m\u001b[0m\n\u001b[0m",
      "\u001b[1;32m~\\anaconda3\\lib\\site-packages\\mlforecast\\__init__.py\u001b[0m in \u001b[0;36m<module>\u001b[1;34m\u001b[0m\n\u001b[0;32m      1\u001b[0m \u001b[0m__version__\u001b[0m \u001b[1;33m=\u001b[0m \u001b[1;34m\"0.11.2\"\u001b[0m\u001b[1;33m\u001b[0m\u001b[1;33m\u001b[0m\u001b[0m\n\u001b[0;32m      2\u001b[0m \u001b[0m__all__\u001b[0m \u001b[1;33m=\u001b[0m \u001b[1;33m[\u001b[0m\u001b[1;34m'MLForecast'\u001b[0m\u001b[1;33m]\u001b[0m\u001b[1;33m\u001b[0m\u001b[1;33m\u001b[0m\u001b[0m\n\u001b[1;32m----> 3\u001b[1;33m \u001b[1;32mfrom\u001b[0m \u001b[0mmlforecast\u001b[0m\u001b[1;33m.\u001b[0m\u001b[0mforecast\u001b[0m \u001b[1;32mimport\u001b[0m \u001b[0mMLForecast\u001b[0m\u001b[1;33m\u001b[0m\u001b[1;33m\u001b[0m\u001b[0m\n\u001b[0m",
      "\u001b[1;32m~\\anaconda3\\lib\\site-packages\\mlforecast\\forecast.py\u001b[0m in \u001b[0;36m<module>\u001b[1;34m\u001b[0m\n\u001b[0;32m     16\u001b[0m \u001b[1;32mfrom\u001b[0m \u001b[0mutilsforecast\u001b[0m\u001b[1;33m.\u001b[0m\u001b[0mcompat\u001b[0m \u001b[1;32mimport\u001b[0m \u001b[0mDataFrame\u001b[0m\u001b[1;33m\u001b[0m\u001b[1;33m\u001b[0m\u001b[0m\n\u001b[0;32m     17\u001b[0m \u001b[1;33m\u001b[0m\u001b[0m\n\u001b[1;32m---> 18\u001b[1;33m from mlforecast.core import (\n\u001b[0m\u001b[0;32m     19\u001b[0m     \u001b[0mDateFeature\u001b[0m\u001b[1;33m,\u001b[0m\u001b[1;33m\u001b[0m\u001b[1;33m\u001b[0m\u001b[0m\n\u001b[0;32m     20\u001b[0m     \u001b[0mFreq\u001b[0m\u001b[1;33m,\u001b[0m\u001b[1;33m\u001b[0m\u001b[1;33m\u001b[0m\u001b[0m\n",
      "\u001b[1;32m~\\anaconda3\\lib\\site-packages\\mlforecast\\core.py\u001b[0m in \u001b[0;36m<module>\u001b[1;34m\u001b[0m\n\u001b[0;32m     26\u001b[0m \u001b[1;32mfrom\u001b[0m \u001b[0mutilsforecast\u001b[0m\u001b[1;33m.\u001b[0m\u001b[0mvalidation\u001b[0m \u001b[1;32mimport\u001b[0m \u001b[0mvalidate_format\u001b[0m\u001b[1;33m,\u001b[0m \u001b[0mvalidate_freq\u001b[0m\u001b[1;33m\u001b[0m\u001b[1;33m\u001b[0m\u001b[0m\n\u001b[0;32m     27\u001b[0m \u001b[1;33m\u001b[0m\u001b[0m\n\u001b[1;32m---> 28\u001b[1;33m \u001b[1;32mfrom\u001b[0m \u001b[1;33m.\u001b[0m\u001b[0mcompat\u001b[0m \u001b[1;32mimport\u001b[0m \u001b[0mCORE_INSTALLED\u001b[0m\u001b[1;33m,\u001b[0m \u001b[0mBaseLagTransform\u001b[0m\u001b[1;33m,\u001b[0m \u001b[0mLag\u001b[0m\u001b[1;33m\u001b[0m\u001b[1;33m\u001b[0m\u001b[0m\n\u001b[0m\u001b[0;32m     29\u001b[0m \u001b[1;32mfrom\u001b[0m \u001b[1;33m.\u001b[0m\u001b[0mgrouped_array\u001b[0m \u001b[1;32mimport\u001b[0m \u001b[0mGroupedArray\u001b[0m\u001b[1;33m\u001b[0m\u001b[1;33m\u001b[0m\u001b[0m\n\u001b[0;32m     30\u001b[0m from mlforecast.target_transforms import (\n",
      "\u001b[1;32m~\\anaconda3\\lib\\site-packages\\mlforecast\\compat.py\u001b[0m in \u001b[0;36m<module>\u001b[1;34m\u001b[0m\n\u001b[0;32m      9\u001b[0m     \u001b[1;32mfrom\u001b[0m \u001b[0mcoreforecast\u001b[0m\u001b[1;33m.\u001b[0m\u001b[0mgrouped_array\u001b[0m \u001b[1;32mimport\u001b[0m \u001b[0mGroupedArray\u001b[0m \u001b[1;32mas\u001b[0m \u001b[0mCoreGroupedArray\u001b[0m\u001b[1;33m\u001b[0m\u001b[1;33m\u001b[0m\u001b[0m\n\u001b[0;32m     10\u001b[0m \u001b[1;33m\u001b[0m\u001b[0m\n\u001b[1;32m---> 11\u001b[1;33m     \u001b[1;32mfrom\u001b[0m \u001b[0mmlforecast\u001b[0m\u001b[1;33m.\u001b[0m\u001b[0mlag_transforms\u001b[0m \u001b[1;32mimport\u001b[0m \u001b[0mBaseLagTransform\u001b[0m\u001b[1;33m,\u001b[0m \u001b[0mLag\u001b[0m\u001b[1;33m\u001b[0m\u001b[1;33m\u001b[0m\u001b[0m\n\u001b[0m\u001b[0;32m     12\u001b[0m \u001b[1;33m\u001b[0m\u001b[0m\n\u001b[0;32m     13\u001b[0m     \u001b[0mCORE_INSTALLED\u001b[0m \u001b[1;33m=\u001b[0m \u001b[1;32mTrue\u001b[0m\u001b[1;33m\u001b[0m\u001b[1;33m\u001b[0m\u001b[0m\n",
      "\u001b[1;32m~\\anaconda3\\lib\\site-packages\\mlforecast\\lag_transforms.py\u001b[0m in \u001b[0;36m<module>\u001b[1;34m\u001b[0m\n\u001b[0;32m     23\u001b[0m \u001b[1;33m\u001b[0m\u001b[0m\n\u001b[0;32m     24\u001b[0m \u001b[1;31m# %% ../nbs/lag_transforms.ipynb 4\u001b[0m\u001b[1;33m\u001b[0m\u001b[1;33m\u001b[0m\u001b[0m\n\u001b[1;32m---> 25\u001b[1;33m \u001b[1;32mclass\u001b[0m \u001b[0mBaseLagTransform\u001b[0m\u001b[1;33m(\u001b[0m\u001b[0mBaseEstimator\u001b[0m\u001b[1;33m)\u001b[0m\u001b[1;33m:\u001b[0m\u001b[1;33m\u001b[0m\u001b[1;33m\u001b[0m\u001b[0m\n\u001b[0m\u001b[0;32m     26\u001b[0m     \u001b[0m_core_tfm\u001b[0m\u001b[1;33m:\u001b[0m \u001b[0mcore_tfms\u001b[0m\u001b[1;33m.\u001b[0m\u001b[0mBaseLagTransform\u001b[0m\u001b[1;33m\u001b[0m\u001b[1;33m\u001b[0m\u001b[0m\n\u001b[0;32m     27\u001b[0m \u001b[1;33m\u001b[0m\u001b[0m\n",
      "\u001b[1;32m~\\anaconda3\\lib\\site-packages\\mlforecast\\lag_transforms.py\u001b[0m in \u001b[0;36mBaseLagTransform\u001b[1;34m()\u001b[0m\n\u001b[0;32m     24\u001b[0m \u001b[1;31m# %% ../nbs/lag_transforms.ipynb 4\u001b[0m\u001b[1;33m\u001b[0m\u001b[1;33m\u001b[0m\u001b[0m\n\u001b[0;32m     25\u001b[0m \u001b[1;32mclass\u001b[0m \u001b[0mBaseLagTransform\u001b[0m\u001b[1;33m(\u001b[0m\u001b[0mBaseEstimator\u001b[0m\u001b[1;33m)\u001b[0m\u001b[1;33m:\u001b[0m\u001b[1;33m\u001b[0m\u001b[1;33m\u001b[0m\u001b[0m\n\u001b[1;32m---> 26\u001b[1;33m     \u001b[0m_core_tfm\u001b[0m\u001b[1;33m:\u001b[0m \u001b[0mcore_tfms\u001b[0m\u001b[1;33m.\u001b[0m\u001b[0mBaseLagTransform\u001b[0m\u001b[1;33m\u001b[0m\u001b[1;33m\u001b[0m\u001b[0m\n\u001b[0m\u001b[0;32m     27\u001b[0m \u001b[1;33m\u001b[0m\u001b[0m\n\u001b[0;32m     28\u001b[0m     \u001b[1;32mdef\u001b[0m \u001b[0mtransform\u001b[0m\u001b[1;33m(\u001b[0m\u001b[0mself\u001b[0m\u001b[1;33m,\u001b[0m \u001b[0mga\u001b[0m\u001b[1;33m:\u001b[0m \u001b[0mCoreGroupedArray\u001b[0m\u001b[1;33m)\u001b[0m \u001b[1;33m->\u001b[0m \u001b[0mnp\u001b[0m\u001b[1;33m.\u001b[0m\u001b[0mndarray\u001b[0m\u001b[1;33m:\u001b[0m\u001b[1;33m\u001b[0m\u001b[1;33m\u001b[0m\u001b[0m\n",
      "\u001b[1;31mAttributeError\u001b[0m: module 'coreforecast.lag_transforms' has no attribute 'BaseLagTransform'"
     ]
    }
   ],
   "source": [
    "import mlforecast"
   ]
  },
  {
   "cell_type": "code",
   "execution_count": 69,
   "id": "4e58f668",
   "metadata": {},
   "outputs": [
    {
     "name": "stdout",
     "output_type": "stream",
     "text": [
      "Collecting coreforecast==0.0.2Note: you may need to restart the kernel to use updated packages.\n",
      "  Using cached coreforecast-0.0.2-py3-none-win_amd64.whl (41 kB)\n",
      "Requirement already satisfied: numpy>=1.20.0 in c:\\users\\lywt9\\anaconda3\\lib\\site-packages (from coreforecast==0.0.2) (1.20.3)\n",
      "Requirement already satisfied: importlib_resources in c:\\users\\lywt9\\appdata\\roaming\\python\\python39\\site-packages (from coreforecast==0.0.2) (6.4.0)\n",
      "Requirement already satisfied: zipp>=3.1.0 in c:\\users\\lywt9\\anaconda3\\lib\\site-packages (from importlib_resources->coreforecast==0.0.2) (3.6.0)\n",
      "Installing collected packages: coreforecast\n",
      "Successfully installed coreforecast-0.0.2\n",
      "\n"
     ]
    }
   ],
   "source": [
    "pip install coreforecast==0.0.2 --user"
   ]
  },
  {
   "cell_type": "code",
   "execution_count": 2,
   "id": "923a5d4b",
   "metadata": {},
   "outputs": [
    {
     "data": {
      "text/plain": [
       "'0.11.2'"
      ]
     },
     "execution_count": 2,
     "metadata": {},
     "output_type": "execute_result"
    }
   ],
   "source": [
    "mlforecast.__version__"
   ]
  },
  {
   "cell_type": "code",
   "execution_count": 80,
   "id": "4f9bd3f2",
   "metadata": {},
   "outputs": [
    {
     "name": "stdout",
     "output_type": "stream",
     "text": [
      "Processing c:\\users\\lywt9\\downloads\\mlforecast-0.11.2.tar.gz\n",
      "  Installing build dependencies: started\n",
      "  Installing build dependencies: finished with status 'done'\n",
      "  Getting requirements to build wheel: started\n",
      "  Getting requirements to build wheel: finished with status 'done'\n",
      "    Preparing wheel metadata: started\n",
      "    Preparing wheel metadata: finished with status 'done'\n",
      "Requirement already satisfied: utilsforecast>=0.0.21 in c:\\users\\lywt9\\appdata\\roaming\\python\\python39\\site-packages (from mlforecast==0.11.2) (0.1.4)\n",
      "Requirement already satisfied: pandas in c:\\users\\lywt9\\anaconda3\\lib\\site-packages (from mlforecast==0.11.2) (1.3.4)\n",
      "Requirement already satisfied: numba in c:\\users\\lywt9\\anaconda3\\lib\\site-packages (from mlforecast==0.11.2) (0.54.1)\n",
      "Requirement already satisfied: scikit-learn in c:\\users\\lywt9\\anaconda3\\lib\\site-packages (from mlforecast==0.11.2) (0.24.2)\n",
      "Requirement already satisfied: window-ops in c:\\users\\lywt9\\appdata\\roaming\\python\\python39\\site-packages (from mlforecast==0.11.2) (0.0.15)\n",
      "Requirement already satisfied: packaging in c:\\users\\lywt9\\anaconda3\\lib\\site-packages (from mlforecast==0.11.2) (21.0)\n",
      "Requirement already satisfied: numpy in c:\\users\\lywt9\\anaconda3\\lib\\site-packages (from utilsforecast>=0.0.21->mlforecast==0.11.2) (1.20.3)\n",
      "Requirement already satisfied: python-dateutil>=2.7.3 in c:\\users\\lywt9\\anaconda3\\lib\\site-packages (from pandas->mlforecast==0.11.2) (2.8.2)\n",
      "Requirement already satisfied: pytz>=2017.3 in c:\\users\\lywt9\\anaconda3\\lib\\site-packages (from pandas->mlforecast==0.11.2) (2021.3)\n",
      "Requirement already satisfied: six>=1.5 in c:\\users\\lywt9\\anaconda3\\lib\\site-packages (from python-dateutil>=2.7.3->pandas->mlforecast==0.11.2) (1.16.0)\n",
      "Requirement already satisfied: setuptools in c:\\users\\lywt9\\anaconda3\\lib\\site-packages (from numba->mlforecast==0.11.2) (58.0.4)\n",
      "Requirement already satisfied: llvmlite<0.38,>=0.37.0rc1 in c:\\users\\lywt9\\anaconda3\\lib\\site-packages (from numba->mlforecast==0.11.2) (0.37.0)\n",
      "Requirement already satisfied: pyparsing>=2.0.2 in c:\\users\\lywt9\\anaconda3\\lib\\site-packages (from packaging->mlforecast==0.11.2) (3.0.4)\n",
      "Requirement already satisfied: scipy>=0.19.1 in c:\\users\\lywt9\\anaconda3\\lib\\site-packages (from scikit-learn->mlforecast==0.11.2) (1.7.1)\n",
      "Requirement already satisfied: threadpoolctl>=2.0.0 in c:\\users\\lywt9\\anaconda3\\lib\\site-packages (from scikit-learn->mlforecast==0.11.2) (2.2.0)\n",
      "Requirement already satisfied: joblib>=0.11 in c:\\users\\lywt9\\anaconda3\\lib\\site-packages (from scikit-learn->mlforecast==0.11.2) (1.1.0)\n",
      "Building wheels for collected packages: mlforecast\n",
      "  Building wheel for mlforecast (PEP 517): started\n",
      "  Building wheel for mlforecast (PEP 517): finished with status 'done'\n",
      "  Created wheel for mlforecast: filename=mlforecast-0.11.2-py3-none-any.whl size=53816 sha256=084fc14bb07e28aaeefd5acd7ae9f3b4dd180ef034ae86f94e5e6b47125b2127\n",
      "  Stored in directory: c:\\users\\lywt9\\appdata\\local\\pip\\cache\\wheels\\fb\\2e\\89\\d5b58e941a901af50f5a264e18dcaf6b818a17f4428365e093\n",
      "Successfully built mlforecast\n",
      "Installing collected packages: mlforecast\n",
      "  Attempting uninstall: mlforecast\n",
      "    Found existing installation: mlforecast 0.11.2\n",
      "    Uninstalling mlforecast-0.11.2:\n",
      "      Successfully uninstalled mlforecast-0.11.2\n",
      "Successfully installed mlforecast-0.11.2\n",
      "Note: you may need to restart the kernel to use updated packages.\n"
     ]
    },
    {
     "name": "stderr",
     "output_type": "stream",
     "text": [
      "DEPRECATION: Source distribution is being reinstalled despite an installed package having the same name and version as the installed package. pip 21.3 will remove support for this functionality. A possible replacement is use --force-reinstall. You can find discussion regarding this at https://github.com/pypa/pip/issues/8711.\n"
     ]
    }
   ],
   "source": [
    "pip install \"mlforecast-0.11.2.tar.gz\""
   ]
  },
  {
   "cell_type": "code",
   "execution_count": null,
   "id": "95a24e94",
   "metadata": {},
   "outputs": [],
   "source": [
    "%pip install -qqq \"mlforecast[lag_transforms]\""
   ]
  },
  {
   "cell_type": "code",
   "execution_count": null,
   "id": "378c398b",
   "metadata": {},
   "outputs": [],
   "source": [
    "sales_train_validation = pd.read_csv('sales_train_validation.csv')"
   ]
  },
  {
   "cell_type": "code",
   "execution_count": null,
   "id": "2d345d76",
   "metadata": {},
   "outputs": [],
   "source": [
    "sell_prices=pd.read_csv('sell_prices.csv')"
   ]
  },
  {
   "cell_type": "code",
   "execution_count": null,
   "id": "5c1a6acc",
   "metadata": {},
   "outputs": [],
   "source": [
    "calendar=pd.read_csv('calendar.csv')"
   ]
  },
  {
   "cell_type": "markdown",
   "id": "28cd82f3",
   "metadata": {},
   "source": [
    "# LightBGM"
   ]
  },
  {
   "cell_type": "code",
   "execution_count": 2,
   "id": "6b1ef241",
   "metadata": {},
   "outputs": [],
   "source": [
    "import lightgbm as lgb"
   ]
  },
  {
   "cell_type": "code",
   "execution_count": 7,
   "id": "239f4933",
   "metadata": {},
   "outputs": [],
   "source": [
    "model_params = {\n",
    "    'verbose': -1,\n",
    "    'force_col_wise': True,\n",
    "    'num_leaves': 256,\n",
    "    'n_estimators': 50,\n",
    "}"
   ]
  },
  {
   "cell_type": "code",
   "execution_count": 8,
   "id": "9ff2c1ca",
   "metadata": {},
   "outputs": [],
   "source": [
    "sales_train=pd.read_csv('sales_train_evaluation.csv')"
   ]
  },
  {
   "cell_type": "code",
   "execution_count": 9,
   "id": "cf009153",
   "metadata": {},
   "outputs": [],
   "source": [
    "cal_dtypes = {\n",
    "    'd': 'category',\n",
    "    'wm_yr_wk': np.uint16,\n",
    "    'event_name_1': 'category',\n",
    "    'event_type_1': 'category',\n",
    "    'event_name_2': 'category',\n",
    "    'event_type_2': 'category',\n",
    "    'snap_CA': np.uint8,\n",
    "    'snap_TX': np.uint8,\n",
    "    'snap_WI': np.uint8,\n",
    "}\n",
    "cal = pd.read_csv('calendar.csv', \n",
    "                  dtype=cal_dtypes, \n",
    "                  usecols=list(cal_dtypes.keys()) + ['date'], \n",
    "                  parse_dates=['date'])\n"
   ]
  },
  {
   "cell_type": "code",
   "execution_count": 10,
   "id": "f1f60276",
   "metadata": {},
   "outputs": [],
   "source": [
    "event_cols = [k for k in cal_dtypes if k.startswith('event')]"
   ]
  },
  {
   "cell_type": "code",
   "execution_count": null,
   "id": "502d16b0",
   "metadata": {},
   "outputs": [],
   "source": [
    "event_cols"
   ]
  },
  {
   "cell_type": "code",
   "execution_count": 11,
   "id": "87a492bc",
   "metadata": {},
   "outputs": [],
   "source": [
    "\n",
    "for col in event_cols:\n",
    "    cal[col] = cal[col].cat.add_categories('nan').fillna('nan')"
   ]
  },
  {
   "cell_type": "code",
   "execution_count": null,
   "id": "2bfa14b0",
   "metadata": {},
   "outputs": [],
   "source": [
    "cal"
   ]
  },
  {
   "cell_type": "code",
   "execution_count": 12,
   "id": "b488f11c",
   "metadata": {},
   "outputs": [],
   "source": [
    "prices_dtypes = {\n",
    "    'store_id': 'category',\n",
    "    'item_id': 'category',\n",
    "    'wm_yr_wk': np.uint16,\n",
    "    'sell_price': np.float32\n",
    "}\n",
    "prices = pd.read_csv('sell_prices.csv', dtype=prices_dtypes)"
   ]
  },
  {
   "cell_type": "code",
   "execution_count": 13,
   "id": "1f5bcaf4",
   "metadata": {},
   "outputs": [],
   "source": [
    "sales_dtypes = {\n",
    "    'id': 'category',\n",
    "    'item_id': prices.item_id.dtype,\n",
    "    'dept_id': 'category',\n",
    "    'cat_id': 'category',\n",
    "    'store_id': 'category',\n",
    "    'state_id': 'category',\n",
    "    **{f'd_{i}': np.float32 for i in range(1942)}\n",
    "}\n",
    "sales = pd.read_csv(\n",
    "     'sales_train_evaluation.csv',\n",
    "    dtype=sales_dtypes,\n",
    ")"
   ]
  },
  {
   "cell_type": "code",
   "execution_count": null,
   "id": "adda8dcb",
   "metadata": {},
   "outputs": [],
   "source": [
    "sales"
   ]
  },
  {
   "cell_type": "code",
   "execution_count": 14,
   "id": "f2ed2a67",
   "metadata": {},
   "outputs": [],
   "source": [
    "long = sales.melt(\n",
    "    id_vars=['id', 'item_id', 'dept_id', 'cat_id', 'store_id', 'state_id'],\n",
    "    var_name='d',\n",
    "    value_name='y'\n",
    ")"
   ]
  },
  {
   "cell_type": "code",
   "execution_count": null,
   "id": "dbaedee2",
   "metadata": {},
   "outputs": [],
   "source": [
    "long"
   ]
  },
  {
   "cell_type": "code",
   "execution_count": 15,
   "id": "52422ef0",
   "metadata": {},
   "outputs": [
    {
     "name": "stdout",
     "output_type": "stream",
     "text": [
      "59181090\n",
      "Wall time: 1min 14s\n"
     ]
    }
   ],
   "source": [
    "%%time\n",
    "print(long.shape[0])\n",
    "long['date_idx'] = long['d'].str.replace('d_', '').astype('int32')\n",
    "\n",
    "\n",
    "\n",
    "\n",
    "\n",
    "\n"
   ]
  },
  {
   "cell_type": "code",
   "execution_count": null,
   "id": "f0bf7f15",
   "metadata": {},
   "outputs": [],
   "source": [
    "long"
   ]
  },
  {
   "cell_type": "code",
   "execution_count": 16,
   "id": "736269f6",
   "metadata": {},
   "outputs": [],
   "source": [
    "dates = sorted(long['date_idx'].unique())"
   ]
  },
  {
   "cell_type": "code",
   "execution_count": null,
   "id": "bf428347",
   "metadata": {},
   "outputs": [],
   "source": [
    "dates"
   ]
  },
  {
   "cell_type": "code",
   "execution_count": 17,
   "id": "7e0854ff",
   "metadata": {},
   "outputs": [],
   "source": [
    "long = long.sort_values(['id', 'date_idx'])"
   ]
  },
  {
   "cell_type": "code",
   "execution_count": 47,
   "id": "e0a87e7d",
   "metadata": {},
   "outputs": [
    {
     "data": {
      "text/html": [
       "<div>\n",
       "<style scoped>\n",
       "    .dataframe tbody tr th:only-of-type {\n",
       "        vertical-align: middle;\n",
       "    }\n",
       "\n",
       "    .dataframe tbody tr th {\n",
       "        vertical-align: top;\n",
       "    }\n",
       "\n",
       "    .dataframe thead th {\n",
       "        text-align: right;\n",
       "    }\n",
       "</style>\n",
       "<table border=\"1\" class=\"dataframe\">\n",
       "  <thead>\n",
       "    <tr style=\"text-align: right;\">\n",
       "      <th></th>\n",
       "      <th>id</th>\n",
       "      <th>item_id</th>\n",
       "      <th>dept_id</th>\n",
       "      <th>cat_id</th>\n",
       "      <th>store_id</th>\n",
       "      <th>state_id</th>\n",
       "      <th>d</th>\n",
       "      <th>y</th>\n",
       "      <th>date_idx</th>\n",
       "    </tr>\n",
       "  </thead>\n",
       "  <tbody>\n",
       "    <tr>\n",
       "      <th>0</th>\n",
       "      <td>HOBBIES_1_001_CA_1_evaluation</td>\n",
       "      <td>HOBBIES_1_001</td>\n",
       "      <td>HOBBIES_1</td>\n",
       "      <td>HOBBIES</td>\n",
       "      <td>CA_1</td>\n",
       "      <td>CA</td>\n",
       "      <td>d_1</td>\n",
       "      <td>0.0</td>\n",
       "      <td>1</td>\n",
       "    </tr>\n",
       "    <tr>\n",
       "      <th>30490</th>\n",
       "      <td>HOBBIES_1_001_CA_1_evaluation</td>\n",
       "      <td>HOBBIES_1_001</td>\n",
       "      <td>HOBBIES_1</td>\n",
       "      <td>HOBBIES</td>\n",
       "      <td>CA_1</td>\n",
       "      <td>CA</td>\n",
       "      <td>d_2</td>\n",
       "      <td>0.0</td>\n",
       "      <td>2</td>\n",
       "    </tr>\n",
       "    <tr>\n",
       "      <th>60980</th>\n",
       "      <td>HOBBIES_1_001_CA_1_evaluation</td>\n",
       "      <td>HOBBIES_1_001</td>\n",
       "      <td>HOBBIES_1</td>\n",
       "      <td>HOBBIES</td>\n",
       "      <td>CA_1</td>\n",
       "      <td>CA</td>\n",
       "      <td>d_3</td>\n",
       "      <td>0.0</td>\n",
       "      <td>3</td>\n",
       "    </tr>\n",
       "    <tr>\n",
       "      <th>91470</th>\n",
       "      <td>HOBBIES_1_001_CA_1_evaluation</td>\n",
       "      <td>HOBBIES_1_001</td>\n",
       "      <td>HOBBIES_1</td>\n",
       "      <td>HOBBIES</td>\n",
       "      <td>CA_1</td>\n",
       "      <td>CA</td>\n",
       "      <td>d_4</td>\n",
       "      <td>0.0</td>\n",
       "      <td>4</td>\n",
       "    </tr>\n",
       "    <tr>\n",
       "      <th>121960</th>\n",
       "      <td>HOBBIES_1_001_CA_1_evaluation</td>\n",
       "      <td>HOBBIES_1_001</td>\n",
       "      <td>HOBBIES_1</td>\n",
       "      <td>HOBBIES</td>\n",
       "      <td>CA_1</td>\n",
       "      <td>CA</td>\n",
       "      <td>d_5</td>\n",
       "      <td>0.0</td>\n",
       "      <td>5</td>\n",
       "    </tr>\n",
       "    <tr>\n",
       "      <th>...</th>\n",
       "      <td>...</td>\n",
       "      <td>...</td>\n",
       "      <td>...</td>\n",
       "      <td>...</td>\n",
       "      <td>...</td>\n",
       "      <td>...</td>\n",
       "      <td>...</td>\n",
       "      <td>...</td>\n",
       "      <td>...</td>\n",
       "    </tr>\n",
       "    <tr>\n",
       "      <th>59059129</th>\n",
       "      <td>FOODS_3_827_WI_3_evaluation</td>\n",
       "      <td>FOODS_3_827</td>\n",
       "      <td>FOODS_3</td>\n",
       "      <td>FOODS</td>\n",
       "      <td>WI_3</td>\n",
       "      <td>WI</td>\n",
       "      <td>d_1937</td>\n",
       "      <td>0.0</td>\n",
       "      <td>1937</td>\n",
       "    </tr>\n",
       "    <tr>\n",
       "      <th>59089619</th>\n",
       "      <td>FOODS_3_827_WI_3_evaluation</td>\n",
       "      <td>FOODS_3_827</td>\n",
       "      <td>FOODS_3</td>\n",
       "      <td>FOODS</td>\n",
       "      <td>WI_3</td>\n",
       "      <td>WI</td>\n",
       "      <td>d_1938</td>\n",
       "      <td>2.0</td>\n",
       "      <td>1938</td>\n",
       "    </tr>\n",
       "    <tr>\n",
       "      <th>59120109</th>\n",
       "      <td>FOODS_3_827_WI_3_evaluation</td>\n",
       "      <td>FOODS_3_827</td>\n",
       "      <td>FOODS_3</td>\n",
       "      <td>FOODS</td>\n",
       "      <td>WI_3</td>\n",
       "      <td>WI</td>\n",
       "      <td>d_1939</td>\n",
       "      <td>2.0</td>\n",
       "      <td>1939</td>\n",
       "    </tr>\n",
       "    <tr>\n",
       "      <th>59150599</th>\n",
       "      <td>FOODS_3_827_WI_3_evaluation</td>\n",
       "      <td>FOODS_3_827</td>\n",
       "      <td>FOODS_3</td>\n",
       "      <td>FOODS</td>\n",
       "      <td>WI_3</td>\n",
       "      <td>WI</td>\n",
       "      <td>d_1940</td>\n",
       "      <td>5.0</td>\n",
       "      <td>1940</td>\n",
       "    </tr>\n",
       "    <tr>\n",
       "      <th>59181089</th>\n",
       "      <td>FOODS_3_827_WI_3_evaluation</td>\n",
       "      <td>FOODS_3_827</td>\n",
       "      <td>FOODS_3</td>\n",
       "      <td>FOODS</td>\n",
       "      <td>WI_3</td>\n",
       "      <td>WI</td>\n",
       "      <td>d_1941</td>\n",
       "      <td>1.0</td>\n",
       "      <td>1941</td>\n",
       "    </tr>\n",
       "  </tbody>\n",
       "</table>\n",
       "<p>59181090 rows × 9 columns</p>\n",
       "</div>"
      ],
      "text/plain": [
       "                                     id        item_id    dept_id   cat_id  \\\n",
       "0         HOBBIES_1_001_CA_1_evaluation  HOBBIES_1_001  HOBBIES_1  HOBBIES   \n",
       "30490     HOBBIES_1_001_CA_1_evaluation  HOBBIES_1_001  HOBBIES_1  HOBBIES   \n",
       "60980     HOBBIES_1_001_CA_1_evaluation  HOBBIES_1_001  HOBBIES_1  HOBBIES   \n",
       "91470     HOBBIES_1_001_CA_1_evaluation  HOBBIES_1_001  HOBBIES_1  HOBBIES   \n",
       "121960    HOBBIES_1_001_CA_1_evaluation  HOBBIES_1_001  HOBBIES_1  HOBBIES   \n",
       "...                                 ...            ...        ...      ...   \n",
       "59059129    FOODS_3_827_WI_3_evaluation    FOODS_3_827    FOODS_3    FOODS   \n",
       "59089619    FOODS_3_827_WI_3_evaluation    FOODS_3_827    FOODS_3    FOODS   \n",
       "59120109    FOODS_3_827_WI_3_evaluation    FOODS_3_827    FOODS_3    FOODS   \n",
       "59150599    FOODS_3_827_WI_3_evaluation    FOODS_3_827    FOODS_3    FOODS   \n",
       "59181089    FOODS_3_827_WI_3_evaluation    FOODS_3_827    FOODS_3    FOODS   \n",
       "\n",
       "         store_id state_id       d    y  date_idx  \n",
       "0            CA_1       CA     d_1  0.0         1  \n",
       "30490        CA_1       CA     d_2  0.0         2  \n",
       "60980        CA_1       CA     d_3  0.0         3  \n",
       "91470        CA_1       CA     d_4  0.0         4  \n",
       "121960       CA_1       CA     d_5  0.0         5  \n",
       "...           ...      ...     ...  ...       ...  \n",
       "59059129     WI_3       WI  d_1937  0.0      1937  \n",
       "59089619     WI_3       WI  d_1938  2.0      1938  \n",
       "59120109     WI_3       WI  d_1939  2.0      1939  \n",
       "59150599     WI_3       WI  d_1940  5.0      1940  \n",
       "59181089     WI_3       WI  d_1941  1.0      1941  \n",
       "\n",
       "[59181090 rows x 9 columns]"
      ]
     },
     "execution_count": 47,
     "metadata": {},
     "output_type": "execute_result"
    }
   ],
   "source": [
    "long"
   ]
  },
  {
   "cell_type": "code",
   "execution_count": 18,
   "id": "45088c4f",
   "metadata": {},
   "outputs": [],
   "source": [
    "without_leading_zeros = long['y'].gt(0).groupby(long['id']).transform('cummax')"
   ]
  },
  {
   "cell_type": "code",
   "execution_count": 49,
   "id": "a0f96688",
   "metadata": {},
   "outputs": [
    {
     "data": {
      "text/plain": [
       "0           False\n",
       "30490       False\n",
       "60980       False\n",
       "91470       False\n",
       "121960      False\n",
       "            ...  \n",
       "59059129     True\n",
       "59089619     True\n",
       "59120109     True\n",
       "59150599     True\n",
       "59181089     True\n",
       "Name: y, Length: 59181090, dtype: bool"
      ]
     },
     "execution_count": 49,
     "metadata": {},
     "output_type": "execute_result"
    }
   ],
   "source": [
    "without_leading_zeros"
   ]
  },
  {
   "cell_type": "code",
   "execution_count": 19,
   "id": "0dea2863",
   "metadata": {},
   "outputs": [],
   "source": [
    "above_min_date = long['date_idx'] >= dates[-400]"
   ]
  },
  {
   "cell_type": "code",
   "execution_count": 51,
   "id": "b599dd88",
   "metadata": {},
   "outputs": [
    {
     "data": {
      "text/plain": [
       "0           False\n",
       "30490       False\n",
       "60980       False\n",
       "91470       False\n",
       "121960      False\n",
       "            ...  \n",
       "59059129     True\n",
       "59089619     True\n",
       "59120109     True\n",
       "59150599     True\n",
       "59181089     True\n",
       "Name: date_idx, Length: 59181090, dtype: bool"
      ]
     },
     "execution_count": 51,
     "metadata": {},
     "output_type": "execute_result"
    }
   ],
   "source": [
    "above_min_date"
   ]
  },
  {
   "cell_type": "code",
   "execution_count": 20,
   "id": "02ef96de",
   "metadata": {},
   "outputs": [],
   "source": [
    "keep_mask = without_leading_zeros & above_min_date"
   ]
  },
  {
   "cell_type": "code",
   "execution_count": null,
   "id": "9508f555",
   "metadata": {},
   "outputs": [],
   "source": [
    "keep_mask"
   ]
  },
  {
   "cell_type": "code",
   "execution_count": null,
   "id": "d111cd6d",
   "metadata": {},
   "outputs": [],
   "source": [
    "long"
   ]
  },
  {
   "cell_type": "code",
   "execution_count": 21,
   "id": "cbbf032d",
   "metadata": {},
   "outputs": [],
   "source": [
    "long = long[keep_mask]"
   ]
  },
  {
   "cell_type": "code",
   "execution_count": null,
   "id": "65c38cc4",
   "metadata": {},
   "outputs": [],
   "source": [
    "long"
   ]
  },
  {
   "cell_type": "code",
   "execution_count": null,
   "id": "8ec81563",
   "metadata": {},
   "outputs": [],
   "source": [
    "print(long.shape[0])"
   ]
  },
  {
   "cell_type": "code",
   "execution_count": 22,
   "id": "95e49cec",
   "metadata": {},
   "outputs": [],
   "source": [
    "long['d'] = long['d'].astype(cal.d.dtype)\n"
   ]
  },
  {
   "cell_type": "code",
   "execution_count": 23,
   "id": "86a2c9b5",
   "metadata": {},
   "outputs": [],
   "source": [
    "long = long.merge(cal, on=['d'])\n"
   ]
  },
  {
   "cell_type": "code",
   "execution_count": null,
   "id": "5b66a3e9",
   "metadata": {},
   "outputs": [],
   "source": [
    "long"
   ]
  },
  {
   "cell_type": "code",
   "execution_count": 24,
   "id": "3e988c26",
   "metadata": {},
   "outputs": [],
   "source": [
    "long = long.merge(prices, on=['store_id', 'item_id', 'wm_yr_wk'])\n"
   ]
  },
  {
   "cell_type": "code",
   "execution_count": null,
   "id": "f44fc750",
   "metadata": {},
   "outputs": [],
   "source": [
    "long"
   ]
  },
  {
   "cell_type": "code",
   "execution_count": 25,
   "id": "41a1408b",
   "metadata": {},
   "outputs": [],
   "source": [
    "last_wmyrwk = long['wm_yr_wk'].max()\n"
   ]
  },
  {
   "cell_type": "code",
   "execution_count": null,
   "id": "4a00aa75",
   "metadata": {},
   "outputs": [],
   "source": [
    "last_wmyrwk"
   ]
  },
  {
   "cell_type": "code",
   "execution_count": 26,
   "id": "005402c5",
   "metadata": {},
   "outputs": [],
   "source": [
    "last_date_train = long['date'].max()\n"
   ]
  },
  {
   "cell_type": "code",
   "execution_count": null,
   "id": "b6b58c5f",
   "metadata": {},
   "outputs": [],
   "source": [
    "last_date_train"
   ]
  },
  {
   "cell_type": "code",
   "execution_count": 27,
   "id": "42f3ce0d",
   "metadata": {},
   "outputs": [],
   "source": [
    "long = long.drop(columns=['d', 'date_idx', 'wm_yr_wk'])\n"
   ]
  },
  {
   "cell_type": "code",
   "execution_count": null,
   "id": "6f6b2a9e",
   "metadata": {},
   "outputs": [],
   "source": [
    "long"
   ]
  },
  {
   "cell_type": "code",
   "execution_count": 28,
   "id": "1c58e69c",
   "metadata": {},
   "outputs": [],
   "source": [
    "long = long.sample(frac=1.0, random_state=0).reset_index(drop=True)\n",
    "\n"
   ]
  },
  {
   "cell_type": "code",
   "execution_count": null,
   "id": "373fa63d",
   "metadata": {},
   "outputs": [],
   "source": [
    "long"
   ]
  },
  {
   "cell_type": "code",
   "execution_count": 29,
   "id": "ef8d5f63",
   "metadata": {},
   "outputs": [],
   "source": [
    "# build future X\n",
    "future_cal = cal[cal['date'] > last_date_train]\n"
   ]
  },
  {
   "cell_type": "code",
   "execution_count": null,
   "id": "40079650",
   "metadata": {},
   "outputs": [],
   "source": [
    "future_cal"
   ]
  },
  {
   "cell_type": "code",
   "execution_count": 30,
   "id": "aaa32d57",
   "metadata": {},
   "outputs": [],
   "source": [
    "future_prices = prices[prices['wm_yr_wk'] >= last_wmyrwk].copy()\n"
   ]
  },
  {
   "cell_type": "code",
   "execution_count": null,
   "id": "f48745cf",
   "metadata": {},
   "outputs": [],
   "source": [
    "future_prices "
   ]
  },
  {
   "cell_type": "code",
   "execution_count": 31,
   "id": "f3ba7466",
   "metadata": {},
   "outputs": [],
   "source": [
    "future_prices['id'] = future_prices['item_id'].astype(str) + '_' + future_prices['store_id'].astype(str) + '_evaluation'\n"
   ]
  },
  {
   "cell_type": "code",
   "execution_count": null,
   "id": "82a3aa04",
   "metadata": {},
   "outputs": [],
   "source": [
    "future_prices "
   ]
  },
  {
   "cell_type": "code",
   "execution_count": null,
   "id": "64e3e7ea",
   "metadata": {},
   "outputs": [],
   "source": []
  },
  {
   "cell_type": "code",
   "execution_count": 32,
   "id": "860cff98",
   "metadata": {},
   "outputs": [],
   "source": [
    "X_df = future_prices.merge(future_cal, on='wm_yr_wk').drop(columns=['store_id', 'item_id', 'wm_yr_wk', 'd'])"
   ]
  },
  {
   "cell_type": "code",
   "execution_count": 33,
   "id": "96f64984",
   "metadata": {},
   "outputs": [
    {
     "data": {
      "text/html": [
       "<div>\n",
       "<style scoped>\n",
       "    .dataframe tbody tr th:only-of-type {\n",
       "        vertical-align: middle;\n",
       "    }\n",
       "\n",
       "    .dataframe tbody tr th {\n",
       "        vertical-align: top;\n",
       "    }\n",
       "\n",
       "    .dataframe thead th {\n",
       "        text-align: right;\n",
       "    }\n",
       "</style>\n",
       "<table border=\"1\" class=\"dataframe\">\n",
       "  <thead>\n",
       "    <tr style=\"text-align: right;\">\n",
       "      <th></th>\n",
       "      <th>sell_price</th>\n",
       "      <th>id</th>\n",
       "      <th>date</th>\n",
       "      <th>event_name_1</th>\n",
       "      <th>event_type_1</th>\n",
       "      <th>event_name_2</th>\n",
       "      <th>event_type_2</th>\n",
       "      <th>snap_CA</th>\n",
       "      <th>snap_TX</th>\n",
       "      <th>snap_WI</th>\n",
       "    </tr>\n",
       "  </thead>\n",
       "  <tbody>\n",
       "    <tr>\n",
       "      <th>0</th>\n",
       "      <td>8.38</td>\n",
       "      <td>HOBBIES_1_001_CA_1_evaluation</td>\n",
       "      <td>2016-05-23</td>\n",
       "      <td>nan</td>\n",
       "      <td>nan</td>\n",
       "      <td>nan</td>\n",
       "      <td>nan</td>\n",
       "      <td>0</td>\n",
       "      <td>0</td>\n",
       "      <td>0</td>\n",
       "    </tr>\n",
       "    <tr>\n",
       "      <th>1</th>\n",
       "      <td>8.38</td>\n",
       "      <td>HOBBIES_1_001_CA_1_evaluation</td>\n",
       "      <td>2016-05-24</td>\n",
       "      <td>nan</td>\n",
       "      <td>nan</td>\n",
       "      <td>nan</td>\n",
       "      <td>nan</td>\n",
       "      <td>0</td>\n",
       "      <td>0</td>\n",
       "      <td>0</td>\n",
       "    </tr>\n",
       "    <tr>\n",
       "      <th>2</th>\n",
       "      <td>8.38</td>\n",
       "      <td>HOBBIES_1_001_CA_1_evaluation</td>\n",
       "      <td>2016-05-25</td>\n",
       "      <td>nan</td>\n",
       "      <td>nan</td>\n",
       "      <td>nan</td>\n",
       "      <td>nan</td>\n",
       "      <td>0</td>\n",
       "      <td>0</td>\n",
       "      <td>0</td>\n",
       "    </tr>\n",
       "    <tr>\n",
       "      <th>3</th>\n",
       "      <td>8.38</td>\n",
       "      <td>HOBBIES_1_001_CA_1_evaluation</td>\n",
       "      <td>2016-05-26</td>\n",
       "      <td>nan</td>\n",
       "      <td>nan</td>\n",
       "      <td>nan</td>\n",
       "      <td>nan</td>\n",
       "      <td>0</td>\n",
       "      <td>0</td>\n",
       "      <td>0</td>\n",
       "    </tr>\n",
       "    <tr>\n",
       "      <th>4</th>\n",
       "      <td>8.38</td>\n",
       "      <td>HOBBIES_1_001_CA_1_evaluation</td>\n",
       "      <td>2016-05-27</td>\n",
       "      <td>nan</td>\n",
       "      <td>nan</td>\n",
       "      <td>nan</td>\n",
       "      <td>nan</td>\n",
       "      <td>0</td>\n",
       "      <td>0</td>\n",
       "      <td>0</td>\n",
       "    </tr>\n",
       "    <tr>\n",
       "      <th>...</th>\n",
       "      <td>...</td>\n",
       "      <td>...</td>\n",
       "      <td>...</td>\n",
       "      <td>...</td>\n",
       "      <td>...</td>\n",
       "      <td>...</td>\n",
       "      <td>...</td>\n",
       "      <td>...</td>\n",
       "      <td>...</td>\n",
       "      <td>...</td>\n",
       "    </tr>\n",
       "    <tr>\n",
       "      <th>853715</th>\n",
       "      <td>3.98</td>\n",
       "      <td>FOODS_3_825_WI_3_evaluation</td>\n",
       "      <td>2016-06-19</td>\n",
       "      <td>NBAFinalsEnd</td>\n",
       "      <td>Sporting</td>\n",
       "      <td>Father's day</td>\n",
       "      <td>Cultural</td>\n",
       "      <td>0</td>\n",
       "      <td>0</td>\n",
       "      <td>0</td>\n",
       "    </tr>\n",
       "    <tr>\n",
       "      <th>853716</th>\n",
       "      <td>1.28</td>\n",
       "      <td>FOODS_3_826_WI_3_evaluation</td>\n",
       "      <td>2016-06-18</td>\n",
       "      <td>nan</td>\n",
       "      <td>nan</td>\n",
       "      <td>nan</td>\n",
       "      <td>nan</td>\n",
       "      <td>0</td>\n",
       "      <td>0</td>\n",
       "      <td>0</td>\n",
       "    </tr>\n",
       "    <tr>\n",
       "      <th>853717</th>\n",
       "      <td>1.28</td>\n",
       "      <td>FOODS_3_826_WI_3_evaluation</td>\n",
       "      <td>2016-06-19</td>\n",
       "      <td>NBAFinalsEnd</td>\n",
       "      <td>Sporting</td>\n",
       "      <td>Father's day</td>\n",
       "      <td>Cultural</td>\n",
       "      <td>0</td>\n",
       "      <td>0</td>\n",
       "      <td>0</td>\n",
       "    </tr>\n",
       "    <tr>\n",
       "      <th>853718</th>\n",
       "      <td>1.00</td>\n",
       "      <td>FOODS_3_827_WI_3_evaluation</td>\n",
       "      <td>2016-06-18</td>\n",
       "      <td>nan</td>\n",
       "      <td>nan</td>\n",
       "      <td>nan</td>\n",
       "      <td>nan</td>\n",
       "      <td>0</td>\n",
       "      <td>0</td>\n",
       "      <td>0</td>\n",
       "    </tr>\n",
       "    <tr>\n",
       "      <th>853719</th>\n",
       "      <td>1.00</td>\n",
       "      <td>FOODS_3_827_WI_3_evaluation</td>\n",
       "      <td>2016-06-19</td>\n",
       "      <td>NBAFinalsEnd</td>\n",
       "      <td>Sporting</td>\n",
       "      <td>Father's day</td>\n",
       "      <td>Cultural</td>\n",
       "      <td>0</td>\n",
       "      <td>0</td>\n",
       "      <td>0</td>\n",
       "    </tr>\n",
       "  </tbody>\n",
       "</table>\n",
       "<p>853720 rows × 10 columns</p>\n",
       "</div>"
      ],
      "text/plain": [
       "        sell_price                             id       date  event_name_1  \\\n",
       "0             8.38  HOBBIES_1_001_CA_1_evaluation 2016-05-23           nan   \n",
       "1             8.38  HOBBIES_1_001_CA_1_evaluation 2016-05-24           nan   \n",
       "2             8.38  HOBBIES_1_001_CA_1_evaluation 2016-05-25           nan   \n",
       "3             8.38  HOBBIES_1_001_CA_1_evaluation 2016-05-26           nan   \n",
       "4             8.38  HOBBIES_1_001_CA_1_evaluation 2016-05-27           nan   \n",
       "...            ...                            ...        ...           ...   \n",
       "853715        3.98    FOODS_3_825_WI_3_evaluation 2016-06-19  NBAFinalsEnd   \n",
       "853716        1.28    FOODS_3_826_WI_3_evaluation 2016-06-18           nan   \n",
       "853717        1.28    FOODS_3_826_WI_3_evaluation 2016-06-19  NBAFinalsEnd   \n",
       "853718        1.00    FOODS_3_827_WI_3_evaluation 2016-06-18           nan   \n",
       "853719        1.00    FOODS_3_827_WI_3_evaluation 2016-06-19  NBAFinalsEnd   \n",
       "\n",
       "       event_type_1  event_name_2 event_type_2  snap_CA  snap_TX  snap_WI  \n",
       "0               nan           nan          nan        0        0        0  \n",
       "1               nan           nan          nan        0        0        0  \n",
       "2               nan           nan          nan        0        0        0  \n",
       "3               nan           nan          nan        0        0        0  \n",
       "4               nan           nan          nan        0        0        0  \n",
       "...             ...           ...          ...      ...      ...      ...  \n",
       "853715     Sporting  Father's day     Cultural        0        0        0  \n",
       "853716          nan           nan          nan        0        0        0  \n",
       "853717     Sporting  Father's day     Cultural        0        0        0  \n",
       "853718          nan           nan          nan        0        0        0  \n",
       "853719     Sporting  Father's day     Cultural        0        0        0  \n",
       "\n",
       "[853720 rows x 10 columns]"
      ]
     },
     "execution_count": 33,
     "metadata": {},
     "output_type": "execute_result"
    }
   ],
   "source": [
    "X_df"
   ]
  },
  {
   "cell_type": "code",
   "execution_count": 34,
   "id": "8b03ff94",
   "metadata": {},
   "outputs": [],
   "source": [
    "model_params = {\n",
    "    'verbose': -1,\n",
    "    'force_col_wise': True,\n",
    "    'num_leaves': 256,\n",
    "    'n_estimators': 50,\n",
    "}\n",
    "\n",
    "fcst = MLForecast(\n",
    "    models=[lgb.LGBMRegressor(**model_params)],\n",
    "    freq='D',\n",
    "    lags=[7 * (i+1) for i in range(8)],\n",
    "    lag_transforms = {\n",
    "        1:  [ExpandingMean()],\n",
    "        7:  [RollingMean(7), RollingMean(14), RollingMean(28), SeasonalRollingMean(7, 4)],\n",
    "        14: [RollingMean(7), RollingMean(14), RollingMean(28), SeasonalRollingMean(7, 4)],\n",
    "        28: [RollingMean(7), RollingMean(14), RollingMean(28), SeasonalRollingMean(7, 4)],\n",
    "    },\n",
    "    date_features=['year', 'month', 'day', 'dayofweek', 'quarter', 'week'],    \n",
    "    num_threads=4,\n",
    ")"
   ]
  },
  {
   "cell_type": "code",
   "execution_count": 35,
   "id": "a55a9a21",
   "metadata": {},
   "outputs": [
    {
     "name": "stdout",
     "output_type": "stream",
     "text": [
      "Wall time: 4min 51s\n"
     ]
    },
    {
     "data": {
      "text/plain": [
       "MLForecast(models=[LGBMRegressor], freq=D, lag_features=['lag7', 'lag14', 'lag21', 'lag28', 'lag35', 'lag42', 'lag49', 'lag56', 'expanding_mean_lag1', 'rolling_mean_lag7_window_size7', 'rolling_mean_lag7_window_size14', 'rolling_mean_lag7_window_size28', 'seasonal_rolling_mean_lag7_season_length7_window_size4', 'rolling_mean_lag14_window_size7', 'rolling_mean_lag14_window_size14', 'rolling_mean_lag14_window_size28', 'seasonal_rolling_mean_lag14_season_length7_window_size4', 'rolling_mean_lag28_window_size7', 'rolling_mean_lag28_window_size14', 'rolling_mean_lag28_window_size28', 'seasonal_rolling_mean_lag28_season_length7_window_size4'], date_features=['year', 'month', 'day', 'dayofweek', 'quarter', 'week'], num_threads=4)"
      ]
     },
     "execution_count": 35,
     "metadata": {},
     "output_type": "execute_result"
    }
   ],
   "source": [
    "%%time\n",
    "fcst.fit(\n",
    "    long,\n",
    "    id_col='id',\n",
    "    time_col='date',\n",
    "    target_col='y',\n",
    "    static_features=['id', 'item_id', 'dept_id', 'cat_id', 'store_id', 'state_id'],\n",
    ")"
   ]
  },
  {
   "cell_type": "code",
   "execution_count": 36,
   "id": "5ea18c67",
   "metadata": {},
   "outputs": [
    {
     "data": {
      "text/plain": [
       "'0.11.2'"
      ]
     },
     "execution_count": 36,
     "metadata": {},
     "output_type": "execute_result"
    }
   ],
   "source": [
    "mlforecast.__version__\n"
   ]
  },
  {
   "cell_type": "code",
   "execution_count": 37,
   "id": "e7eb4907",
   "metadata": {},
   "outputs": [
    {
     "ename": "ValueError",
     "evalue": "Found missing inputs in X_df. It should have one row per id and time for the complete forecasting horizon.\nYou can get the expected structure by running `MLForecast.make_future_dataframe(h)` or get the missing combinatins in your current `X_df` by running `MLForecast.get_missing_future(h, X_df)`.",
     "output_type": "error",
     "traceback": [
      "\u001b[1;31m---------------------------------------------------------------------------\u001b[0m",
      "\u001b[1;31mValueError\u001b[0m                                Traceback (most recent call last)",
      "\u001b[1;32m<timed exec>\u001b[0m in \u001b[0;36m<module>\u001b[1;34m\u001b[0m\n",
      "\u001b[1;32m~\\anaconda3\\lib\\site-packages\\mlforecast\\forecast.py\u001b[0m in \u001b[0;36mpredict\u001b[1;34m(self, h, before_predict_callback, after_predict_callback, new_df, level, X_df, ids)\u001b[0m\n\u001b[0;32m    665\u001b[0m             \u001b[0mts\u001b[0m \u001b[1;33m=\u001b[0m \u001b[0mself\u001b[0m\u001b[1;33m.\u001b[0m\u001b[0mts\u001b[0m\u001b[1;33m\u001b[0m\u001b[1;33m\u001b[0m\u001b[0m\n\u001b[0;32m    666\u001b[0m \u001b[1;33m\u001b[0m\u001b[0m\n\u001b[1;32m--> 667\u001b[1;33m         forecasts = ts.predict(\n\u001b[0m\u001b[0;32m    668\u001b[0m             \u001b[0mmodels\u001b[0m\u001b[1;33m=\u001b[0m\u001b[0mself\u001b[0m\u001b[1;33m.\u001b[0m\u001b[0mmodels_\u001b[0m\u001b[1;33m,\u001b[0m\u001b[1;33m\u001b[0m\u001b[1;33m\u001b[0m\u001b[0m\n\u001b[0;32m    669\u001b[0m             \u001b[0mhorizon\u001b[0m\u001b[1;33m=\u001b[0m\u001b[0mh\u001b[0m\u001b[1;33m,\u001b[0m\u001b[1;33m\u001b[0m\u001b[1;33m\u001b[0m\u001b[0m\n",
      "\u001b[1;32m~\\anaconda3\\lib\\site-packages\\mlforecast\\core.py\u001b[0m in \u001b[0;36mpredict\u001b[1;34m(self, models, horizon, before_predict_callback, after_predict_callback, X_df, ids)\u001b[0m\n\u001b[0;32m    717\u001b[0m                     \u001b[1;34m\"or get the missing combinatins in your current `X_df` by running `MLForecast.get_missing_future(h, X_df)`.\"\u001b[0m\u001b[1;33m\u001b[0m\u001b[1;33m\u001b[0m\u001b[0m\n\u001b[0;32m    718\u001b[0m                 )\n\u001b[1;32m--> 719\u001b[1;33m                 \u001b[1;32mraise\u001b[0m \u001b[0mValueError\u001b[0m\u001b[1;33m(\u001b[0m\u001b[0mmsg\u001b[0m\u001b[1;33m)\u001b[0m\u001b[1;33m\u001b[0m\u001b[1;33m\u001b[0m\u001b[0m\n\u001b[0m\u001b[0;32m    720\u001b[0m             \u001b[0mdrop_cols\u001b[0m \u001b[1;33m=\u001b[0m \u001b[1;33m[\u001b[0m\u001b[0mself\u001b[0m\u001b[1;33m.\u001b[0m\u001b[0mid_col\u001b[0m\u001b[1;33m,\u001b[0m \u001b[0mself\u001b[0m\u001b[1;33m.\u001b[0m\u001b[0mtime_col\u001b[0m\u001b[1;33m,\u001b[0m \u001b[1;34m\"_start\"\u001b[0m\u001b[1;33m,\u001b[0m \u001b[1;34m\"_end\"\u001b[0m\u001b[1;33m]\u001b[0m\u001b[1;33m\u001b[0m\u001b[1;33m\u001b[0m\u001b[0m\n\u001b[0;32m    721\u001b[0m             \u001b[0mX_df\u001b[0m \u001b[1;33m=\u001b[0m \u001b[0mufp\u001b[0m\u001b[1;33m.\u001b[0m\u001b[0msort\u001b[0m\u001b[1;33m(\u001b[0m\u001b[0mX_df\u001b[0m\u001b[1;33m,\u001b[0m \u001b[1;33m[\u001b[0m\u001b[0mself\u001b[0m\u001b[1;33m.\u001b[0m\u001b[0mid_col\u001b[0m\u001b[1;33m,\u001b[0m \u001b[0mself\u001b[0m\u001b[1;33m.\u001b[0m\u001b[0mtime_col\u001b[0m\u001b[1;33m]\u001b[0m\u001b[1;33m)\u001b[0m\u001b[1;33m.\u001b[0m\u001b[0mdrop\u001b[0m\u001b[1;33m(\u001b[0m\u001b[0mcolumns\u001b[0m\u001b[1;33m=\u001b[0m\u001b[0mdrop_cols\u001b[0m\u001b[1;33m)\u001b[0m\u001b[1;33m\u001b[0m\u001b[1;33m\u001b[0m\u001b[0m\n",
      "\u001b[1;31mValueError\u001b[0m: Found missing inputs in X_df. It should have one row per id and time for the complete forecasting horizon.\nYou can get the expected structure by running `MLForecast.make_future_dataframe(h)` or get the missing combinatins in your current `X_df` by running `MLForecast.get_missing_future(h, X_df)`."
     ]
    }
   ],
   "source": [
    "%time preds = fcst.predict(28, X_df=X_df)"
   ]
  },
  {
   "cell_type": "code",
   "execution_count": null,
   "id": "7d390905",
   "metadata": {},
   "outputs": [],
   "source": []
  },
  {
   "cell_type": "code",
   "execution_count": null,
   "id": "b2e43b7b",
   "metadata": {},
   "outputs": [],
   "source": [
    "wide = preds.pivot_table(index='id', columns='date')\n",
    "wide.columns = [f'F{i+1}' for i in range(28)]\n",
    "wide.columns.name = None\n",
    "wide.index.name = 'id'\n",
    "wide"
   ]
  },
  {
   "cell_type": "code",
   "execution_count": null,
   "id": "50f7f45c",
   "metadata": {},
   "outputs": [],
   "source": [
    "%pip install -qqq \"mlforecast[lag_transforms]\""
   ]
  },
  {
   "cell_type": "code",
   "execution_count": null,
   "id": "957055ec",
   "metadata": {},
   "outputs": [],
   "source": [
    "from pathlib import Path\n",
    "\n",
    "import lightgbm as lgb\n",
    "import mlforecast\n",
    "import numpy as np\n",
    "import pandas as pd\n",
    "from mlforecast import MLForecast\n",
    "from mlforecast.lag_transforms import ExpandingMean, RollingMean, SeasonalRollingMean"
   ]
  },
  {
   "cell_type": "code",
   "execution_count": null,
   "id": "8e28f4b6",
   "metadata": {},
   "outputs": [],
   "source": [
    "mlforecast.__version__"
   ]
  },
  {
   "cell_type": "code",
   "execution_count": null,
   "id": "0841456c",
   "metadata": {},
   "outputs": [],
   "source": [
    "cal_dtypes = {\n",
    "    'd': 'category',\n",
    "    'wm_yr_wk': np.uint16,\n",
    "    'event_name_1': 'category',\n",
    "    'event_type_1': 'category',\n",
    "    'event_name_2': 'category',\n",
    "    'event_type_2': 'category',\n",
    "    'snap_CA': np.uint8,\n",
    "    'snap_TX': np.uint8,\n",
    "    'snap_WI': np.uint8,\n",
    "}\n",
    "cal = pd.read_csv('calendar.csv', \n",
    "                  dtype=cal_dtypes, \n",
    "                  usecols=list(cal_dtypes.keys()) + ['date'], \n",
    "                  parse_dates=['date'])\n",
    "event_cols = [k for k in cal_dtypes if k.startswith('event')]\n",
    "for col in event_cols:\n",
    "    cal[col] = cal[col].cat.add_categories('nan').fillna('nan')"
   ]
  },
  {
   "cell_type": "code",
   "execution_count": null,
   "id": "56e9f076",
   "metadata": {},
   "outputs": [],
   "source": [
    "prices_dtypes = {\n",
    "    'store_id': 'category',\n",
    "    'item_id': 'category',\n",
    "    'wm_yr_wk': np.uint16,\n",
    "    'sell_price': np.float32\n",
    "}\n",
    "prices = pd.read_csv( 'sell_prices.csv', dtype=prices_dtypes)"
   ]
  },
  {
   "cell_type": "code",
   "execution_count": null,
   "id": "4508e7f6",
   "metadata": {},
   "outputs": [],
   "source": [
    "prices_dtypes = {\n",
    "    'store_id': 'category',\n",
    "    'item_id': 'category',\n",
    "    'wm_yr_wk': np.uint16,\n",
    "    'sell_price': np.float32\n",
    "}\n",
    "prices = pd.read_csv('sell_prices.csv', dtype=prices_dtypes)"
   ]
  },
  {
   "cell_type": "code",
   "execution_count": null,
   "id": "0e130fd1",
   "metadata": {},
   "outputs": [],
   "source": [
    "long = sales.melt(\n",
    "    id_vars=['id', 'item_id', 'dept_id', 'cat_id', 'store_id', 'state_id'],\n",
    "    var_name='d',\n",
    "    value_name='y'\n",
    ")"
   ]
  },
  {
   "cell_type": "code",
   "execution_count": null,
   "id": "a2c65b9e",
   "metadata": {},
   "outputs": [],
   "source": [
    "%%time\n",
    "print(long.shape[0])\n",
    "long['date_idx'] = long['d'].str.replace('d_', '').astype('int32')\n",
    "dates = sorted(long['date_idx'].unique())\n",
    "long = long.sort_values(['id', 'date_idx'])\n",
    "without_leading_zeros = long['y'].gt(0).groupby(long['id']).transform('cummax')\n",
    "above_min_date = long['date_idx'] >= dates[-400]\n",
    "keep_mask = without_leading_zeros & above_min_date\n",
    "long = long[keep_mask]\n",
    "print(long.shape[0])"
   ]
  },
  {
   "cell_type": "code",
   "execution_count": null,
   "id": "adb42943",
   "metadata": {},
   "outputs": [],
   "source": [
    "long['d'] = long['d'].astype(cal.d.dtype)\n",
    "long = long.merge(cal, on=['d'])\n",
    "long = long.merge(prices, on=['store_id', 'item_id', 'wm_yr_wk'])\n",
    "last_wmyrwk = long['wm_yr_wk'].max()\n",
    "last_date_train = long['date'].max()\n",
    "long = long.drop(columns=['d', 'date_idx', 'wm_yr_wk'])\n",
    "long = long.sample(frac=1.0, random_state=0).reset_index(drop=True)\n",
    "\n",
    "# build future X\n",
    "future_cal = cal[cal['date'] > last_date_train]\n",
    "future_prices = prices[prices['wm_yr_wk'] >= last_wmyrwk].copy()\n",
    "future_prices['id'] = future_prices['item_id'].astype(str) + '_' + future_prices['store_id'].astype(str) + '_evaluation'\n",
    "X_df = future_prices.merge(future_cal, on='wm_yr_wk').drop(columns=['store_id', 'item_id', 'wm_yr_wk', 'd'])"
   ]
  },
  {
   "cell_type": "code",
   "execution_count": null,
   "id": "58cb7a28",
   "metadata": {},
   "outputs": [],
   "source": [
    "X_df = future_prices.merge(future_cal, on='wm_yr_wk').drop(columns=['store_id', 'item_id', 'wm_yr_wk', 'd'])"
   ]
  },
  {
   "cell_type": "code",
   "execution_count": null,
   "id": "d156a4c3",
   "metadata": {},
   "outputs": [],
   "source": [
    "model_params = {\n",
    "    'verbose': -1,\n",
    "    'force_col_wise': True,\n",
    "    'num_leaves': 256,\n",
    "    'n_estimators': 50,\n",
    "}\n",
    "\n",
    "fcst = MLForecast(\n",
    "    models=[lgb.LGBMRegressor(**model_params)],\n",
    "    freq='D',\n",
    "    lags=[7 * (i+1) for i in range(8)],\n",
    "    lag_transforms = {\n",
    "        1:  [ExpandingMean()],\n",
    "        7:  [RollingMean(7), RollingMean(14), RollingMean(28), SeasonalRollingMean(7, 4)],\n",
    "        14: [RollingMean(7), RollingMean(14), RollingMean(28), SeasonalRollingMean(7, 4)],\n",
    "        28: [RollingMean(7), RollingMean(14), RollingMean(28), SeasonalRollingMean(7, 4)],\n",
    "    },\n",
    "    date_features=['year', 'month', 'day', 'dayofweek', 'quarter', 'week'],    \n",
    "    num_threads=4,\n",
    ")"
   ]
  },
  {
   "cell_type": "code",
   "execution_count": null,
   "id": "7fd94403",
   "metadata": {},
   "outputs": [],
   "source": [
    "%%time\n",
    "fcst.fit(\n",
    "    long,\n",
    "    id_col='id',\n",
    "    time_col='date',\n",
    "    target_col='y',\n",
    "    static_features=['id', 'item_id', 'dept_id', 'cat_id', 'store_id', 'state_id'],\n",
    ")"
   ]
  },
  {
   "cell_type": "code",
   "execution_count": null,
   "id": "ba3aadd3",
   "metadata": {},
   "outputs": [],
   "source": []
  },
  {
   "cell_type": "code",
   "execution_count": null,
   "id": "ee3ca98a",
   "metadata": {},
   "outputs": [],
   "source": [
    "%time preds = fcst.predict(28, X_df=X_df)"
   ]
  },
  {
   "cell_type": "code",
   "execution_count": null,
   "id": "04b53400",
   "metadata": {},
   "outputs": [],
   "source": [
    "fcst.make_future_dataframe(28)"
   ]
  },
  {
   "cell_type": "code",
   "execution_count": null,
   "id": "5a65068b",
   "metadata": {},
   "outputs": [],
   "source": [
    "x=fcst.get_missing_future(28, X_df)"
   ]
  },
  {
   "cell_type": "code",
   "execution_count": null,
   "id": "3e89769f",
   "metadata": {},
   "outputs": [],
   "source": [
    "fcst.get_missing_future(28, X_df)"
   ]
  },
  {
   "cell_type": "code",
   "execution_count": null,
   "id": "09423caa",
   "metadata": {},
   "outputs": [],
   "source": [
    "x[x['id']=='HOBBIES_2_132_CA_1_evaluation']"
   ]
  },
  {
   "cell_type": "code",
   "execution_count": null,
   "id": "a46b131c",
   "metadata": {},
   "outputs": [],
   "source": [
    "x[x['id']=='FOODS_3_776_WI_3_evaluation']"
   ]
  },
  {
   "cell_type": "code",
   "execution_count": null,
   "id": "ed62ea58",
   "metadata": {
    "scrolled": true
   },
   "outputs": [],
   "source": [
    "X_df[X_df['id']=='FOODS_3_776_WI_3_evaluation']"
   ]
  },
  {
   "cell_type": "code",
   "execution_count": null,
   "id": "9963d83f",
   "metadata": {},
   "outputs": [],
   "source": [
    "!python --version"
   ]
  },
  {
   "cell_type": "code",
   "execution_count": 38,
   "id": "1002ebd4",
   "metadata": {},
   "outputs": [],
   "source": [
    "cal_dtypes = {\n",
    "    'd': 'category',\n",
    "    'wm_yr_wk': np.uint16,\n",
    "    'event_name_1': 'category',\n",
    "    'event_type_1': 'category',\n",
    "    'event_name_2': 'category',\n",
    "    'event_type_2': 'category',\n",
    "    'snap_CA': np.uint8,\n",
    "    'snap_TX': np.uint8,\n",
    "    'snap_WI': np.uint8,\n",
    "}\n",
    "cal = pd.read_csv( 'calendar.csv', \n",
    "                  dtype=cal_dtypes, \n",
    "                  usecols=list(cal_dtypes.keys()) + ['date'], \n",
    "                  parse_dates=['date'])\n",
    "event_cols = [k for k in cal_dtypes if k.startswith('event')]\n",
    "for col in event_cols:\n",
    "    cal[col] = cal[col].cat.add_categories('nan').fillna('nan')"
   ]
  },
  {
   "cell_type": "code",
   "execution_count": 39,
   "id": "2240074a",
   "metadata": {},
   "outputs": [],
   "source": [
    "prices_dtypes = {\n",
    "    'store_id': 'category',\n",
    "    'item_id': 'category',\n",
    "    'wm_yr_wk': np.uint16,\n",
    "    'sell_price': np.float32\n",
    "}\n",
    "prices = pd.read_csv('sell_prices.csv', dtype=prices_dtypes)"
   ]
  },
  {
   "cell_type": "code",
   "execution_count": 40,
   "id": "cbaafb44",
   "metadata": {},
   "outputs": [],
   "source": [
    "sales_dtypes = {\n",
    "    'id': 'category',\n",
    "    'item_id': prices.item_id.dtype,\n",
    "    'dept_id': 'category',\n",
    "    'cat_id': 'category',\n",
    "    'store_id': 'category',\n",
    "    'state_id': 'category',\n",
    "    **{f'd_{i}': np.float32 for i in range(1942)}\n",
    "}\n",
    "sales = pd.read_csv(\n",
    "    'sales_train_evaluation.csv',\n",
    "    dtype=sales_dtypes,\n",
    ")"
   ]
  },
  {
   "cell_type": "code",
   "execution_count": 42,
   "id": "41485c9f",
   "metadata": {},
   "outputs": [],
   "source": [
    "long = sales.melt(\n",
    "    id_vars=['id', 'item_id', 'dept_id', 'cat_id', 'store_id', 'state_id'],\n",
    "    var_name='d',\n",
    "    value_name='y'\n",
    ")"
   ]
  },
  {
   "cell_type": "code",
   "execution_count": 43,
   "id": "7f21d32f",
   "metadata": {},
   "outputs": [
    {
     "name": "stdout",
     "output_type": "stream",
     "text": [
      "59181090\n",
      "Wall time: 1min\n"
     ]
    }
   ],
   "source": [
    "%%time\n",
    "print(long.shape[0])\n",
    "long['date_idx'] = long['d'].str.replace('d_', '').astype('int32')\n",
    "dates = sorted(long['date_idx'].unique())\n",
    "long = long.sort_values(['id', 'date_idx'])\n"
   ]
  },
  {
   "cell_type": "code",
   "execution_count": 44,
   "id": "344453d1",
   "metadata": {},
   "outputs": [],
   "source": [
    "without_leading_zeros = long['y'].gt(0).groupby(long['id']).transform('cummax')"
   ]
  },
  {
   "cell_type": "code",
   "execution_count": 45,
   "id": "41a84415",
   "metadata": {},
   "outputs": [
    {
     "name": "stdout",
     "output_type": "stream",
     "text": [
      "12159132\n"
     ]
    }
   ],
   "source": [
    "above_min_date = long['date_idx'] >= dates[-400]\n",
    "keep_mask = without_leading_zeros & above_min_date\n",
    "long = long[keep_mask]\n",
    "print(long.shape[0])"
   ]
  },
  {
   "cell_type": "code",
   "execution_count": 46,
   "id": "9ae02697",
   "metadata": {},
   "outputs": [],
   "source": [
    "long['d'] = long['d'].astype(cal.d.dtype)\n"
   ]
  },
  {
   "cell_type": "code",
   "execution_count": 47,
   "id": "fd87cdc7",
   "metadata": {},
   "outputs": [],
   "source": [
    "long = long.merge(cal, on=['d'])\n",
    "long = long.merge(prices, on=['store_id', 'item_id', 'wm_yr_wk'])\n",
    "last_wmyrwk = long['wm_yr_wk'].max()\n",
    "last_date_train = long['date'].max()\n",
    "long = long.drop(columns=['d', 'date_idx', 'wm_yr_wk'])\n",
    "long = long.sample(frac=1.0, random_state=0).reset_index(drop=True)\n",
    "\n",
    "# build future X\n",
    "future_cal = cal[cal['date'] > last_date_train]\n",
    "future_prices = prices[prices['wm_yr_wk'] >= last_wmyrwk].copy()\n",
    "future_prices['id'] = future_prices['item_id'].astype(str) + '_' + future_prices['store_id'].astype(str) + '_evaluation'\n",
    "X_df = future_prices.merge(future_cal, on='wm_yr_wk').drop(columns=['store_id', 'item_id', 'wm_yr_wk', 'd'])"
   ]
  },
  {
   "cell_type": "code",
   "execution_count": null,
   "id": "8272e0bc",
   "metadata": {},
   "outputs": [],
   "source": [
    "model_params = {\n",
    "    'verbose': -1,\n",
    "    'force_col_wise': True,\n",
    "    'num_leaves': 256,\n",
    "    'n_estimators': 50,\n",
    "}\n",
    "\n",
    "fcst = MLForecast(\n",
    "    models=[lgb.LGBMRegressor(**model_params)],\n",
    "    freq='D',\n",
    "    lags=[7 * (i+1) for i in range(8)],\n",
    "    lag_transforms = {\n",
    "        1:  [ExpandingMean()],\n",
    "        7:  [RollingMean(7), RollingMean(14), RollingMean(28), SeasonalRollingMean(7, 4)],\n",
    "        14: [RollingMean(7), RollingMean(14), RollingMean(28), SeasonalRollingMean(7, 4)],\n",
    "        28: [RollingMean(7), RollingMean(14), RollingMean(28), SeasonalRollingMean(7, 4)],\n",
    "    },\n",
    "    date_features=['year', 'month', 'day', 'dayofweek', 'quarter', 'week'],    \n",
    "    num_threads=4,\n",
    ")"
   ]
  }
 ],
 "metadata": {
  "kernelspec": {
   "display_name": "Python 3 (ipykernel)",
   "language": "python",
   "name": "python3"
  },
  "language_info": {
   "codemirror_mode": {
    "name": "ipython",
    "version": 3
   },
   "file_extension": ".py",
   "mimetype": "text/x-python",
   "name": "python",
   "nbconvert_exporter": "python",
   "pygments_lexer": "ipython3",
   "version": "3.9.7"
  }
 },
 "nbformat": 4,
 "nbformat_minor": 5
}
