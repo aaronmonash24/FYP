{
 "cells": [
  {
   "cell_type": "markdown",
   "id": "27cd3a20",
   "metadata": {},
   "source": [
    "# Calculate Price Elasticity of Demand"
   ]
  },
  {
   "cell_type": "code",
   "execution_count": 3,
   "id": "d67e8c0c",
   "metadata": {},
   "outputs": [],
   "source": [
    "import pandas as pd\n",
    "import statsmodels.api as sm \n",
    "import numpy as np\n",
    "import matplotlib.pyplot as plt\n",
    "import seaborn as sns"
   ]
  },
  {
   "cell_type": "code",
   "execution_count": 68,
   "id": "4792c83f",
   "metadata": {},
   "outputs": [],
   "source": [
    "def calculate_ped(group):\n",
    "    X = sm.add_constant(group['sell_price'])\n",
    "    model = sm.OLS(group['sold'], X).fit()\n",
    "    price_coef = model.params['sell_price']\n",
    "#     mean_sellprice = np.mean(group['sell_price'])\n",
    "#     mean_quantity = np.mean(group['sold'])\n",
    "#     ped = price_coef * (mean_sellprice / mean_quantity)\n",
    "    return price_coef"
   ]
  },
  {
   "cell_type": "code",
   "execution_count": 272,
   "id": "39a29227",
   "metadata": {},
   "outputs": [],
   "source": [
    "def calculate_ped(group):\n",
    "    X = sm.add_constant(group['sell_price'])\n",
    "    model = sm.OLS(group['sold'], X).fit()\n",
    "    price_coef = model.params['sell_price']\n",
    "    return price_coef"
   ]
  },
  {
   "cell_type": "code",
   "execution_count": 204,
   "id": "5843719f",
   "metadata": {},
   "outputs": [],
   "source": [
    "def calculate_ped3(data_df):\n",
    "    # Calculate the percentage change in quantity demanded\n",
    "    data_df['percentage_change_quantity'] = data_df['sold'].pct_change() * 100\n",
    "\n",
    "    # Calculate the percentage change in price\n",
    "    data_df['percentage_change_price'] = data_df['sell_price'].pct_change() * 100\n",
    "\n",
    "#     # Calculate the average price\n",
    "#     data_df['average_price'] = (data_df['sell_price'].shift(1) + data_df['sell_price']) / 2\n",
    "    \n",
    "#     # Calculate the average quantity demanded\n",
    "#     data_df['average_quantity'] = (data_df['quantity'].shift(1) + data_df['quantity']) / 2\n",
    "    \n",
    "    # Calculate the price elasticity of demand (PED)\n",
    "#     data_df['PED'] = data_df['percentage_change_quantity'] / data_df['percentage_change_price']\n",
    "    \n",
    "    return data_df"
   ]
  },
  {
   "cell_type": "code",
   "execution_count": 250,
   "id": "4b3a5ff8",
   "metadata": {},
   "outputs": [],
   "source": [
    "def ped(df):\n",
    "    df['PED'] = ((df['sold'].diff() / ((df['sold'] + df['sold'].shift(-1)) / 2)) /\n",
    "             (df['sell_price'].diff() / ((df['sell_price'] + df['sell_price'].shift(-1)) / 2)))\n",
    "    return df"
   ]
  },
  {
   "cell_type": "code",
   "execution_count": 223,
   "id": "f886822d",
   "metadata": {},
   "outputs": [],
   "source": [
    "def ped(data_df):\n",
    "    data_df['PED'] = data_df['percentage_change_quantity'] / data_df['percentage_change_price']\n",
    "    return data_df"
   ]
  },
  {
   "cell_type": "markdown",
   "id": "43ae35ef",
   "metadata": {},
   "source": [
    "## Calculate PED for hobbies items"
   ]
  },
  {
   "cell_type": "code",
   "execution_count": 5,
   "id": "58f8f7c2",
   "metadata": {},
   "outputs": [
    {
     "name": "stderr",
     "output_type": "stream",
     "text": [
      "/Users/chloeang/opt/anaconda3/lib/python3.9/site-packages/IPython/core/interactiveshell.py:3444: DtypeWarning: Columns (15,16,17,18) have mixed types.Specify dtype option on import or set low_memory=False.\n",
      "  exec(code_obj, self.user_global_ns, self.user_ns)\n"
     ]
    }
   ],
   "source": [
    "hobbies_df = pd.read_csv('hobbies_df.csv')\n",
    "hobbies_df =hobbies_df.drop(hobbies_df.columns[0],axis=1)"
   ]
  },
  {
   "cell_type": "code",
   "execution_count": 7,
   "id": "ef89974c",
   "metadata": {},
   "outputs": [],
   "source": [
    "hobbies_df = hobbies_df.dropna(subset = ['sell_price'])"
   ]
  },
  {
   "cell_type": "code",
   "execution_count": 8,
   "id": "4b1ceddc",
   "metadata": {},
   "outputs": [
    {
     "data": {
      "text/html": [
       "<div>\n",
       "<style scoped>\n",
       "    .dataframe tbody tr th:only-of-type {\n",
       "        vertical-align: middle;\n",
       "    }\n",
       "\n",
       "    .dataframe tbody tr th {\n",
       "        vertical-align: top;\n",
       "    }\n",
       "\n",
       "    .dataframe thead th {\n",
       "        text-align: right;\n",
       "    }\n",
       "</style>\n",
       "<table border=\"1\" class=\"dataframe\">\n",
       "  <thead>\n",
       "    <tr style=\"text-align: right;\">\n",
       "      <th></th>\n",
       "      <th>id</th>\n",
       "      <th>item_id</th>\n",
       "      <th>dept_id</th>\n",
       "      <th>cat_id</th>\n",
       "      <th>store_id</th>\n",
       "      <th>state_id</th>\n",
       "      <th>d</th>\n",
       "      <th>sold</th>\n",
       "      <th>date</th>\n",
       "      <th>wm_yr_wk</th>\n",
       "      <th>...</th>\n",
       "      <th>month</th>\n",
       "      <th>year</th>\n",
       "      <th>event_name_1</th>\n",
       "      <th>event_type_1</th>\n",
       "      <th>event_name_2</th>\n",
       "      <th>event_type_2</th>\n",
       "      <th>snap_CA</th>\n",
       "      <th>snap_TX</th>\n",
       "      <th>snap_WI</th>\n",
       "      <th>sell_price</th>\n",
       "    </tr>\n",
       "  </thead>\n",
       "  <tbody>\n",
       "    <tr>\n",
       "      <th>7</th>\n",
       "      <td>HOBBIES_1_008_CA_1_validation</td>\n",
       "      <td>HOBBIES_1_008</td>\n",
       "      <td>HOBBIES_1</td>\n",
       "      <td>HOBBIES</td>\n",
       "      <td>CA_1</td>\n",
       "      <td>CA</td>\n",
       "      <td>d_1</td>\n",
       "      <td>12</td>\n",
       "      <td>2011-01-29</td>\n",
       "      <td>11101</td>\n",
       "      <td>...</td>\n",
       "      <td>1</td>\n",
       "      <td>2011</td>\n",
       "      <td>NaN</td>\n",
       "      <td>NaN</td>\n",
       "      <td>NaN</td>\n",
       "      <td>NaN</td>\n",
       "      <td>0</td>\n",
       "      <td>0</td>\n",
       "      <td>0</td>\n",
       "      <td>0.46</td>\n",
       "    </tr>\n",
       "    <tr>\n",
       "      <th>8</th>\n",
       "      <td>HOBBIES_1_009_CA_1_validation</td>\n",
       "      <td>HOBBIES_1_009</td>\n",
       "      <td>HOBBIES_1</td>\n",
       "      <td>HOBBIES</td>\n",
       "      <td>CA_1</td>\n",
       "      <td>CA</td>\n",
       "      <td>d_1</td>\n",
       "      <td>2</td>\n",
       "      <td>2011-01-29</td>\n",
       "      <td>11101</td>\n",
       "      <td>...</td>\n",
       "      <td>1</td>\n",
       "      <td>2011</td>\n",
       "      <td>NaN</td>\n",
       "      <td>NaN</td>\n",
       "      <td>NaN</td>\n",
       "      <td>NaN</td>\n",
       "      <td>0</td>\n",
       "      <td>0</td>\n",
       "      <td>0</td>\n",
       "      <td>1.56</td>\n",
       "    </tr>\n",
       "    <tr>\n",
       "      <th>9</th>\n",
       "      <td>HOBBIES_1_010_CA_1_validation</td>\n",
       "      <td>HOBBIES_1_010</td>\n",
       "      <td>HOBBIES_1</td>\n",
       "      <td>HOBBIES</td>\n",
       "      <td>CA_1</td>\n",
       "      <td>CA</td>\n",
       "      <td>d_1</td>\n",
       "      <td>0</td>\n",
       "      <td>2011-01-29</td>\n",
       "      <td>11101</td>\n",
       "      <td>...</td>\n",
       "      <td>1</td>\n",
       "      <td>2011</td>\n",
       "      <td>NaN</td>\n",
       "      <td>NaN</td>\n",
       "      <td>NaN</td>\n",
       "      <td>NaN</td>\n",
       "      <td>0</td>\n",
       "      <td>0</td>\n",
       "      <td>0</td>\n",
       "      <td>3.17</td>\n",
       "    </tr>\n",
       "    <tr>\n",
       "      <th>11</th>\n",
       "      <td>HOBBIES_1_012_CA_1_validation</td>\n",
       "      <td>HOBBIES_1_012</td>\n",
       "      <td>HOBBIES_1</td>\n",
       "      <td>HOBBIES</td>\n",
       "      <td>CA_1</td>\n",
       "      <td>CA</td>\n",
       "      <td>d_1</td>\n",
       "      <td>0</td>\n",
       "      <td>2011-01-29</td>\n",
       "      <td>11101</td>\n",
       "      <td>...</td>\n",
       "      <td>1</td>\n",
       "      <td>2011</td>\n",
       "      <td>NaN</td>\n",
       "      <td>NaN</td>\n",
       "      <td>NaN</td>\n",
       "      <td>NaN</td>\n",
       "      <td>0</td>\n",
       "      <td>0</td>\n",
       "      <td>0</td>\n",
       "      <td>5.98</td>\n",
       "    </tr>\n",
       "    <tr>\n",
       "      <th>14</th>\n",
       "      <td>HOBBIES_1_015_CA_1_validation</td>\n",
       "      <td>HOBBIES_1_015</td>\n",
       "      <td>HOBBIES_1</td>\n",
       "      <td>HOBBIES</td>\n",
       "      <td>CA_1</td>\n",
       "      <td>CA</td>\n",
       "      <td>d_1</td>\n",
       "      <td>4</td>\n",
       "      <td>2011-01-29</td>\n",
       "      <td>11101</td>\n",
       "      <td>...</td>\n",
       "      <td>1</td>\n",
       "      <td>2011</td>\n",
       "      <td>NaN</td>\n",
       "      <td>NaN</td>\n",
       "      <td>NaN</td>\n",
       "      <td>NaN</td>\n",
       "      <td>0</td>\n",
       "      <td>0</td>\n",
       "      <td>0</td>\n",
       "      <td>0.70</td>\n",
       "    </tr>\n",
       "  </tbody>\n",
       "</table>\n",
       "<p>5 rows × 22 columns</p>\n",
       "</div>"
      ],
      "text/plain": [
       "                               id        item_id    dept_id   cat_id store_id  \\\n",
       "7   HOBBIES_1_008_CA_1_validation  HOBBIES_1_008  HOBBIES_1  HOBBIES     CA_1   \n",
       "8   HOBBIES_1_009_CA_1_validation  HOBBIES_1_009  HOBBIES_1  HOBBIES     CA_1   \n",
       "9   HOBBIES_1_010_CA_1_validation  HOBBIES_1_010  HOBBIES_1  HOBBIES     CA_1   \n",
       "11  HOBBIES_1_012_CA_1_validation  HOBBIES_1_012  HOBBIES_1  HOBBIES     CA_1   \n",
       "14  HOBBIES_1_015_CA_1_validation  HOBBIES_1_015  HOBBIES_1  HOBBIES     CA_1   \n",
       "\n",
       "   state_id    d  sold        date  wm_yr_wk  ... month  year  event_name_1  \\\n",
       "7        CA  d_1    12  2011-01-29     11101  ...     1  2011           NaN   \n",
       "8        CA  d_1     2  2011-01-29     11101  ...     1  2011           NaN   \n",
       "9        CA  d_1     0  2011-01-29     11101  ...     1  2011           NaN   \n",
       "11       CA  d_1     0  2011-01-29     11101  ...     1  2011           NaN   \n",
       "14       CA  d_1     4  2011-01-29     11101  ...     1  2011           NaN   \n",
       "\n",
       "    event_type_1 event_name_2 event_type_2 snap_CA snap_TX  snap_WI  \\\n",
       "7            NaN          NaN          NaN       0       0        0   \n",
       "8            NaN          NaN          NaN       0       0        0   \n",
       "9            NaN          NaN          NaN       0       0        0   \n",
       "11           NaN          NaN          NaN       0       0        0   \n",
       "14           NaN          NaN          NaN       0       0        0   \n",
       "\n",
       "    sell_price  \n",
       "7         0.46  \n",
       "8         1.56  \n",
       "9         3.17  \n",
       "11        5.98  \n",
       "14        0.70  \n",
       "\n",
       "[5 rows x 22 columns]"
      ]
     },
     "execution_count": 8,
     "metadata": {},
     "output_type": "execute_result"
    }
   ],
   "source": [
    "hobbies_df.head(5)"
   ]
  },
  {
   "cell_type": "code",
   "execution_count": 126,
   "id": "c5cc96fc",
   "metadata": {},
   "outputs": [
    {
     "data": {
      "image/png": "[encoded data removed]",
      "text/plain": [
       "<Figure size 432x288 with 1 Axes>"
      ]
     },
     "metadata": {
      "needs_background": "light"
     },
     "output_type": "display_data"
    },
    {
     "data": {
      "text/plain": [
       "<Figure size 720x432 with 0 Axes>"
      ]
     },
     "metadata": {},
     "output_type": "display_data"
    }
   ],
   "source": [
    "# To get a rough idea of relationship between price and quantity\n",
    "# We can see the distribution of price and quantity\n",
    "# when price is low, quantity sold is higher\n",
    "plt.scatter(hobbies_df['sell_price'],hobbies_df['sold'])\n",
    "plt.figure(figsize=(10, 6))\n",
    "plt.show()"
   ]
  },
  {
   "cell_type": "code",
   "execution_count": 21,
   "id": "54f01b5b",
   "metadata": {},
   "outputs": [
    {
     "name": "stdout",
     "output_type": "stream",
     "text": [
      "                                    id  wm_yr_wk  sold  sell_price\n",
      "0        HOBBIES_1_001_CA_1_validation     11325     1        9.58\n",
      "1        HOBBIES_1_001_CA_1_validation     11326     0        9.58\n",
      "2        HOBBIES_1_001_CA_1_validation     11327     2        8.26\n",
      "3        HOBBIES_1_001_CA_1_validation     11328     2        8.26\n",
      "4        HOBBIES_1_001_CA_1_validation     11329     6        8.26\n",
      "...                                ...       ...   ...         ...\n",
      "1238700  HOBBIES_2_149_WI_3_validation     11609     0        0.97\n",
      "1238701  HOBBIES_2_149_WI_3_validation     11610     1        0.97\n",
      "1238702  HOBBIES_2_149_WI_3_validation     11611     1        0.97\n",
      "1238703  HOBBIES_2_149_WI_3_validation     11612     2        0.97\n",
      "1238704  HOBBIES_2_149_WI_3_validation     11613     0        0.97\n",
      "\n",
      "[1238705 rows x 4 columns]\n"
     ]
    }
   ],
   "source": [
    "# How each specific food items react to price changes.\n",
    "# Ex: apple in Mcity.\n",
    "sum_ped_id_hobbies = hobbies_df.groupby(['id','wm_yr_wk']).agg({'sold': 'sum', 'sell_price': 'mean'}).reset_index()\n",
    "print(sum_ped_id_hobbies)"
   ]
  },
  {
   "cell_type": "code",
   "execution_count": 280,
   "id": "4c91cd65",
   "metadata": {},
   "outputs": [],
   "source": [
    "# Group by 'id' and 'wm_yr_wk', and aggregate 'sold' with sum and 'sell_price' with mean\n",
    "sum_sold_mean_price = hobbies_df.groupby(['item_id', 'wm_yr_wk']).agg({'sold': 'sum', 'sell_price': 'mean'}).reset_index()\n",
    "\n",
    "# Sort the DataFrame by 'wm_yr_wk' to ensure consecutive weeks\n",
    "sum_sold_mean_price.sort_values(by='wm_yr_wk', inplace=True)\n",
    "\n",
    "# Assign group numbers for every 4 weeks\n",
    "group_size = 12\n",
    "sum_sold_mean_price['4_week_group'] = sum_sold_mean_price.groupby('item_id')['wm_yr_wk'].transform(lambda x: (x.rank(method='dense') - 1) // group_size)\n",
    "\n",
    "# Group by 'id' and '4_week_group', and aggregate 'sold' with sum and 'sell_price' with mean\n",
    "sum_sold_mean_price_4_weeks = sum_sold_mean_price.groupby(['item_id', '4_week_group']).agg({'sold': 'sum', 'sell_price': 'mean'}).reset_index()\n",
    "\n",
    "# Rename the columns for clarity\n",
    "sum_sold_mean_price_4_weeks.columns = ['item_id', '4_week_group', 'sold', 'sell_price']"
   ]
  },
  {
   "cell_type": "code",
   "execution_count": 281,
   "id": "dc7c882a",
   "metadata": {},
   "outputs": [
    {
     "data": {
      "text/html": [
       "<div>\n",
       "<style scoped>\n",
       "    .dataframe tbody tr th:only-of-type {\n",
       "        vertical-align: middle;\n",
       "    }\n",
       "\n",
       "    .dataframe tbody tr th {\n",
       "        vertical-align: top;\n",
       "    }\n",
       "\n",
       "    .dataframe thead th {\n",
       "        text-align: right;\n",
       "    }\n",
       "</style>\n",
       "<table border=\"1\" class=\"dataframe\">\n",
       "  <thead>\n",
       "    <tr style=\"text-align: right;\">\n",
       "      <th></th>\n",
       "      <th>item_id</th>\n",
       "      <th>4_week_group</th>\n",
       "      <th>sold</th>\n",
       "      <th>sell_price</th>\n",
       "    </tr>\n",
       "  </thead>\n",
       "  <tbody>\n",
       "    <tr>\n",
       "      <th>0</th>\n",
       "      <td>HOBBIES_1_001</td>\n",
       "      <td>0.0</td>\n",
       "      <td>224</td>\n",
       "      <td>8.577333</td>\n",
       "    </tr>\n",
       "    <tr>\n",
       "      <th>1</th>\n",
       "      <td>HOBBIES_1_001</td>\n",
       "      <td>1.0</td>\n",
       "      <td>353</td>\n",
       "      <td>8.318000</td>\n",
       "    </tr>\n",
       "    <tr>\n",
       "      <th>2</th>\n",
       "      <td>HOBBIES_1_001</td>\n",
       "      <td>2.0</td>\n",
       "      <td>299</td>\n",
       "      <td>8.299000</td>\n",
       "    </tr>\n",
       "    <tr>\n",
       "      <th>3</th>\n",
       "      <td>HOBBIES_1_001</td>\n",
       "      <td>3.0</td>\n",
       "      <td>274</td>\n",
       "      <td>8.283000</td>\n",
       "    </tr>\n",
       "    <tr>\n",
       "      <th>4</th>\n",
       "      <td>HOBBIES_1_001</td>\n",
       "      <td>4.0</td>\n",
       "      <td>304</td>\n",
       "      <td>8.279000</td>\n",
       "    </tr>\n",
       "    <tr>\n",
       "      <th>5</th>\n",
       "      <td>HOBBIES_1_001</td>\n",
       "      <td>5.0</td>\n",
       "      <td>283</td>\n",
       "      <td>8.272000</td>\n",
       "    </tr>\n",
       "    <tr>\n",
       "      <th>6</th>\n",
       "      <td>HOBBIES_1_001</td>\n",
       "      <td>6.0</td>\n",
       "      <td>322</td>\n",
       "      <td>8.272000</td>\n",
       "    </tr>\n",
       "    <tr>\n",
       "      <th>7</th>\n",
       "      <td>HOBBIES_1_001</td>\n",
       "      <td>7.0</td>\n",
       "      <td>339</td>\n",
       "      <td>8.272000</td>\n",
       "    </tr>\n",
       "    <tr>\n",
       "      <th>8</th>\n",
       "      <td>HOBBIES_1_001</td>\n",
       "      <td>8.0</td>\n",
       "      <td>367</td>\n",
       "      <td>8.244833</td>\n",
       "    </tr>\n",
       "    <tr>\n",
       "      <th>9</th>\n",
       "      <td>HOBBIES_1_001</td>\n",
       "      <td>9.0</td>\n",
       "      <td>385</td>\n",
       "      <td>8.272000</td>\n",
       "    </tr>\n",
       "    <tr>\n",
       "      <th>10</th>\n",
       "      <td>HOBBIES_1_001</td>\n",
       "      <td>10.0</td>\n",
       "      <td>438</td>\n",
       "      <td>8.272000</td>\n",
       "    </tr>\n",
       "    <tr>\n",
       "      <th>11</th>\n",
       "      <td>HOBBIES_1_001</td>\n",
       "      <td>11.0</td>\n",
       "      <td>446</td>\n",
       "      <td>8.277000</td>\n",
       "    </tr>\n",
       "    <tr>\n",
       "      <th>12</th>\n",
       "      <td>HOBBIES_1_001</td>\n",
       "      <td>12.0</td>\n",
       "      <td>59</td>\n",
       "      <td>8.344000</td>\n",
       "    </tr>\n",
       "  </tbody>\n",
       "</table>\n",
       "</div>"
      ],
      "text/plain": [
       "          item_id  4_week_group  sold  sell_price\n",
       "0   HOBBIES_1_001           0.0   224    8.577333\n",
       "1   HOBBIES_1_001           1.0   353    8.318000\n",
       "2   HOBBIES_1_001           2.0   299    8.299000\n",
       "3   HOBBIES_1_001           3.0   274    8.283000\n",
       "4   HOBBIES_1_001           4.0   304    8.279000\n",
       "5   HOBBIES_1_001           5.0   283    8.272000\n",
       "6   HOBBIES_1_001           6.0   322    8.272000\n",
       "7   HOBBIES_1_001           7.0   339    8.272000\n",
       "8   HOBBIES_1_001           8.0   367    8.244833\n",
       "9   HOBBIES_1_001           9.0   385    8.272000\n",
       "10  HOBBIES_1_001          10.0   438    8.272000\n",
       "11  HOBBIES_1_001          11.0   446    8.277000\n",
       "12  HOBBIES_1_001          12.0    59    8.344000"
      ]
     },
     "execution_count": 281,
     "metadata": {},
     "output_type": "execute_result"
    }
   ],
   "source": [
    "sum_sold_mean_price_4_weeks[sum_sold_mean_price_4_weeks['item_id'] == 'HOBBIES_1_001'].head(50)"
   ]
  },
  {
   "cell_type": "code",
   "execution_count": 253,
   "id": "5f87790d",
   "metadata": {},
   "outputs": [],
   "source": [
    "try_1a = calculate_ped3(sum_sold_mean_price_4_weeks)"
   ]
  },
  {
   "cell_type": "code",
   "execution_count": 208,
   "id": "eff147f6",
   "metadata": {},
   "outputs": [
    {
     "data": {
      "text/html": [
       "<div>\n",
       "<style scoped>\n",
       "    .dataframe tbody tr th:only-of-type {\n",
       "        vertical-align: middle;\n",
       "    }\n",
       "\n",
       "    .dataframe tbody tr th {\n",
       "        vertical-align: top;\n",
       "    }\n",
       "\n",
       "    .dataframe thead th {\n",
       "        text-align: right;\n",
       "    }\n",
       "</style>\n",
       "<table border=\"1\" class=\"dataframe\">\n",
       "  <thead>\n",
       "    <tr style=\"text-align: right;\">\n",
       "      <th></th>\n",
       "      <th>item_id</th>\n",
       "      <th>4_week_group</th>\n",
       "      <th>sold</th>\n",
       "      <th>sell_price</th>\n",
       "      <th>percentage_change_quantity</th>\n",
       "      <th>percentage_change_price</th>\n",
       "    </tr>\n",
       "  </thead>\n",
       "  <tbody>\n",
       "    <tr>\n",
       "      <th>0</th>\n",
       "      <td>HOBBIES_1_001</td>\n",
       "      <td>0.0</td>\n",
       "      <td>48</td>\n",
       "      <td>8.969</td>\n",
       "      <td>NaN</td>\n",
       "      <td>NaN</td>\n",
       "    </tr>\n",
       "    <tr>\n",
       "      <th>1</th>\n",
       "      <td>HOBBIES_1_001</td>\n",
       "      <td>1.0</td>\n",
       "      <td>84</td>\n",
       "      <td>8.431</td>\n",
       "      <td>75.000000</td>\n",
       "      <td>-5.998439e+00</td>\n",
       "    </tr>\n",
       "    <tr>\n",
       "      <th>2</th>\n",
       "      <td>HOBBIES_1_001</td>\n",
       "      <td>2.0</td>\n",
       "      <td>92</td>\n",
       "      <td>8.332</td>\n",
       "      <td>9.523810</td>\n",
       "      <td>-1.174238e+00</td>\n",
       "    </tr>\n",
       "    <tr>\n",
       "      <th>3</th>\n",
       "      <td>HOBBIES_1_001</td>\n",
       "      <td>3.0</td>\n",
       "      <td>109</td>\n",
       "      <td>8.332</td>\n",
       "      <td>18.478261</td>\n",
       "      <td>0.000000e+00</td>\n",
       "    </tr>\n",
       "    <tr>\n",
       "      <th>4</th>\n",
       "      <td>HOBBIES_1_001</td>\n",
       "      <td>4.0</td>\n",
       "      <td>127</td>\n",
       "      <td>8.314</td>\n",
       "      <td>16.513761</td>\n",
       "      <td>-2.160346e-01</td>\n",
       "    </tr>\n",
       "    <tr>\n",
       "      <th>...</th>\n",
       "      <td>...</td>\n",
       "      <td>...</td>\n",
       "      <td>...</td>\n",
       "      <td>...</td>\n",
       "      <td>...</td>\n",
       "      <td>...</td>\n",
       "    </tr>\n",
       "    <tr>\n",
       "      <th>32109</th>\n",
       "      <td>HOBBIES_2_149</td>\n",
       "      <td>35.0</td>\n",
       "      <td>147</td>\n",
       "      <td>0.970</td>\n",
       "      <td>-33.783784</td>\n",
       "      <td>0.000000e+00</td>\n",
       "    </tr>\n",
       "    <tr>\n",
       "      <th>32110</th>\n",
       "      <td>HOBBIES_2_149</td>\n",
       "      <td>36.0</td>\n",
       "      <td>178</td>\n",
       "      <td>0.970</td>\n",
       "      <td>21.088435</td>\n",
       "      <td>0.000000e+00</td>\n",
       "    </tr>\n",
       "    <tr>\n",
       "      <th>32111</th>\n",
       "      <td>HOBBIES_2_149</td>\n",
       "      <td>37.0</td>\n",
       "      <td>99</td>\n",
       "      <td>0.970</td>\n",
       "      <td>-44.382022</td>\n",
       "      <td>0.000000e+00</td>\n",
       "    </tr>\n",
       "    <tr>\n",
       "      <th>32112</th>\n",
       "      <td>HOBBIES_2_149</td>\n",
       "      <td>38.0</td>\n",
       "      <td>105</td>\n",
       "      <td>0.970</td>\n",
       "      <td>6.060606</td>\n",
       "      <td>0.000000e+00</td>\n",
       "    </tr>\n",
       "    <tr>\n",
       "      <th>32113</th>\n",
       "      <td>HOBBIES_2_149</td>\n",
       "      <td>39.0</td>\n",
       "      <td>3</td>\n",
       "      <td>0.970</td>\n",
       "      <td>-97.142857</td>\n",
       "      <td>2.220446e-14</td>\n",
       "    </tr>\n",
       "  </tbody>\n",
       "</table>\n",
       "<p>32114 rows × 6 columns</p>\n",
       "</div>"
      ],
      "text/plain": [
       "             item_id  4_week_group  sold  sell_price  \\\n",
       "0      HOBBIES_1_001           0.0    48       8.969   \n",
       "1      HOBBIES_1_001           1.0    84       8.431   \n",
       "2      HOBBIES_1_001           2.0    92       8.332   \n",
       "3      HOBBIES_1_001           3.0   109       8.332   \n",
       "4      HOBBIES_1_001           4.0   127       8.314   \n",
       "...              ...           ...   ...         ...   \n",
       "32109  HOBBIES_2_149          35.0   147       0.970   \n",
       "32110  HOBBIES_2_149          36.0   178       0.970   \n",
       "32111  HOBBIES_2_149          37.0    99       0.970   \n",
       "32112  HOBBIES_2_149          38.0   105       0.970   \n",
       "32113  HOBBIES_2_149          39.0     3       0.970   \n",
       "\n",
       "       percentage_change_quantity  percentage_change_price  \n",
       "0                             NaN                      NaN  \n",
       "1                       75.000000            -5.998439e+00  \n",
       "2                        9.523810            -1.174238e+00  \n",
       "3                       18.478261             0.000000e+00  \n",
       "4                       16.513761            -2.160346e-01  \n",
       "...                           ...                      ...  \n",
       "32109                  -33.783784             0.000000e+00  \n",
       "32110                   21.088435             0.000000e+00  \n",
       "32111                  -44.382022             0.000000e+00  \n",
       "32112                    6.060606             0.000000e+00  \n",
       "32113                  -97.142857             2.220446e-14  \n",
       "\n",
       "[32114 rows x 6 columns]"
      ]
     },
     "execution_count": 208,
     "metadata": {},
     "output_type": "execute_result"
    }
   ],
   "source": [
    "try_1a"
   ]
  },
  {
   "cell_type": "code",
   "execution_count": 300,
   "id": "7dde2d1f",
   "metadata": {},
   "outputs": [
    {
     "data": {
      "text/html": [
       "<div>\n",
       "<style scoped>\n",
       "    .dataframe tbody tr th:only-of-type {\n",
       "        vertical-align: middle;\n",
       "    }\n",
       "\n",
       "    .dataframe tbody tr th {\n",
       "        vertical-align: top;\n",
       "    }\n",
       "\n",
       "    .dataframe thead th {\n",
       "        text-align: right;\n",
       "    }\n",
       "</style>\n",
       "<table border=\"1\" class=\"dataframe\">\n",
       "  <thead>\n",
       "    <tr style=\"text-align: right;\">\n",
       "      <th></th>\n",
       "      <th>item_id</th>\n",
       "      <th>4_week_group</th>\n",
       "      <th>sold</th>\n",
       "      <th>sell_price</th>\n",
       "    </tr>\n",
       "  </thead>\n",
       "  <tbody>\n",
       "    <tr>\n",
       "      <th>36</th>\n",
       "      <td>HOBBIES_1_003</td>\n",
       "      <td>0.0</td>\n",
       "      <td>102</td>\n",
       "      <td>2.913611</td>\n",
       "    </tr>\n",
       "    <tr>\n",
       "      <th>37</th>\n",
       "      <td>HOBBIES_1_003</td>\n",
       "      <td>1.0</td>\n",
       "      <td>82</td>\n",
       "      <td>2.997778</td>\n",
       "    </tr>\n",
       "    <tr>\n",
       "      <th>38</th>\n",
       "      <td>HOBBIES_1_003</td>\n",
       "      <td>2.0</td>\n",
       "      <td>112</td>\n",
       "      <td>2.951481</td>\n",
       "    </tr>\n",
       "    <tr>\n",
       "      <th>39</th>\n",
       "      <td>HOBBIES_1_003</td>\n",
       "      <td>3.0</td>\n",
       "      <td>67</td>\n",
       "      <td>2.970000</td>\n",
       "    </tr>\n",
       "    <tr>\n",
       "      <th>40</th>\n",
       "      <td>HOBBIES_1_003</td>\n",
       "      <td>4.0</td>\n",
       "      <td>130</td>\n",
       "      <td>2.970000</td>\n",
       "    </tr>\n",
       "    <tr>\n",
       "      <th>41</th>\n",
       "      <td>HOBBIES_1_003</td>\n",
       "      <td>5.0</td>\n",
       "      <td>170</td>\n",
       "      <td>2.970000</td>\n",
       "    </tr>\n",
       "    <tr>\n",
       "      <th>42</th>\n",
       "      <td>HOBBIES_1_003</td>\n",
       "      <td>6.0</td>\n",
       "      <td>180</td>\n",
       "      <td>2.970000</td>\n",
       "    </tr>\n",
       "    <tr>\n",
       "      <th>43</th>\n",
       "      <td>HOBBIES_1_003</td>\n",
       "      <td>7.0</td>\n",
       "      <td>183</td>\n",
       "      <td>2.970000</td>\n",
       "    </tr>\n",
       "    <tr>\n",
       "      <th>44</th>\n",
       "      <td>HOBBIES_1_003</td>\n",
       "      <td>8.0</td>\n",
       "      <td>242</td>\n",
       "      <td>2.970000</td>\n",
       "    </tr>\n",
       "    <tr>\n",
       "      <th>45</th>\n",
       "      <td>HOBBIES_1_003</td>\n",
       "      <td>9.0</td>\n",
       "      <td>167</td>\n",
       "      <td>2.970000</td>\n",
       "    </tr>\n",
       "  </tbody>\n",
       "</table>\n",
       "</div>"
      ],
      "text/plain": [
       "          item_id  4_week_group  sold  sell_price\n",
       "36  HOBBIES_1_003           0.0   102    2.913611\n",
       "37  HOBBIES_1_003           1.0    82    2.997778\n",
       "38  HOBBIES_1_003           2.0   112    2.951481\n",
       "39  HOBBIES_1_003           3.0    67    2.970000\n",
       "40  HOBBIES_1_003           4.0   130    2.970000\n",
       "41  HOBBIES_1_003           5.0   170    2.970000\n",
       "42  HOBBIES_1_003           6.0   180    2.970000\n",
       "43  HOBBIES_1_003           7.0   183    2.970000\n",
       "44  HOBBIES_1_003           8.0   242    2.970000\n",
       "45  HOBBIES_1_003           9.0   167    2.970000"
      ]
     },
     "execution_count": 300,
     "metadata": {},
     "output_type": "execute_result"
    }
   ],
   "source": [
    "try_1a_hobbies = sum_sold_mean_price_4_weeks[sum_sold_mean_price_4_weeks['item_id'] == 'HOBBIES_1_003']\n",
    "try_1a_hobbies"
   ]
  },
  {
   "cell_type": "code",
   "execution_count": 260,
   "id": "0b29632f",
   "metadata": {},
   "outputs": [],
   "source": [
    "import numpy as np"
   ]
  },
  {
   "cell_type": "code",
   "execution_count": 301,
   "id": "223e346f",
   "metadata": {},
   "outputs": [
    {
     "name": "stderr",
     "output_type": "stream",
     "text": [
      "/var/folders/7h/s4cspbv95x98l3h5nvklx3ym0000gn/T/ipykernel_28554/2864487341.py:1: SettingWithCopyWarning: \n",
      "A value is trying to be set on a copy of a slice from a DataFrame.\n",
      "Try using .loc[row_indexer,col_indexer] = value instead\n",
      "\n",
      "See the caveats in the documentation: https://pandas.pydata.org/pandas-docs/stable/user_guide/indexing.html#returning-a-view-versus-a-copy\n",
      "  try_1a_hobbies['sold'] = np.log(try_1a_hobbies['sold'])\n",
      "/var/folders/7h/s4cspbv95x98l3h5nvklx3ym0000gn/T/ipykernel_28554/2864487341.py:2: SettingWithCopyWarning: \n",
      "A value is trying to be set on a copy of a slice from a DataFrame.\n",
      "Try using .loc[row_indexer,col_indexer] = value instead\n",
      "\n",
      "See the caveats in the documentation: https://pandas.pydata.org/pandas-docs/stable/user_guide/indexing.html#returning-a-view-versus-a-copy\n",
      "  try_1a_hobbies['sell_price']= np.log(try_1a_hobbies['sell_price'])\n"
     ]
    }
   ],
   "source": [
    "try_1a_hobbies['sold'] = np.log(try_1a_hobbies['sold'])\n",
    "try_1a_hobbies['sell_price']= np.log(try_1a_hobbies['sell_price'])"
   ]
  },
  {
   "cell_type": "code",
   "execution_count": 302,
   "id": "d89e6e7a",
   "metadata": {},
   "outputs": [
    {
     "data": {
      "text/html": [
       "<div>\n",
       "<style scoped>\n",
       "    .dataframe tbody tr th:only-of-type {\n",
       "        vertical-align: middle;\n",
       "    }\n",
       "\n",
       "    .dataframe tbody tr th {\n",
       "        vertical-align: top;\n",
       "    }\n",
       "\n",
       "    .dataframe thead th {\n",
       "        text-align: right;\n",
       "    }\n",
       "</style>\n",
       "<table border=\"1\" class=\"dataframe\">\n",
       "  <thead>\n",
       "    <tr style=\"text-align: right;\">\n",
       "      <th></th>\n",
       "      <th>item_id</th>\n",
       "      <th>4_week_group</th>\n",
       "      <th>sold</th>\n",
       "      <th>sell_price</th>\n",
       "    </tr>\n",
       "  </thead>\n",
       "  <tbody>\n",
       "    <tr>\n",
       "      <th>36</th>\n",
       "      <td>HOBBIES_1_003</td>\n",
       "      <td>0.0</td>\n",
       "      <td>4.624973</td>\n",
       "      <td>1.069393</td>\n",
       "    </tr>\n",
       "    <tr>\n",
       "      <th>37</th>\n",
       "      <td>HOBBIES_1_003</td>\n",
       "      <td>1.0</td>\n",
       "      <td>4.406719</td>\n",
       "      <td>1.097871</td>\n",
       "    </tr>\n",
       "    <tr>\n",
       "      <th>38</th>\n",
       "      <td>HOBBIES_1_003</td>\n",
       "      <td>2.0</td>\n",
       "      <td>4.718499</td>\n",
       "      <td>1.082307</td>\n",
       "    </tr>\n",
       "    <tr>\n",
       "      <th>39</th>\n",
       "      <td>HOBBIES_1_003</td>\n",
       "      <td>3.0</td>\n",
       "      <td>4.204693</td>\n",
       "      <td>1.088562</td>\n",
       "    </tr>\n",
       "    <tr>\n",
       "      <th>40</th>\n",
       "      <td>HOBBIES_1_003</td>\n",
       "      <td>4.0</td>\n",
       "      <td>4.867534</td>\n",
       "      <td>1.088562</td>\n",
       "    </tr>\n",
       "    <tr>\n",
       "      <th>41</th>\n",
       "      <td>HOBBIES_1_003</td>\n",
       "      <td>5.0</td>\n",
       "      <td>5.135798</td>\n",
       "      <td>1.088562</td>\n",
       "    </tr>\n",
       "    <tr>\n",
       "      <th>42</th>\n",
       "      <td>HOBBIES_1_003</td>\n",
       "      <td>6.0</td>\n",
       "      <td>5.192957</td>\n",
       "      <td>1.088562</td>\n",
       "    </tr>\n",
       "    <tr>\n",
       "      <th>43</th>\n",
       "      <td>HOBBIES_1_003</td>\n",
       "      <td>7.0</td>\n",
       "      <td>5.209486</td>\n",
       "      <td>1.088562</td>\n",
       "    </tr>\n",
       "    <tr>\n",
       "      <th>44</th>\n",
       "      <td>HOBBIES_1_003</td>\n",
       "      <td>8.0</td>\n",
       "      <td>5.488938</td>\n",
       "      <td>1.088562</td>\n",
       "    </tr>\n",
       "    <tr>\n",
       "      <th>45</th>\n",
       "      <td>HOBBIES_1_003</td>\n",
       "      <td>9.0</td>\n",
       "      <td>5.117994</td>\n",
       "      <td>1.088562</td>\n",
       "    </tr>\n",
       "  </tbody>\n",
       "</table>\n",
       "</div>"
      ],
      "text/plain": [
       "          item_id  4_week_group      sold  sell_price\n",
       "36  HOBBIES_1_003           0.0  4.624973    1.069393\n",
       "37  HOBBIES_1_003           1.0  4.406719    1.097871\n",
       "38  HOBBIES_1_003           2.0  4.718499    1.082307\n",
       "39  HOBBIES_1_003           3.0  4.204693    1.088562\n",
       "40  HOBBIES_1_003           4.0  4.867534    1.088562\n",
       "41  HOBBIES_1_003           5.0  5.135798    1.088562\n",
       "42  HOBBIES_1_003           6.0  5.192957    1.088562\n",
       "43  HOBBIES_1_003           7.0  5.209486    1.088562\n",
       "44  HOBBIES_1_003           8.0  5.488938    1.088562\n",
       "45  HOBBIES_1_003           9.0  5.117994    1.088562"
      ]
     },
     "execution_count": 302,
     "metadata": {},
     "output_type": "execute_result"
    }
   ],
   "source": [
    "try_1a_hobbies"
   ]
  },
  {
   "cell_type": "code",
   "execution_count": 292,
   "id": "77bb8058",
   "metadata": {},
   "outputs": [
    {
     "name": "stderr",
     "output_type": "stream",
     "text": [
      "/var/folders/7h/s4cspbv95x98l3h5nvklx3ym0000gn/T/ipykernel_28554/1552724310.py:3: SettingWithCopyWarning: \n",
      "A value is trying to be set on a copy of a slice from a DataFrame.\n",
      "Try using .loc[row_indexer,col_indexer] = value instead\n",
      "\n",
      "See the caveats in the documentation: https://pandas.pydata.org/pandas-docs/stable/user_guide/indexing.html#returning-a-view-versus-a-copy\n",
      "  data_df['percentage_change_quantity'] = data_df['sold'].pct_change() * 100\n",
      "/var/folders/7h/s4cspbv95x98l3h5nvklx3ym0000gn/T/ipykernel_28554/1552724310.py:6: SettingWithCopyWarning: \n",
      "A value is trying to be set on a copy of a slice from a DataFrame.\n",
      "Try using .loc[row_indexer,col_indexer] = value instead\n",
      "\n",
      "See the caveats in the documentation: https://pandas.pydata.org/pandas-docs/stable/user_guide/indexing.html#returning-a-view-versus-a-copy\n",
      "  data_df['percentage_change_price'] = data_df['sell_price'].pct_change() * 100\n"
     ]
    }
   ],
   "source": [
    "df_ped = calculate_ped3(try_1a_hobbies)"
   ]
  },
  {
   "cell_type": "code",
   "execution_count": 294,
   "id": "fd7a8aff",
   "metadata": {},
   "outputs": [],
   "source": [
    "df_ped = df_ped[df_ped['percentage_change_price'] != 0]"
   ]
  },
  {
   "cell_type": "code",
   "execution_count": 296,
   "id": "2a100626",
   "metadata": {},
   "outputs": [
    {
     "name": "stderr",
     "output_type": "stream",
     "text": [
      "/Users/chloeang/opt/anaconda3/lib/python3.9/site-packages/statsmodels/tsa/tsatools.py:142: FutureWarning: In a future version of pandas all arguments of concat except for the argument 'objs' will be keyword-only\n",
      "  x = pd.concat(x[::order], 1)\n"
     ]
    }
   ],
   "source": [
    "df_ped = calculate_ped(df_ped)"
   ]
  },
  {
   "cell_type": "code",
   "execution_count": 298,
   "id": "44727f9b",
   "metadata": {},
   "outputs": [
    {
     "data": {
      "text/plain": [
       "-11.23571249712072"
      ]
     },
     "execution_count": 298,
     "metadata": {},
     "output_type": "execute_result"
    }
   ],
   "source": [
    "df_ped"
   ]
  },
  {
   "cell_type": "code",
   "execution_count": 297,
   "id": "e69ad7c4",
   "metadata": {},
   "outputs": [
    {
     "data": {
      "text/plain": [
       "-11.23571249712072"
      ]
     },
     "execution_count": 297,
     "metadata": {},
     "output_type": "execute_result"
    }
   ],
   "source": [
    "df_ped"
   ]
  },
  {
   "cell_type": "code",
   "execution_count": 234,
   "id": "e5110876",
   "metadata": {},
   "outputs": [],
   "source": [
    "df = try_1a_hobbies.loc[ ~((try_1a_hobbies['percentage_change_price'] <= 0) & (try_1a_hobbies['percentage_change_quantity'] < 0))]"
   ]
  },
  {
   "cell_type": "code",
   "execution_count": 235,
   "id": "0f488ec8",
   "metadata": {},
   "outputs": [],
   "source": [
    "df = try_1a_hobbies.loc[~(try_1a_hobbies['percentage_change_price'] == 0)]"
   ]
  },
  {
   "cell_type": "code",
   "execution_count": 240,
   "id": "f40d12a7",
   "metadata": {},
   "outputs": [
    {
     "data": {
      "text/html": [
       "<div>\n",
       "<style scoped>\n",
       "    .dataframe tbody tr th:only-of-type {\n",
       "        vertical-align: middle;\n",
       "    }\n",
       "\n",
       "    .dataframe tbody tr th {\n",
       "        vertical-align: top;\n",
       "    }\n",
       "\n",
       "    .dataframe thead th {\n",
       "        text-align: right;\n",
       "    }\n",
       "</style>\n",
       "<table border=\"1\" class=\"dataframe\">\n",
       "  <thead>\n",
       "    <tr style=\"text-align: right;\">\n",
       "      <th></th>\n",
       "      <th>item_id</th>\n",
       "      <th>4_week_group</th>\n",
       "      <th>sold</th>\n",
       "      <th>sell_price</th>\n",
       "      <th>percentage_change_quantity</th>\n",
       "      <th>percentage_change_price</th>\n",
       "    </tr>\n",
       "  </thead>\n",
       "  <tbody>\n",
       "    <tr>\n",
       "      <th>0</th>\n",
       "      <td>HOBBIES_1_001</td>\n",
       "      <td>0.0</td>\n",
       "      <td>48</td>\n",
       "      <td>8.9690</td>\n",
       "      <td>NaN</td>\n",
       "      <td>NaN</td>\n",
       "    </tr>\n",
       "    <tr>\n",
       "      <th>1</th>\n",
       "      <td>HOBBIES_1_001</td>\n",
       "      <td>1.0</td>\n",
       "      <td>84</td>\n",
       "      <td>8.4310</td>\n",
       "      <td>75.000000</td>\n",
       "      <td>-5.998439</td>\n",
       "    </tr>\n",
       "    <tr>\n",
       "      <th>2</th>\n",
       "      <td>HOBBIES_1_001</td>\n",
       "      <td>2.0</td>\n",
       "      <td>92</td>\n",
       "      <td>8.3320</td>\n",
       "      <td>9.523810</td>\n",
       "      <td>-1.174238</td>\n",
       "    </tr>\n",
       "    <tr>\n",
       "      <th>4</th>\n",
       "      <td>HOBBIES_1_001</td>\n",
       "      <td>4.0</td>\n",
       "      <td>127</td>\n",
       "      <td>8.3140</td>\n",
       "      <td>16.513761</td>\n",
       "      <td>-0.216035</td>\n",
       "    </tr>\n",
       "    <tr>\n",
       "      <th>8</th>\n",
       "      <td>HOBBIES_1_001</td>\n",
       "      <td>8.0</td>\n",
       "      <td>113</td>\n",
       "      <td>8.2810</td>\n",
       "      <td>25.555556</td>\n",
       "      <td>-0.324988</td>\n",
       "    </tr>\n",
       "    <tr>\n",
       "      <th>10</th>\n",
       "      <td>HOBBIES_1_001</td>\n",
       "      <td>10.0</td>\n",
       "      <td>92</td>\n",
       "      <td>8.2840</td>\n",
       "      <td>-2.127660</td>\n",
       "      <td>0.036228</td>\n",
       "    </tr>\n",
       "    <tr>\n",
       "      <th>13</th>\n",
       "      <td>HOBBIES_1_001</td>\n",
       "      <td>13.0</td>\n",
       "      <td>119</td>\n",
       "      <td>8.2810</td>\n",
       "      <td>17.821782</td>\n",
       "      <td>-0.036214</td>\n",
       "    </tr>\n",
       "    <tr>\n",
       "      <th>25</th>\n",
       "      <td>HOBBIES_1_001</td>\n",
       "      <td>25.0</td>\n",
       "      <td>149</td>\n",
       "      <td>8.1905</td>\n",
       "      <td>79.518072</td>\n",
       "      <td>-0.985251</td>\n",
       "    </tr>\n",
       "    <tr>\n",
       "      <th>26</th>\n",
       "      <td>HOBBIES_1_001</td>\n",
       "      <td>26.0</td>\n",
       "      <td>135</td>\n",
       "      <td>8.2720</td>\n",
       "      <td>-9.395973</td>\n",
       "      <td>0.995055</td>\n",
       "    </tr>\n",
       "    <tr>\n",
       "      <th>36</th>\n",
       "      <td>HOBBIES_1_001</td>\n",
       "      <td>36.0</td>\n",
       "      <td>59</td>\n",
       "      <td>8.3440</td>\n",
       "      <td>-60.927152</td>\n",
       "      <td>0.687824</td>\n",
       "    </tr>\n",
       "  </tbody>\n",
       "</table>\n",
       "</div>"
      ],
      "text/plain": [
       "          item_id  4_week_group  sold  sell_price  percentage_change_quantity  \\\n",
       "0   HOBBIES_1_001           0.0    48      8.9690                         NaN   \n",
       "1   HOBBIES_1_001           1.0    84      8.4310                   75.000000   \n",
       "2   HOBBIES_1_001           2.0    92      8.3320                    9.523810   \n",
       "4   HOBBIES_1_001           4.0   127      8.3140                   16.513761   \n",
       "8   HOBBIES_1_001           8.0   113      8.2810                   25.555556   \n",
       "10  HOBBIES_1_001          10.0    92      8.2840                   -2.127660   \n",
       "13  HOBBIES_1_001          13.0   119      8.2810                   17.821782   \n",
       "25  HOBBIES_1_001          25.0   149      8.1905                   79.518072   \n",
       "26  HOBBIES_1_001          26.0   135      8.2720                   -9.395973   \n",
       "36  HOBBIES_1_001          36.0    59      8.3440                  -60.927152   \n",
       "\n",
       "    percentage_change_price  \n",
       "0                       NaN  \n",
       "1                 -5.998439  \n",
       "2                 -1.174238  \n",
       "4                 -0.216035  \n",
       "8                 -0.324988  \n",
       "10                 0.036228  \n",
       "13                -0.036214  \n",
       "25                -0.985251  \n",
       "26                 0.995055  \n",
       "36                 0.687824  "
      ]
     },
     "execution_count": 240,
     "metadata": {},
     "output_type": "execute_result"
    }
   ],
   "source": [
    "df"
   ]
  },
  {
   "cell_type": "code",
   "execution_count": 239,
   "id": "059e9730",
   "metadata": {},
   "outputs": [],
   "source": [
    "df = df.loc[ ~((df['percentage_change_price'] <= 0) & (df['percentage_change_quantity'] < 0))]"
   ]
  },
  {
   "cell_type": "code",
   "execution_count": 237,
   "id": "1d933ba6",
   "metadata": {},
   "outputs": [],
   "source": [
    "df = df.loc[ ~((df['percentage_change_price'] >= 0) & (df['percentage_change_quantity'] > 0))]"
   ]
  },
  {
   "cell_type": "code",
   "execution_count": 248,
   "id": "820f13ab",
   "metadata": {},
   "outputs": [
    {
     "name": "stderr",
     "output_type": "stream",
     "text": [
      "/var/folders/7h/s4cspbv95x98l3h5nvklx3ym0000gn/T/ipykernel_28554/3146585907.py:2: SettingWithCopyWarning: \n",
      "A value is trying to be set on a copy of a slice from a DataFrame.\n",
      "Try using .loc[row_indexer,col_indexer] = value instead\n",
      "\n",
      "See the caveats in the documentation: https://pandas.pydata.org/pandas-docs/stable/user_guide/indexing.html#returning-a-view-versus-a-copy\n",
      "  df['PED'] = ((df['sold'].diff() / ((df['sold'] + df['sold'].shift(-1)) / 2)) /\n"
     ]
    }
   ],
   "source": [
    "df_ped = ped(try_1a_hobbies)"
   ]
  },
  {
   "cell_type": "code",
   "execution_count": 249,
   "id": "0705dfba",
   "metadata": {},
   "outputs": [
    {
     "data": {
      "text/html": [
       "<div>\n",
       "<style scoped>\n",
       "    .dataframe tbody tr th:only-of-type {\n",
       "        vertical-align: middle;\n",
       "    }\n",
       "\n",
       "    .dataframe tbody tr th {\n",
       "        vertical-align: top;\n",
       "    }\n",
       "\n",
       "    .dataframe thead th {\n",
       "        text-align: right;\n",
       "    }\n",
       "</style>\n",
       "<table border=\"1\" class=\"dataframe\">\n",
       "  <thead>\n",
       "    <tr style=\"text-align: right;\">\n",
       "      <th></th>\n",
       "      <th>item_id</th>\n",
       "      <th>4_week_group</th>\n",
       "      <th>sold</th>\n",
       "      <th>sell_price</th>\n",
       "      <th>percentage_change_quantity</th>\n",
       "      <th>percentage_change_price</th>\n",
       "      <th>PED</th>\n",
       "    </tr>\n",
       "  </thead>\n",
       "  <tbody>\n",
       "    <tr>\n",
       "      <th>0</th>\n",
       "      <td>HOBBIES_1_001</td>\n",
       "      <td>0.0</td>\n",
       "      <td>48</td>\n",
       "      <td>8.9690</td>\n",
       "      <td>NaN</td>\n",
       "      <td>NaN</td>\n",
       "      <td>NaN</td>\n",
       "    </tr>\n",
       "    <tr>\n",
       "      <th>1</th>\n",
       "      <td>HOBBIES_1_001</td>\n",
       "      <td>1.0</td>\n",
       "      <td>84</td>\n",
       "      <td>8.4310</td>\n",
       "      <td>75.000000</td>\n",
       "      <td>-5.998439</td>\n",
       "      <td>-6.373226</td>\n",
       "    </tr>\n",
       "    <tr>\n",
       "      <th>2</th>\n",
       "      <td>HOBBIES_1_001</td>\n",
       "      <td>2.0</td>\n",
       "      <td>92</td>\n",
       "      <td>8.3320</td>\n",
       "      <td>9.523810</td>\n",
       "      <td>-1.174238</td>\n",
       "      <td>-6.699432</td>\n",
       "    </tr>\n",
       "    <tr>\n",
       "      <th>3</th>\n",
       "      <td>HOBBIES_1_001</td>\n",
       "      <td>3.0</td>\n",
       "      <td>109</td>\n",
       "      <td>8.3320</td>\n",
       "      <td>18.478261</td>\n",
       "      <td>0.000000</td>\n",
       "      <td>inf</td>\n",
       "    </tr>\n",
       "    <tr>\n",
       "      <th>4</th>\n",
       "      <td>HOBBIES_1_001</td>\n",
       "      <td>4.0</td>\n",
       "      <td>127</td>\n",
       "      <td>8.3140</td>\n",
       "      <td>16.513761</td>\n",
       "      <td>-0.216035</td>\n",
       "      <td>-68.122951</td>\n",
       "    </tr>\n",
       "    <tr>\n",
       "      <th>5</th>\n",
       "      <td>HOBBIES_1_001</td>\n",
       "      <td>5.0</td>\n",
       "      <td>117</td>\n",
       "      <td>8.3080</td>\n",
       "      <td>-7.874016</td>\n",
       "      <td>-0.072167</td>\n",
       "      <td>130.015649</td>\n",
       "    </tr>\n",
       "    <tr>\n",
       "      <th>6</th>\n",
       "      <td>HOBBIES_1_001</td>\n",
       "      <td>6.0</td>\n",
       "      <td>96</td>\n",
       "      <td>8.3080</td>\n",
       "      <td>-17.948718</td>\n",
       "      <td>0.000000</td>\n",
       "      <td>-inf</td>\n",
       "    </tr>\n",
       "    <tr>\n",
       "      <th>7</th>\n",
       "      <td>HOBBIES_1_001</td>\n",
       "      <td>7.0</td>\n",
       "      <td>90</td>\n",
       "      <td>8.3080</td>\n",
       "      <td>-6.250000</td>\n",
       "      <td>0.000000</td>\n",
       "      <td>-inf</td>\n",
       "    </tr>\n",
       "    <tr>\n",
       "      <th>8</th>\n",
       "      <td>HOBBIES_1_001</td>\n",
       "      <td>8.0</td>\n",
       "      <td>113</td>\n",
       "      <td>8.2810</td>\n",
       "      <td>25.555556</td>\n",
       "      <td>-0.324988</td>\n",
       "      <td>-68.156379</td>\n",
       "    </tr>\n",
       "    <tr>\n",
       "      <th>9</th>\n",
       "      <td>HOBBIES_1_001</td>\n",
       "      <td>9.0</td>\n",
       "      <td>94</td>\n",
       "      <td>8.2810</td>\n",
       "      <td>-16.814159</td>\n",
       "      <td>0.000000</td>\n",
       "      <td>-inf</td>\n",
       "    </tr>\n",
       "    <tr>\n",
       "      <th>10</th>\n",
       "      <td>HOBBIES_1_001</td>\n",
       "      <td>10.0</td>\n",
       "      <td>92</td>\n",
       "      <td>8.2840</td>\n",
       "      <td>-2.127660</td>\n",
       "      <td>0.036228</td>\n",
       "      <td>-61.362963</td>\n",
       "    </tr>\n",
       "    <tr>\n",
       "      <th>11</th>\n",
       "      <td>HOBBIES_1_001</td>\n",
       "      <td>11.0</td>\n",
       "      <td>88</td>\n",
       "      <td>8.2840</td>\n",
       "      <td>-4.347826</td>\n",
       "      <td>0.000000</td>\n",
       "      <td>-inf</td>\n",
       "    </tr>\n",
       "    <tr>\n",
       "      <th>12</th>\n",
       "      <td>HOBBIES_1_001</td>\n",
       "      <td>12.0</td>\n",
       "      <td>101</td>\n",
       "      <td>8.2840</td>\n",
       "      <td>14.772727</td>\n",
       "      <td>0.000000</td>\n",
       "      <td>inf</td>\n",
       "    </tr>\n",
       "    <tr>\n",
       "      <th>13</th>\n",
       "      <td>HOBBIES_1_001</td>\n",
       "      <td>13.0</td>\n",
       "      <td>119</td>\n",
       "      <td>8.2810</td>\n",
       "      <td>17.821782</td>\n",
       "      <td>-0.036214</td>\n",
       "      <td>-489.251232</td>\n",
       "    </tr>\n",
       "    <tr>\n",
       "      <th>14</th>\n",
       "      <td>HOBBIES_1_001</td>\n",
       "      <td>14.0</td>\n",
       "      <td>84</td>\n",
       "      <td>8.2720</td>\n",
       "      <td>-29.411765</td>\n",
       "      <td>-0.108683</td>\n",
       "      <td>402.111111</td>\n",
       "    </tr>\n",
       "    <tr>\n",
       "      <th>15</th>\n",
       "      <td>HOBBIES_1_001</td>\n",
       "      <td>15.0</td>\n",
       "      <td>76</td>\n",
       "      <td>8.2720</td>\n",
       "      <td>-9.523810</td>\n",
       "      <td>0.000000</td>\n",
       "      <td>-inf</td>\n",
       "    </tr>\n",
       "    <tr>\n",
       "      <th>16</th>\n",
       "      <td>HOBBIES_1_001</td>\n",
       "      <td>16.0</td>\n",
       "      <td>108</td>\n",
       "      <td>8.2720</td>\n",
       "      <td>42.105263</td>\n",
       "      <td>0.000000</td>\n",
       "      <td>inf</td>\n",
       "    </tr>\n",
       "    <tr>\n",
       "      <th>17</th>\n",
       "      <td>HOBBIES_1_001</td>\n",
       "      <td>17.0</td>\n",
       "      <td>99</td>\n",
       "      <td>8.2720</td>\n",
       "      <td>-8.333333</td>\n",
       "      <td>0.000000</td>\n",
       "      <td>-inf</td>\n",
       "    </tr>\n",
       "    <tr>\n",
       "      <th>18</th>\n",
       "      <td>HOBBIES_1_001</td>\n",
       "      <td>18.0</td>\n",
       "      <td>111</td>\n",
       "      <td>8.2720</td>\n",
       "      <td>12.121212</td>\n",
       "      <td>0.000000</td>\n",
       "      <td>inf</td>\n",
       "    </tr>\n",
       "    <tr>\n",
       "      <th>19</th>\n",
       "      <td>HOBBIES_1_001</td>\n",
       "      <td>19.0</td>\n",
       "      <td>104</td>\n",
       "      <td>8.2720</td>\n",
       "      <td>-6.306306</td>\n",
       "      <td>0.000000</td>\n",
       "      <td>-inf</td>\n",
       "    </tr>\n",
       "    <tr>\n",
       "      <th>20</th>\n",
       "      <td>HOBBIES_1_001</td>\n",
       "      <td>20.0</td>\n",
       "      <td>107</td>\n",
       "      <td>8.2720</td>\n",
       "      <td>2.884615</td>\n",
       "      <td>0.000000</td>\n",
       "      <td>inf</td>\n",
       "    </tr>\n",
       "    <tr>\n",
       "      <th>21</th>\n",
       "      <td>HOBBIES_1_001</td>\n",
       "      <td>21.0</td>\n",
       "      <td>103</td>\n",
       "      <td>8.2720</td>\n",
       "      <td>-3.738318</td>\n",
       "      <td>0.000000</td>\n",
       "      <td>-inf</td>\n",
       "    </tr>\n",
       "    <tr>\n",
       "      <th>22</th>\n",
       "      <td>HOBBIES_1_001</td>\n",
       "      <td>22.0</td>\n",
       "      <td>100</td>\n",
       "      <td>8.2720</td>\n",
       "      <td>-2.912621</td>\n",
       "      <td>0.000000</td>\n",
       "      <td>-inf</td>\n",
       "    </tr>\n",
       "    <tr>\n",
       "      <th>23</th>\n",
       "      <td>HOBBIES_1_001</td>\n",
       "      <td>23.0</td>\n",
       "      <td>136</td>\n",
       "      <td>8.2720</td>\n",
       "      <td>36.000000</td>\n",
       "      <td>0.000000</td>\n",
       "      <td>inf</td>\n",
       "    </tr>\n",
       "    <tr>\n",
       "      <th>24</th>\n",
       "      <td>HOBBIES_1_001</td>\n",
       "      <td>24.0</td>\n",
       "      <td>83</td>\n",
       "      <td>8.2720</td>\n",
       "      <td>-38.970588</td>\n",
       "      <td>0.000000</td>\n",
       "      <td>-inf</td>\n",
       "    </tr>\n",
       "    <tr>\n",
       "      <th>25</th>\n",
       "      <td>HOBBIES_1_001</td>\n",
       "      <td>25.0</td>\n",
       "      <td>149</td>\n",
       "      <td>8.1905</td>\n",
       "      <td>79.518072</td>\n",
       "      <td>-0.985251</td>\n",
       "      <td>-46.942236</td>\n",
       "    </tr>\n",
       "    <tr>\n",
       "      <th>26</th>\n",
       "      <td>HOBBIES_1_001</td>\n",
       "      <td>26.0</td>\n",
       "      <td>135</td>\n",
       "      <td>8.2720</td>\n",
       "      <td>-9.395973</td>\n",
       "      <td>0.995055</td>\n",
       "      <td>-11.647189</td>\n",
       "    </tr>\n",
       "    <tr>\n",
       "      <th>27</th>\n",
       "      <td>HOBBIES_1_001</td>\n",
       "      <td>27.0</td>\n",
       "      <td>109</td>\n",
       "      <td>8.2720</td>\n",
       "      <td>-19.259259</td>\n",
       "      <td>0.000000</td>\n",
       "      <td>-inf</td>\n",
       "    </tr>\n",
       "    <tr>\n",
       "      <th>28</th>\n",
       "      <td>HOBBIES_1_001</td>\n",
       "      <td>28.0</td>\n",
       "      <td>135</td>\n",
       "      <td>8.2720</td>\n",
       "      <td>23.853211</td>\n",
       "      <td>0.000000</td>\n",
       "      <td>inf</td>\n",
       "    </tr>\n",
       "    <tr>\n",
       "      <th>29</th>\n",
       "      <td>HOBBIES_1_001</td>\n",
       "      <td>29.0</td>\n",
       "      <td>141</td>\n",
       "      <td>8.2720</td>\n",
       "      <td>4.444444</td>\n",
       "      <td>0.000000</td>\n",
       "      <td>inf</td>\n",
       "    </tr>\n",
       "    <tr>\n",
       "      <th>30</th>\n",
       "      <td>HOBBIES_1_001</td>\n",
       "      <td>30.0</td>\n",
       "      <td>155</td>\n",
       "      <td>8.2720</td>\n",
       "      <td>9.929078</td>\n",
       "      <td>0.000000</td>\n",
       "      <td>inf</td>\n",
       "    </tr>\n",
       "    <tr>\n",
       "      <th>31</th>\n",
       "      <td>HOBBIES_1_001</td>\n",
       "      <td>31.0</td>\n",
       "      <td>133</td>\n",
       "      <td>8.2720</td>\n",
       "      <td>-14.193548</td>\n",
       "      <td>0.000000</td>\n",
       "      <td>-inf</td>\n",
       "    </tr>\n",
       "    <tr>\n",
       "      <th>32</th>\n",
       "      <td>HOBBIES_1_001</td>\n",
       "      <td>32.0</td>\n",
       "      <td>150</td>\n",
       "      <td>8.2720</td>\n",
       "      <td>12.781955</td>\n",
       "      <td>0.000000</td>\n",
       "      <td>inf</td>\n",
       "    </tr>\n",
       "    <tr>\n",
       "      <th>33</th>\n",
       "      <td>HOBBIES_1_001</td>\n",
       "      <td>33.0</td>\n",
       "      <td>146</td>\n",
       "      <td>8.2720</td>\n",
       "      <td>-2.666667</td>\n",
       "      <td>0.000000</td>\n",
       "      <td>-inf</td>\n",
       "    </tr>\n",
       "    <tr>\n",
       "      <th>34</th>\n",
       "      <td>HOBBIES_1_001</td>\n",
       "      <td>34.0</td>\n",
       "      <td>149</td>\n",
       "      <td>8.2720</td>\n",
       "      <td>2.054795</td>\n",
       "      <td>0.000000</td>\n",
       "      <td>inf</td>\n",
       "    </tr>\n",
       "    <tr>\n",
       "      <th>35</th>\n",
       "      <td>HOBBIES_1_001</td>\n",
       "      <td>35.0</td>\n",
       "      <td>151</td>\n",
       "      <td>8.2870</td>\n",
       "      <td>1.342282</td>\n",
       "      <td>0.181335</td>\n",
       "      <td>10.559365</td>\n",
       "    </tr>\n",
       "    <tr>\n",
       "      <th>36</th>\n",
       "      <td>HOBBIES_1_001</td>\n",
       "      <td>36.0</td>\n",
       "      <td>59</td>\n",
       "      <td>8.3440</td>\n",
       "      <td>-60.927152</td>\n",
       "      <td>0.687824</td>\n",
       "      <td>NaN</td>\n",
       "    </tr>\n",
       "  </tbody>\n",
       "</table>\n",
       "</div>"
      ],
      "text/plain": [
       "          item_id  4_week_group  sold  sell_price  percentage_change_quantity  \\\n",
       "0   HOBBIES_1_001           0.0    48      8.9690                         NaN   \n",
       "1   HOBBIES_1_001           1.0    84      8.4310                   75.000000   \n",
       "2   HOBBIES_1_001           2.0    92      8.3320                    9.523810   \n",
       "3   HOBBIES_1_001           3.0   109      8.3320                   18.478261   \n",
       "4   HOBBIES_1_001           4.0   127      8.3140                   16.513761   \n",
       "5   HOBBIES_1_001           5.0   117      8.3080                   -7.874016   \n",
       "6   HOBBIES_1_001           6.0    96      8.3080                  -17.948718   \n",
       "7   HOBBIES_1_001           7.0    90      8.3080                   -6.250000   \n",
       "8   HOBBIES_1_001           8.0   113      8.2810                   25.555556   \n",
       "9   HOBBIES_1_001           9.0    94      8.2810                  -16.814159   \n",
       "10  HOBBIES_1_001          10.0    92      8.2840                   -2.127660   \n",
       "11  HOBBIES_1_001          11.0    88      8.2840                   -4.347826   \n",
       "12  HOBBIES_1_001          12.0   101      8.2840                   14.772727   \n",
       "13  HOBBIES_1_001          13.0   119      8.2810                   17.821782   \n",
       "14  HOBBIES_1_001          14.0    84      8.2720                  -29.411765   \n",
       "15  HOBBIES_1_001          15.0    76      8.2720                   -9.523810   \n",
       "16  HOBBIES_1_001          16.0   108      8.2720                   42.105263   \n",
       "17  HOBBIES_1_001          17.0    99      8.2720                   -8.333333   \n",
       "18  HOBBIES_1_001          18.0   111      8.2720                   12.121212   \n",
       "19  HOBBIES_1_001          19.0   104      8.2720                   -6.306306   \n",
       "20  HOBBIES_1_001          20.0   107      8.2720                    2.884615   \n",
       "21  HOBBIES_1_001          21.0   103      8.2720                   -3.738318   \n",
       "22  HOBBIES_1_001          22.0   100      8.2720                   -2.912621   \n",
       "23  HOBBIES_1_001          23.0   136      8.2720                   36.000000   \n",
       "24  HOBBIES_1_001          24.0    83      8.2720                  -38.970588   \n",
       "25  HOBBIES_1_001          25.0   149      8.1905                   79.518072   \n",
       "26  HOBBIES_1_001          26.0   135      8.2720                   -9.395973   \n",
       "27  HOBBIES_1_001          27.0   109      8.2720                  -19.259259   \n",
       "28  HOBBIES_1_001          28.0   135      8.2720                   23.853211   \n",
       "29  HOBBIES_1_001          29.0   141      8.2720                    4.444444   \n",
       "30  HOBBIES_1_001          30.0   155      8.2720                    9.929078   \n",
       "31  HOBBIES_1_001          31.0   133      8.2720                  -14.193548   \n",
       "32  HOBBIES_1_001          32.0   150      8.2720                   12.781955   \n",
       "33  HOBBIES_1_001          33.0   146      8.2720                   -2.666667   \n",
       "34  HOBBIES_1_001          34.0   149      8.2720                    2.054795   \n",
       "35  HOBBIES_1_001          35.0   151      8.2870                    1.342282   \n",
       "36  HOBBIES_1_001          36.0    59      8.3440                  -60.927152   \n",
       "\n",
       "    percentage_change_price         PED  \n",
       "0                       NaN         NaN  \n",
       "1                 -5.998439   -6.373226  \n",
       "2                 -1.174238   -6.699432  \n",
       "3                  0.000000         inf  \n",
       "4                 -0.216035  -68.122951  \n",
       "5                 -0.072167  130.015649  \n",
       "6                  0.000000        -inf  \n",
       "7                  0.000000        -inf  \n",
       "8                 -0.324988  -68.156379  \n",
       "9                  0.000000        -inf  \n",
       "10                 0.036228  -61.362963  \n",
       "11                 0.000000        -inf  \n",
       "12                 0.000000         inf  \n",
       "13                -0.036214 -489.251232  \n",
       "14                -0.108683  402.111111  \n",
       "15                 0.000000        -inf  \n",
       "16                 0.000000         inf  \n",
       "17                 0.000000        -inf  \n",
       "18                 0.000000         inf  \n",
       "19                 0.000000        -inf  \n",
       "20                 0.000000         inf  \n",
       "21                 0.000000        -inf  \n",
       "22                 0.000000        -inf  \n",
       "23                 0.000000         inf  \n",
       "24                 0.000000        -inf  \n",
       "25                -0.985251  -46.942236  \n",
       "26                 0.995055  -11.647189  \n",
       "27                 0.000000        -inf  \n",
       "28                 0.000000         inf  \n",
       "29                 0.000000         inf  \n",
       "30                 0.000000         inf  \n",
       "31                 0.000000        -inf  \n",
       "32                 0.000000         inf  \n",
       "33                 0.000000        -inf  \n",
       "34                 0.000000         inf  \n",
       "35                 0.181335   10.559365  \n",
       "36                 0.687824         NaN  "
      ]
     },
     "execution_count": 249,
     "metadata": {},
     "output_type": "execute_result"
    }
   ],
   "source": [
    "df_ped"
   ]
  },
  {
   "cell_type": "code",
   "execution_count": null,
   "id": "b8e393bd",
   "metadata": {},
   "outputs": [],
   "source": []
  },
  {
   "cell_type": "code",
   "execution_count": 212,
   "id": "2cb1eabf",
   "metadata": {},
   "outputs": [
    {
     "name": "stdout",
     "output_type": "stream",
     "text": [
      "15\n"
     ]
    }
   ],
   "source": [
    "print(try_1a_hobbies[(try_1a_hobbies['percentage_change_price'] <= 0) & (try_1a_hobbies['percentage_change_quantity'] < 0)].shape[0])"
   ]
  },
  {
   "cell_type": "code",
   "execution_count": 129,
   "id": "1a7dcf08",
   "metadata": {},
   "outputs": [
    {
     "name": "stdout",
     "output_type": "stream",
     "text": [
      "item_id\n",
      "HOBBIES_1_001   -6.313660\n",
      "HOBBIES_1_002    1.685968\n",
      "HOBBIES_1_003   -0.221408\n",
      "HOBBIES_1_004    2.018078\n",
      "HOBBIES_1_005   -1.956470\n",
      "                   ...   \n",
      "HOBBIES_2_145    5.677457\n",
      "HOBBIES_2_146    1.597707\n",
      "HOBBIES_2_147    1.000000\n",
      "HOBBIES_2_148    0.829395\n",
      "HOBBIES_2_149   -1.139089\n",
      "Length: 565, dtype: float64\n"
     ]
    }
   ],
   "source": [
    "# How each type of food item react to price changes.\n",
    "# Ex: Apple in the whole Australia.\n",
    "ped_item_id_hobbies = hobbies_df.groupby('item_id').apply(calculate_ped)\n",
    "print(ped_item_id_hobbies)"
   ]
  },
  {
   "cell_type": "code",
   "execution_count": 131,
   "id": "2d13ed60",
   "metadata": {},
   "outputs": [
    {
     "name": "stdout",
     "output_type": "stream",
     "text": [
      "state_id\n",
      "CA   -0.423506\n",
      "TX   -0.228639\n",
      "WI   -0.396050\n",
      "dtype: float64\n"
     ]
    }
   ],
   "source": [
    "# How foods in each state react to price changes.\n",
    "# Ex: Foods (apple,orange,banana...) in Victoria.\n",
    "ped_state_item_id_hobbies = hobbies_df.groupby('state_id').apply(calculate_ped)\n",
    "print(ped_state_item_id_hobbies)"
   ]
  },
  {
   "cell_type": "code",
   "execution_count": 132,
   "id": "a7d07cc5",
   "metadata": {},
   "outputs": [
    {
     "name": "stdout",
     "output_type": "stream",
     "text": [
      "store_id\n",
      "CA_1   -0.388192\n",
      "CA_2   -0.445331\n",
      "CA_3   -0.412122\n",
      "CA_4   -0.468916\n",
      "TX_1   -0.342390\n",
      "TX_2   -0.255702\n",
      "TX_3   -0.106331\n",
      "WI_1   -0.406485\n",
      "WI_2   -0.348538\n",
      "WI_3   -0.418785\n",
      "dtype: float64\n"
     ]
    }
   ],
   "source": [
    "# How foods in each store react to price changes.\n",
    "# Ex: Foods (apple,orange,banana...) in Mcity.\n",
    "ped_store_item_id_hobbies = hobbies_df.groupby('store_id').apply(calculate_ped)\n",
    "print(ped_store_item_id_hobbies)"
   ]
  },
  {
   "cell_type": "code",
   "execution_count": 133,
   "id": "50a9da30",
   "metadata": {},
   "outputs": [
    {
     "name": "stdout",
     "output_type": "stream",
     "text": [
      "item_id        store_id\n",
      "HOBBIES_1_001  CA_1        -5.097742\n",
      "               CA_2        35.232799\n",
      "               CA_3        34.909486\n",
      "               CA_4        -4.440415\n",
      "               TX_1         0.833142\n",
      "                             ...    \n",
      "HOBBIES_2_149  TX_2        -1.109734\n",
      "               TX_3        -0.940017\n",
      "               WI_1        -1.222426\n",
      "               WI_2        -0.790498\n",
      "               WI_3        -1.312173\n",
      "Length: 5650, dtype: float64\n"
     ]
    }
   ],
   "source": [
    "ped_item_store_id_hobbies = hobbies_df.groupby(['item_id','store_id']).apply(calculate_ped)\n",
    "print(ped_item_store_id_hobbies )"
   ]
  },
  {
   "cell_type": "code",
   "execution_count": 134,
   "id": "a2446188",
   "metadata": {},
   "outputs": [
    {
     "name": "stdout",
     "output_type": "stream",
     "text": [
      "item_id        state_id\n",
      "HOBBIES_1_001  CA          -4.384036\n",
      "               TX           0.174109\n",
      "               WI         -10.304710\n",
      "HOBBIES_1_002  CA           1.580164\n",
      "               TX           0.398928\n",
      "                             ...    \n",
      "HOBBIES_2_148  TX           0.987621\n",
      "               WI           0.931861\n",
      "HOBBIES_2_149  CA          -1.198652\n",
      "               TX          -1.112464\n",
      "               WI          -1.105192\n",
      "Length: 1695, dtype: float64\n"
     ]
    }
   ],
   "source": [
    "ped_item_state_id_hobbies = hobbies_df.groupby(['item_id','state_id']).apply(calculate_ped)\n",
    "print(ped_item_state_id_hobbies )"
   ]
  },
  {
   "cell_type": "code",
   "execution_count": 135,
   "id": "9ea45196",
   "metadata": {},
   "outputs": [],
   "source": [
    "ped_item_id_hobbies = ped_item_id_hobbies.to_frame().reset_index()\n",
    "ped_item_store_id_hobbies = ped_item_hobbies_id_hobbies.to_frame().reset_index()\n",
    "ped_item_state_id_hobbies = ped_item_state_id_hobbies.to_frame().reset_index()"
   ]
  },
  {
   "cell_type": "code",
   "execution_count": 137,
   "id": "5dc1b14d",
   "metadata": {},
   "outputs": [],
   "source": [
    "ped_item_store_id_hobbies['state_id'] = ped_item_store_id_hobbies['store_id'].str[:2]"
   ]
  },
  {
   "cell_type": "code",
   "execution_count": 143,
   "id": "aeac46fc",
   "metadata": {},
   "outputs": [],
   "source": [
    "a = ped_item_id_hobbies.merge(ped_item_store_id_hobbies , left_on = 'item_id', right_on = 'item_id')"
   ]
  },
  {
   "cell_type": "code",
   "execution_count": 144,
   "id": "064d8b79",
   "metadata": {},
   "outputs": [],
   "source": [
    "b = a.merge(ped_item_state_id_hobbies, left_on = ['item_id','state_id'], right_on = ['item_id','state_id'])"
   ]
  },
  {
   "cell_type": "code",
   "execution_count": 148,
   "id": "f1435a02",
   "metadata": {},
   "outputs": [],
   "source": [
    "b.to_csv('hobbies_ped.csv')"
   ]
  },
  {
   "cell_type": "code",
   "execution_count": 149,
   "id": "329fe53c",
   "metadata": {},
   "outputs": [
    {
     "data": {
      "text/html": [
       "<div>\n",
       "<style scoped>\n",
       "    .dataframe tbody tr th:only-of-type {\n",
       "        vertical-align: middle;\n",
       "    }\n",
       "\n",
       "    .dataframe tbody tr th {\n",
       "        vertical-align: top;\n",
       "    }\n",
       "\n",
       "    .dataframe thead th {\n",
       "        text-align: right;\n",
       "    }\n",
       "</style>\n",
       "<table border=\"1\" class=\"dataframe\">\n",
       "  <thead>\n",
       "    <tr style=\"text-align: right;\">\n",
       "      <th></th>\n",
       "      <th>item_id</th>\n",
       "      <th>0_x</th>\n",
       "      <th>store_id</th>\n",
       "      <th>0_y</th>\n",
       "      <th>state_id</th>\n",
       "      <th>0</th>\n",
       "    </tr>\n",
       "  </thead>\n",
       "  <tbody>\n",
       "    <tr>\n",
       "      <th>0</th>\n",
       "      <td>HOBBIES_1_001</td>\n",
       "      <td>-6.313660</td>\n",
       "      <td>CA_1</td>\n",
       "      <td>-5.097742</td>\n",
       "      <td>CA</td>\n",
       "      <td>-4.384036</td>\n",
       "    </tr>\n",
       "    <tr>\n",
       "      <th>1</th>\n",
       "      <td>HOBBIES_1_001</td>\n",
       "      <td>-6.313660</td>\n",
       "      <td>CA_2</td>\n",
       "      <td>35.232799</td>\n",
       "      <td>CA</td>\n",
       "      <td>-4.384036</td>\n",
       "    </tr>\n",
       "    <tr>\n",
       "      <th>2</th>\n",
       "      <td>HOBBIES_1_001</td>\n",
       "      <td>-6.313660</td>\n",
       "      <td>CA_3</td>\n",
       "      <td>34.909486</td>\n",
       "      <td>CA</td>\n",
       "      <td>-4.384036</td>\n",
       "    </tr>\n",
       "    <tr>\n",
       "      <th>3</th>\n",
       "      <td>HOBBIES_1_001</td>\n",
       "      <td>-6.313660</td>\n",
       "      <td>CA_4</td>\n",
       "      <td>-4.440415</td>\n",
       "      <td>CA</td>\n",
       "      <td>-4.384036</td>\n",
       "    </tr>\n",
       "    <tr>\n",
       "      <th>4</th>\n",
       "      <td>HOBBIES_1_001</td>\n",
       "      <td>-6.313660</td>\n",
       "      <td>TX_1</td>\n",
       "      <td>0.833142</td>\n",
       "      <td>TX</td>\n",
       "      <td>0.174109</td>\n",
       "    </tr>\n",
       "    <tr>\n",
       "      <th>...</th>\n",
       "      <td>...</td>\n",
       "      <td>...</td>\n",
       "      <td>...</td>\n",
       "      <td>...</td>\n",
       "      <td>...</td>\n",
       "      <td>...</td>\n",
       "    </tr>\n",
       "    <tr>\n",
       "      <th>5645</th>\n",
       "      <td>HOBBIES_2_149</td>\n",
       "      <td>-1.139089</td>\n",
       "      <td>TX_2</td>\n",
       "      <td>-1.109734</td>\n",
       "      <td>TX</td>\n",
       "      <td>-1.112464</td>\n",
       "    </tr>\n",
       "    <tr>\n",
       "      <th>5646</th>\n",
       "      <td>HOBBIES_2_149</td>\n",
       "      <td>-1.139089</td>\n",
       "      <td>TX_3</td>\n",
       "      <td>-0.940017</td>\n",
       "      <td>TX</td>\n",
       "      <td>-1.112464</td>\n",
       "    </tr>\n",
       "    <tr>\n",
       "      <th>5647</th>\n",
       "      <td>HOBBIES_2_149</td>\n",
       "      <td>-1.139089</td>\n",
       "      <td>WI_1</td>\n",
       "      <td>-1.222426</td>\n",
       "      <td>WI</td>\n",
       "      <td>-1.105192</td>\n",
       "    </tr>\n",
       "    <tr>\n",
       "      <th>5648</th>\n",
       "      <td>HOBBIES_2_149</td>\n",
       "      <td>-1.139089</td>\n",
       "      <td>WI_2</td>\n",
       "      <td>-0.790498</td>\n",
       "      <td>WI</td>\n",
       "      <td>-1.105192</td>\n",
       "    </tr>\n",
       "    <tr>\n",
       "      <th>5649</th>\n",
       "      <td>HOBBIES_2_149</td>\n",
       "      <td>-1.139089</td>\n",
       "      <td>WI_3</td>\n",
       "      <td>-1.312173</td>\n",
       "      <td>WI</td>\n",
       "      <td>-1.105192</td>\n",
       "    </tr>\n",
       "  </tbody>\n",
       "</table>\n",
       "<p>5650 rows × 6 columns</p>\n",
       "</div>"
      ],
      "text/plain": [
       "            item_id       0_x store_id        0_y state_id         0\n",
       "0     HOBBIES_1_001 -6.313660     CA_1  -5.097742       CA -4.384036\n",
       "1     HOBBIES_1_001 -6.313660     CA_2  35.232799       CA -4.384036\n",
       "2     HOBBIES_1_001 -6.313660     CA_3  34.909486       CA -4.384036\n",
       "3     HOBBIES_1_001 -6.313660     CA_4  -4.440415       CA -4.384036\n",
       "4     HOBBIES_1_001 -6.313660     TX_1   0.833142       TX  0.174109\n",
       "...             ...       ...      ...        ...      ...       ...\n",
       "5645  HOBBIES_2_149 -1.139089     TX_2  -1.109734       TX -1.112464\n",
       "5646  HOBBIES_2_149 -1.139089     TX_3  -0.940017       TX -1.112464\n",
       "5647  HOBBIES_2_149 -1.139089     WI_1  -1.222426       WI -1.105192\n",
       "5648  HOBBIES_2_149 -1.139089     WI_2  -0.790498       WI -1.105192\n",
       "5649  HOBBIES_2_149 -1.139089     WI_3  -1.312173       WI -1.105192\n",
       "\n",
       "[5650 rows x 6 columns]"
      ]
     },
     "execution_count": 149,
     "metadata": {},
     "output_type": "execute_result"
    }
   ],
   "source": [
    "b"
   ]
  },
  {
   "cell_type": "code",
   "execution_count": 171,
   "id": "a9da5d1e",
   "metadata": {},
   "outputs": [],
   "source": [
    "ped_hobbies_filtered = b[(b[0] < 200) & (b[0] > -200)]"
   ]
  },
  {
   "cell_type": "code",
   "execution_count": 175,
   "id": "093f5a42",
   "metadata": {},
   "outputs": [
    {
     "data": {
      "image/png": "[encoded data removed]",
      "text/plain": [
       "<Figure size 720x432 with 1 Axes>"
      ]
     },
     "metadata": {
      "needs_background": "light"
     },
     "output_type": "display_data"
    }
   ],
   "source": [
    "plt.figure(figsize=(10, 6))\n",
    "sns.boxplot(data=ped_hobbies_filtered[0],orient='v')\n",
    "plt.show()                  "
   ]
  },
  {
   "cell_type": "markdown",
   "id": "0a62411b",
   "metadata": {},
   "source": [
    "## Calculate PED for foods items"
   ]
  },
  {
   "cell_type": "code",
   "execution_count": 3,
   "id": "a3587940",
   "metadata": {},
   "outputs": [
    {
     "name": "stderr",
     "output_type": "stream",
     "text": [
      "/Users/chloeang/opt/anaconda3/lib/python3.9/site-packages/IPython/core/interactiveshell.py:3444: DtypeWarning: Columns (15,16,17,18) have mixed types.Specify dtype option on import or set low_memory=False.\n",
      "  exec(code_obj, self.user_global_ns, self.user_ns)\n"
     ]
    }
   ],
   "source": [
    "foods_df = pd.read_csv('foods_df.csv')\n",
    "foods_df =foods_df.drop(foods_df.columns[0],axis=1)\n",
    "foods_df_2 = foods_df.dropna(subset = ['sell_price'])"
   ]
  },
  {
   "cell_type": "code",
   "execution_count": 21,
   "id": "944919bf",
   "metadata": {},
   "outputs": [
    {
     "data": {
      "text/html": [
       "<div>\n",
       "<style scoped>\n",
       "    .dataframe tbody tr th:only-of-type {\n",
       "        vertical-align: middle;\n",
       "    }\n",
       "\n",
       "    .dataframe tbody tr th {\n",
       "        vertical-align: top;\n",
       "    }\n",
       "\n",
       "    .dataframe thead th {\n",
       "        text-align: right;\n",
       "    }\n",
       "</style>\n",
       "<table border=\"1\" class=\"dataframe\">\n",
       "  <thead>\n",
       "    <tr style=\"text-align: right;\">\n",
       "      <th></th>\n",
       "      <th>Unnamed: 0</th>\n",
       "      <th>id</th>\n",
       "      <th>item_id</th>\n",
       "      <th>dept_id</th>\n",
       "      <th>cat_id</th>\n",
       "      <th>store_id</th>\n",
       "      <th>state_id</th>\n",
       "      <th>d</th>\n",
       "      <th>sold</th>\n",
       "      <th>date</th>\n",
       "      <th>...</th>\n",
       "      <th>month</th>\n",
       "      <th>year</th>\n",
       "      <th>event_name_1</th>\n",
       "      <th>event_type_1</th>\n",
       "      <th>event_name_2</th>\n",
       "      <th>event_type_2</th>\n",
       "      <th>snap_CA</th>\n",
       "      <th>snap_TX</th>\n",
       "      <th>snap_WI</th>\n",
       "      <th>sell_price</th>\n",
       "    </tr>\n",
       "  </thead>\n",
       "  <tbody>\n",
       "    <tr>\n",
       "      <th>0</th>\n",
       "      <td>1612</td>\n",
       "      <td>FOODS_1_001_CA_1_validation</td>\n",
       "      <td>FOODS_1_001</td>\n",
       "      <td>FOODS_1</td>\n",
       "      <td>FOODS</td>\n",
       "      <td>CA_1</td>\n",
       "      <td>CA</td>\n",
       "      <td>d_1</td>\n",
       "      <td>3</td>\n",
       "      <td>2011-01-29</td>\n",
       "      <td>...</td>\n",
       "      <td>1</td>\n",
       "      <td>2011</td>\n",
       "      <td>NaN</td>\n",
       "      <td>NaN</td>\n",
       "      <td>NaN</td>\n",
       "      <td>NaN</td>\n",
       "      <td>0</td>\n",
       "      <td>0</td>\n",
       "      <td>0</td>\n",
       "      <td>2.00</td>\n",
       "    </tr>\n",
       "    <tr>\n",
       "      <th>1</th>\n",
       "      <td>1613</td>\n",
       "      <td>FOODS_1_002_CA_1_validation</td>\n",
       "      <td>FOODS_1_002</td>\n",
       "      <td>FOODS_1</td>\n",
       "      <td>FOODS</td>\n",
       "      <td>CA_1</td>\n",
       "      <td>CA</td>\n",
       "      <td>d_1</td>\n",
       "      <td>0</td>\n",
       "      <td>2011-01-29</td>\n",
       "      <td>...</td>\n",
       "      <td>1</td>\n",
       "      <td>2011</td>\n",
       "      <td>NaN</td>\n",
       "      <td>NaN</td>\n",
       "      <td>NaN</td>\n",
       "      <td>NaN</td>\n",
       "      <td>0</td>\n",
       "      <td>0</td>\n",
       "      <td>0</td>\n",
       "      <td>7.88</td>\n",
       "    </tr>\n",
       "    <tr>\n",
       "      <th>2</th>\n",
       "      <td>1614</td>\n",
       "      <td>FOODS_1_003_CA_1_validation</td>\n",
       "      <td>FOODS_1_003</td>\n",
       "      <td>FOODS_1</td>\n",
       "      <td>FOODS</td>\n",
       "      <td>CA_1</td>\n",
       "      <td>CA</td>\n",
       "      <td>d_1</td>\n",
       "      <td>0</td>\n",
       "      <td>2011-01-29</td>\n",
       "      <td>...</td>\n",
       "      <td>1</td>\n",
       "      <td>2011</td>\n",
       "      <td>NaN</td>\n",
       "      <td>NaN</td>\n",
       "      <td>NaN</td>\n",
       "      <td>NaN</td>\n",
       "      <td>0</td>\n",
       "      <td>0</td>\n",
       "      <td>0</td>\n",
       "      <td>2.88</td>\n",
       "    </tr>\n",
       "    <tr>\n",
       "      <th>4</th>\n",
       "      <td>1616</td>\n",
       "      <td>FOODS_1_005_CA_1_validation</td>\n",
       "      <td>FOODS_1_005</td>\n",
       "      <td>FOODS_1</td>\n",
       "      <td>FOODS</td>\n",
       "      <td>CA_1</td>\n",
       "      <td>CA</td>\n",
       "      <td>d_1</td>\n",
       "      <td>3</td>\n",
       "      <td>2011-01-29</td>\n",
       "      <td>...</td>\n",
       "      <td>1</td>\n",
       "      <td>2011</td>\n",
       "      <td>NaN</td>\n",
       "      <td>NaN</td>\n",
       "      <td>NaN</td>\n",
       "      <td>NaN</td>\n",
       "      <td>0</td>\n",
       "      <td>0</td>\n",
       "      <td>0</td>\n",
       "      <td>2.94</td>\n",
       "    </tr>\n",
       "    <tr>\n",
       "      <th>5</th>\n",
       "      <td>1617</td>\n",
       "      <td>FOODS_1_006_CA_1_validation</td>\n",
       "      <td>FOODS_1_006</td>\n",
       "      <td>FOODS_1</td>\n",
       "      <td>FOODS</td>\n",
       "      <td>CA_1</td>\n",
       "      <td>CA</td>\n",
       "      <td>d_1</td>\n",
       "      <td>0</td>\n",
       "      <td>2011-01-29</td>\n",
       "      <td>...</td>\n",
       "      <td>1</td>\n",
       "      <td>2011</td>\n",
       "      <td>NaN</td>\n",
       "      <td>NaN</td>\n",
       "      <td>NaN</td>\n",
       "      <td>NaN</td>\n",
       "      <td>0</td>\n",
       "      <td>0</td>\n",
       "      <td>0</td>\n",
       "      <td>1.97</td>\n",
       "    </tr>\n",
       "  </tbody>\n",
       "</table>\n",
       "<p>5 rows × 23 columns</p>\n",
       "</div>"
      ],
      "text/plain": [
       "   Unnamed: 0                           id      item_id  dept_id cat_id  \\\n",
       "0        1612  FOODS_1_001_CA_1_validation  FOODS_1_001  FOODS_1  FOODS   \n",
       "1        1613  FOODS_1_002_CA_1_validation  FOODS_1_002  FOODS_1  FOODS   \n",
       "2        1614  FOODS_1_003_CA_1_validation  FOODS_1_003  FOODS_1  FOODS   \n",
       "4        1616  FOODS_1_005_CA_1_validation  FOODS_1_005  FOODS_1  FOODS   \n",
       "5        1617  FOODS_1_006_CA_1_validation  FOODS_1_006  FOODS_1  FOODS   \n",
       "\n",
       "  store_id state_id    d  sold        date  ...  month  year  event_name_1  \\\n",
       "0     CA_1       CA  d_1     3  2011-01-29  ...      1  2011           NaN   \n",
       "1     CA_1       CA  d_1     0  2011-01-29  ...      1  2011           NaN   \n",
       "2     CA_1       CA  d_1     0  2011-01-29  ...      1  2011           NaN   \n",
       "4     CA_1       CA  d_1     3  2011-01-29  ...      1  2011           NaN   \n",
       "5     CA_1       CA  d_1     0  2011-01-29  ...      1  2011           NaN   \n",
       "\n",
       "   event_type_1  event_name_2 event_type_2 snap_CA snap_TX snap_WI  sell_price  \n",
       "0           NaN           NaN          NaN       0       0       0        2.00  \n",
       "1           NaN           NaN          NaN       0       0       0        7.88  \n",
       "2           NaN           NaN          NaN       0       0       0        2.88  \n",
       "4           NaN           NaN          NaN       0       0       0        2.94  \n",
       "5           NaN           NaN          NaN       0       0       0        1.97  \n",
       "\n",
       "[5 rows x 23 columns]"
      ]
     },
     "execution_count": 21,
     "metadata": {},
     "output_type": "execute_result"
    }
   ],
   "source": [
    "foods_df_2.head(5)"
   ]
  },
  {
   "cell_type": "code",
   "execution_count": 111,
   "id": "1b06f9c8",
   "metadata": {},
   "outputs": [
    {
     "data": {
      "image/png": "[encoded data removed]",
      "text/plain": [
       "<Figure size 432x288 with 1 Axes>"
      ]
     },
     "metadata": {
      "needs_background": "light"
     },
     "output_type": "display_data"
    },
    {
     "data": {
      "text/plain": [
       "<Figure size 720x432 with 0 Axes>"
      ]
     },
     "metadata": {},
     "output_type": "display_data"
    }
   ],
   "source": [
    "# We can see the distribution of price and quantity\n",
    "# when price is low, quantity sold is higher\n",
    "plt.scatter(foods_df_2['sell_price'],foods_df_2['sold'])\n",
    "plt.figure(figsize=(10, 6))\n",
    "plt.show()"
   ]
  },
  {
   "cell_type": "code",
   "execution_count": 100,
   "id": "c065072f",
   "metadata": {},
   "outputs": [
    {
     "name": "stdout",
     "output_type": "stream",
     "text": [
      "id\n",
      "FOODS_1_001_CA_1_validation   -3.395525\n",
      "FOODS_1_001_CA_2_validation   -4.022723\n",
      "FOODS_1_001_CA_3_validation   -1.805704\n",
      "FOODS_1_001_CA_4_validation   -2.857772\n",
      "FOODS_1_001_TX_1_validation   -1.110851\n",
      "                                 ...   \n",
      "FOODS_3_827_TX_2_validation    1.000000\n",
      "FOODS_3_827_TX_3_validation   -3.714840\n",
      "FOODS_3_827_WI_1_validation    1.000000\n",
      "FOODS_3_827_WI_2_validation    1.000000\n",
      "FOODS_3_827_WI_3_validation    1.000000\n",
      "Length: 14370, dtype: float64\n"
     ]
    }
   ],
   "source": [
    "# How each specific food items react to price changes.\n",
    "# Ex: apple in Mcity.\n",
    "ped_id_food =foods_df_2.groupby('id').apply(calculate_ped)\n",
    "print(ped_id_food)"
   ]
  },
  {
   "cell_type": "code",
   "execution_count": 60,
   "id": "552c5923",
   "metadata": {},
   "outputs": [
    {
     "name": "stderr",
     "output_type": "stream",
     "text": [
      "/Users/chloeang/opt/anaconda3/lib/python3.9/site-packages/statsmodels/tsa/tsatools.py:142: FutureWarning: In a future version of pandas all arguments of concat except for the argument 'objs' will be keyword-only\n",
      "  x = pd.concat(x[::order], 1)\n"
     ]
    },
    {
     "name": "stdout",
     "output_type": "stream",
     "text": [
      "item_id\n",
      "FOODS_1_001   -3.243099\n",
      "FOODS_1_002    0.351640\n",
      "FOODS_1_003   -3.270178\n",
      "FOODS_1_004   -3.543704\n",
      "FOODS_1_005    1.188883\n",
      "                 ...   \n",
      "FOODS_3_823   -2.578088\n",
      "FOODS_3_824    1.205180\n",
      "FOODS_3_825   -5.846464\n",
      "FOODS_3_826    3.399996\n",
      "FOODS_3_827   -1.053623\n",
      "Length: 1437, dtype: float64\n"
     ]
    }
   ],
   "source": [
    "# How each type of food item react to price changes.\n",
    "# Ex: Apple in the whole Australia.\n",
    "ped_item_id_food =foods_df_2.groupby('item_id').apply(calculate_ped)\n",
    "print(ped_item_id_food)"
   ]
  },
  {
   "cell_type": "code",
   "execution_count": 16,
   "id": "90ab77bb",
   "metadata": {},
   "outputs": [
    {
     "name": "stdout",
     "output_type": "stream",
     "text": [
      "state_id\n",
      "CA   -0.561844\n",
      "TX   -0.598503\n",
      "WI   -0.641968\n",
      "dtype: float64\n"
     ]
    }
   ],
   "source": [
    "# How foods in each state react to price changes.\n",
    "# Ex: Foods (apple,orange,banana...) in Victoria.\n",
    "ped_state_item_id_food =foods_df_2.groupby('state_id').apply(calculate_ped)\n",
    "print(ped_state_item_id_food)"
   ]
  },
  {
   "cell_type": "code",
   "execution_count": 17,
   "id": "37750546",
   "metadata": {},
   "outputs": [
    {
     "name": "stdout",
     "output_type": "stream",
     "text": [
      "store_id\n",
      "CA_1   -0.574471\n",
      "CA_2   -0.508451\n",
      "CA_3   -0.598783\n",
      "CA_4   -0.510226\n",
      "TX_1   -0.601425\n",
      "TX_2   -0.616935\n",
      "TX_3   -0.574176\n",
      "WI_1   -0.585910\n",
      "WI_2   -0.616041\n",
      "WI_3   -0.711130\n",
      "dtype: float64\n"
     ]
    }
   ],
   "source": [
    "# How foods in each store react to price changes.\n",
    "# Ex: Foods (apple,orange,banana...) in Mcity.\n",
    "ped_store_item_id_food =foods_df_2.groupby('store_id').apply(calculate_ped)\n",
    "print(ped_store_item_id_food)"
   ]
  },
  {
   "cell_type": "code",
   "execution_count": 18,
   "id": "45890e2d",
   "metadata": {},
   "outputs": [
    {
     "name": "stdout",
     "output_type": "stream",
     "text": [
      "dept_id\n",
      "FOODS_1   -0.638390\n",
      "FOODS_2   -0.481386\n",
      "FOODS_3   -0.594738\n",
      "dtype: float64\n"
     ]
    }
   ],
   "source": [
    "# How foods in each dept react to price changes.\n",
    "# Ex: Foods (apple,orange,banana...) in all dept 1,2,3 including all woolies in Aus.\n",
    "ped_dept_item_id_food =foods_df_2.groupby('dept_id').apply(calculate_ped)\n",
    "print(ped_dept_item_id_food)"
   ]
  },
  {
   "cell_type": "code",
   "execution_count": 65,
   "id": "ae9e0c03",
   "metadata": {},
   "outputs": [
    {
     "name": "stderr",
     "output_type": "stream",
     "text": [
      "/Users/chloeang/opt/anaconda3/lib/python3.9/site-packages/statsmodels/tsa/tsatools.py:142: FutureWarning: In a future version of pandas all arguments of concat except for the argument 'objs' will be keyword-only\n",
      "  x = pd.concat(x[::order], 1)\n"
     ]
    },
    {
     "name": "stdout",
     "output_type": "stream",
     "text": [
      "item_id      store_id\n",
      "FOODS_1_001  CA_1       -3.395525\n",
      "             CA_2       -4.022723\n",
      "             CA_3       -1.805704\n",
      "             CA_4       -2.857772\n",
      "             TX_1       -1.110851\n",
      "                           ...   \n",
      "FOODS_3_827  TX_2        1.000000\n",
      "             TX_3       -3.714840\n",
      "             WI_1        1.000000\n",
      "             WI_2        1.000000\n",
      "             WI_3        1.000000\n",
      "Length: 14370, dtype: float64\n"
     ]
    }
   ],
   "source": [
    "ped_item_store_id_food =foods_df_2.groupby(['item_id','store_id']).apply(calculate_ped)\n",
    "print(ped_item_store_id_food)"
   ]
  },
  {
   "cell_type": "code",
   "execution_count": 33,
   "id": "0d0f612f",
   "metadata": {},
   "outputs": [
    {
     "name": "stderr",
     "output_type": "stream",
     "text": [
      "/Users/chloeang/opt/anaconda3/lib/python3.9/site-packages/statsmodels/tsa/tsatools.py:142: FutureWarning: In a future version of pandas all arguments of concat except for the argument 'objs' will be keyword-only\n",
      "  x = pd.concat(x[::order], 1)\n"
     ]
    },
    {
     "name": "stdout",
     "output_type": "stream",
     "text": [
      "item_id      state_id\n",
      "FOODS_1_001  CA         -3.165005\n",
      "             TX         -2.207560\n",
      "             WI         -5.316850\n",
      "FOODS_1_002  CA          0.607149\n",
      "             TX         -2.417406\n",
      "                           ...   \n",
      "FOODS_3_826  TX          3.139472\n",
      "             WI          1.000000\n",
      "FOODS_3_827  CA          1.000000\n",
      "             TX         -7.165047\n",
      "             WI          1.000000\n",
      "Length: 4311, dtype: float64\n"
     ]
    }
   ],
   "source": [
    "ped_item_state_id_food =foods_df_2.groupby(['item_id','state_id']).apply(calculate_ped)\n",
    "print(ped_item_state_id_food)"
   ]
  },
  {
   "cell_type": "code",
   "execution_count": 61,
   "id": "a8229cba",
   "metadata": {},
   "outputs": [],
   "source": [
    "ped_item_id_food = ped_item_id_food.to_frame().reset_index()\n",
    "ped_item_store_id_food = ped_item_store_id_food.to_frame().reset_index()\n",
    "ped_item_state_id_food = ped_item_state_id_food.to_frame().reset_index().reset_index()"
   ]
  },
  {
   "cell_type": "code",
   "execution_count": 90,
   "id": "6ec7dae7",
   "metadata": {},
   "outputs": [],
   "source": [
    "ped_item_store_id_food['state_id'] = ped_item_store_id_food['store_id'].str[:2]"
   ]
  },
  {
   "cell_type": "code",
   "execution_count": 176,
   "id": "3f488fbd",
   "metadata": {},
   "outputs": [],
   "source": [
    "a_foods = ped_item_id_food.merge(ped_item_state_id_food,left_on ='item_id',right_on = 'item_id')"
   ]
  },
  {
   "cell_type": "code",
   "execution_count": 177,
   "id": "c072b6e4",
   "metadata": {},
   "outputs": [],
   "source": [
    "b_foods = a_foods.merge(ped_item_store_id_food,left_on =['item_id','state_id'],right_on = ['item_id','state_id'])"
   ]
  },
  {
   "cell_type": "code",
   "execution_count": 178,
   "id": "c51e262b",
   "metadata": {},
   "outputs": [
    {
     "data": {
      "text/html": [
       "<div>\n",
       "<style scoped>\n",
       "    .dataframe tbody tr th:only-of-type {\n",
       "        vertical-align: middle;\n",
       "    }\n",
       "\n",
       "    .dataframe tbody tr th {\n",
       "        vertical-align: top;\n",
       "    }\n",
       "\n",
       "    .dataframe thead th {\n",
       "        text-align: right;\n",
       "    }\n",
       "</style>\n",
       "<table border=\"1\" class=\"dataframe\">\n",
       "  <thead>\n",
       "    <tr style=\"text-align: right;\">\n",
       "      <th></th>\n",
       "      <th>item_id</th>\n",
       "      <th>0_x</th>\n",
       "      <th>state_id</th>\n",
       "      <th>0_y</th>\n",
       "      <th>store_id</th>\n",
       "      <th>0</th>\n",
       "    </tr>\n",
       "  </thead>\n",
       "  <tbody>\n",
       "    <tr>\n",
       "      <th>0</th>\n",
       "      <td>FOODS_1_001</td>\n",
       "      <td>-3.243099</td>\n",
       "      <td>CA</td>\n",
       "      <td>-3.165005</td>\n",
       "      <td>CA_1</td>\n",
       "      <td>-3.395525</td>\n",
       "    </tr>\n",
       "    <tr>\n",
       "      <th>1</th>\n",
       "      <td>FOODS_1_001</td>\n",
       "      <td>-3.243099</td>\n",
       "      <td>CA</td>\n",
       "      <td>-3.165005</td>\n",
       "      <td>CA_2</td>\n",
       "      <td>-4.022723</td>\n",
       "    </tr>\n",
       "    <tr>\n",
       "      <th>2</th>\n",
       "      <td>FOODS_1_001</td>\n",
       "      <td>-3.243099</td>\n",
       "      <td>CA</td>\n",
       "      <td>-3.165005</td>\n",
       "      <td>CA_3</td>\n",
       "      <td>-1.805704</td>\n",
       "    </tr>\n",
       "    <tr>\n",
       "      <th>3</th>\n",
       "      <td>FOODS_1_001</td>\n",
       "      <td>-3.243099</td>\n",
       "      <td>CA</td>\n",
       "      <td>-3.165005</td>\n",
       "      <td>CA_4</td>\n",
       "      <td>-2.857772</td>\n",
       "    </tr>\n",
       "    <tr>\n",
       "      <th>4</th>\n",
       "      <td>FOODS_1_001</td>\n",
       "      <td>-3.243099</td>\n",
       "      <td>TX</td>\n",
       "      <td>-2.207560</td>\n",
       "      <td>TX_1</td>\n",
       "      <td>-1.110851</td>\n",
       "    </tr>\n",
       "    <tr>\n",
       "      <th>...</th>\n",
       "      <td>...</td>\n",
       "      <td>...</td>\n",
       "      <td>...</td>\n",
       "      <td>...</td>\n",
       "      <td>...</td>\n",
       "      <td>...</td>\n",
       "    </tr>\n",
       "    <tr>\n",
       "      <th>14365</th>\n",
       "      <td>FOODS_3_827</td>\n",
       "      <td>-1.053623</td>\n",
       "      <td>TX</td>\n",
       "      <td>-7.165047</td>\n",
       "      <td>TX_2</td>\n",
       "      <td>1.000000</td>\n",
       "    </tr>\n",
       "    <tr>\n",
       "      <th>14366</th>\n",
       "      <td>FOODS_3_827</td>\n",
       "      <td>-1.053623</td>\n",
       "      <td>TX</td>\n",
       "      <td>-7.165047</td>\n",
       "      <td>TX_3</td>\n",
       "      <td>-3.714840</td>\n",
       "    </tr>\n",
       "    <tr>\n",
       "      <th>14367</th>\n",
       "      <td>FOODS_3_827</td>\n",
       "      <td>-1.053623</td>\n",
       "      <td>WI</td>\n",
       "      <td>1.000000</td>\n",
       "      <td>WI_1</td>\n",
       "      <td>1.000000</td>\n",
       "    </tr>\n",
       "    <tr>\n",
       "      <th>14368</th>\n",
       "      <td>FOODS_3_827</td>\n",
       "      <td>-1.053623</td>\n",
       "      <td>WI</td>\n",
       "      <td>1.000000</td>\n",
       "      <td>WI_2</td>\n",
       "      <td>1.000000</td>\n",
       "    </tr>\n",
       "    <tr>\n",
       "      <th>14369</th>\n",
       "      <td>FOODS_3_827</td>\n",
       "      <td>-1.053623</td>\n",
       "      <td>WI</td>\n",
       "      <td>1.000000</td>\n",
       "      <td>WI_3</td>\n",
       "      <td>1.000000</td>\n",
       "    </tr>\n",
       "  </tbody>\n",
       "</table>\n",
       "<p>14370 rows × 6 columns</p>\n",
       "</div>"
      ],
      "text/plain": [
       "           item_id       0_x state_id       0_y store_id         0\n",
       "0      FOODS_1_001 -3.243099       CA -3.165005     CA_1 -3.395525\n",
       "1      FOODS_1_001 -3.243099       CA -3.165005     CA_2 -4.022723\n",
       "2      FOODS_1_001 -3.243099       CA -3.165005     CA_3 -1.805704\n",
       "3      FOODS_1_001 -3.243099       CA -3.165005     CA_4 -2.857772\n",
       "4      FOODS_1_001 -3.243099       TX -2.207560     TX_1 -1.110851\n",
       "...            ...       ...      ...       ...      ...       ...\n",
       "14365  FOODS_3_827 -1.053623       TX -7.165047     TX_2  1.000000\n",
       "14366  FOODS_3_827 -1.053623       TX -7.165047     TX_3 -3.714840\n",
       "14367  FOODS_3_827 -1.053623       WI  1.000000     WI_1  1.000000\n",
       "14368  FOODS_3_827 -1.053623       WI  1.000000     WI_2  1.000000\n",
       "14369  FOODS_3_827 -1.053623       WI  1.000000     WI_3  1.000000\n",
       "\n",
       "[14370 rows x 6 columns]"
      ]
     },
     "execution_count": 178,
     "metadata": {},
     "output_type": "execute_result"
    }
   ],
   "source": [
    "b_foods"
   ]
  },
  {
   "cell_type": "code",
   "execution_count": 183,
   "id": "45c1d1d2",
   "metadata": {},
   "outputs": [],
   "source": [
    "ped_hobbies_filtered = b_foods[(b_foods[0] < 100) & (b_foods[0] > -100)]"
   ]
  },
  {
   "cell_type": "code",
   "execution_count": 184,
   "id": "a8e75e14",
   "metadata": {},
   "outputs": [
    {
     "data": {
      "image/png": "[encoded data removed]",
      "text/plain": [
       "<Figure size 720x432 with 1 Axes>"
      ]
     },
     "metadata": {
      "needs_background": "light"
     },
     "output_type": "display_data"
    }
   ],
   "source": [
    "plt.figure(figsize=(10, 6))\n",
    "sns.boxplot(data = ped_hobbies_filtered[0],orient='v')\n",
    "plt.show()        "
   ]
  },
  {
   "cell_type": "markdown",
   "id": "dece65d8",
   "metadata": {},
   "source": [
    "## Caculate PED for households items"
   ]
  },
  {
   "cell_type": "code",
   "execution_count": 185,
   "id": "7965ddb1",
   "metadata": {},
   "outputs": [
    {
     "name": "stderr",
     "output_type": "stream",
     "text": [
      "/Users/chloeang/opt/anaconda3/lib/python3.9/site-packages/IPython/core/interactiveshell.py:3444: DtypeWarning: Columns (15,16,17,18) have mixed types.Specify dtype option on import or set low_memory=False.\n",
      "  exec(code_obj, self.user_global_ns, self.user_ns)\n"
     ]
    }
   ],
   "source": [
    "households_df = pd.read_csv('households.csv')\n",
    "households_df = households_df.drop(households_df.columns[0],axis=1)\n",
    "households_df = households_df.dropna(subset = ['sell_price'])"
   ]
  },
  {
   "cell_type": "code",
   "execution_count": 187,
   "id": "7aa6cd25",
   "metadata": {},
   "outputs": [
    {
     "data": {
      "image/png": "[encoded data removed]",
      "text/plain": [
       "<Figure size 432x288 with 1 Axes>"
      ]
     },
     "metadata": {
      "needs_background": "light"
     },
     "output_type": "display_data"
    },
    {
     "data": {
      "text/plain": [
       "<Figure size 720x432 with 0 Axes>"
      ]
     },
     "metadata": {},
     "output_type": "display_data"
    }
   ],
   "source": [
    "# We can see the distribution of price and quantity\n",
    "# when price is low, quantity sold is higher\n",
    "plt.scatter(households_df['sell_price'],households_df['sold'])\n",
    "plt.figure(figsize=(10, 6))\n",
    "plt.show()"
   ]
  },
  {
   "cell_type": "code",
   "execution_count": 189,
   "id": "fbd6c0ad",
   "metadata": {},
   "outputs": [
    {
     "name": "stdout",
     "output_type": "stream",
     "text": [
      "id\n",
      "HOUSEHOLD_1_001_CA_1_validation    -0.994784\n",
      "HOUSEHOLD_1_001_CA_2_validation    10.577096\n",
      "HOUSEHOLD_1_001_CA_3_validation     3.494343\n",
      "HOUSEHOLD_1_001_CA_4_validation     0.134957\n",
      "HOUSEHOLD_1_001_TX_1_validation    -2.200022\n",
      "                                     ...    \n",
      "HOUSEHOLD_2_516_TX_2_validation    -5.833195\n",
      "HOUSEHOLD_2_516_TX_3_validation     1.000000\n",
      "HOUSEHOLD_2_516_WI_1_validation     1.000000\n",
      "HOUSEHOLD_2_516_WI_2_validation     1.000000\n",
      "HOUSEHOLD_2_516_WI_3_validation     1.000000\n",
      "Length: 10470, dtype: float64\n"
     ]
    }
   ],
   "source": [
    "# How each specific food items react to price changes.\n",
    "# Ex: apple in Mcity.\n",
    "ped_id_households = households_df.groupby('id').apply(calculate_ped)\n",
    "print(ped_id_households)"
   ]
  },
  {
   "cell_type": "code",
   "execution_count": 191,
   "id": "bf6a95d0",
   "metadata": {},
   "outputs": [
    {
     "name": "stdout",
     "output_type": "stream",
     "text": [
      "item_id\n",
      "HOUSEHOLD_1_001     1.609250\n",
      "HOUSEHOLD_1_002    -0.215320\n",
      "HOUSEHOLD_1_003     1.000000\n",
      "HOUSEHOLD_1_004     2.252436\n",
      "HOUSEHOLD_1_005    -1.558920\n",
      "                     ...    \n",
      "HOUSEHOLD_2_512     0.330760\n",
      "HOUSEHOLD_2_513     1.000000\n",
      "HOUSEHOLD_2_514     2.109435\n",
      "HOUSEHOLD_2_515    -0.136487\n",
      "HOUSEHOLD_2_516   -13.006727\n",
      "Length: 1047, dtype: float64\n"
     ]
    }
   ],
   "source": [
    "# How each type of food item react to price changes.\n",
    "# Ex: Apple in the whole Australia.\n",
    "ped_item_id_households = households_df.groupby('item_id').apply(calculate_ped)\n",
    "print(ped_item_id_households)"
   ]
  },
  {
   "cell_type": "code",
   "execution_count": 192,
   "id": "062243ea",
   "metadata": {},
   "outputs": [
    {
     "name": "stdout",
     "output_type": "stream",
     "text": [
      "state_id\n",
      "CA   -0.672693\n",
      "TX   -0.835770\n",
      "WI   -0.861048\n",
      "dtype: float64\n"
     ]
    }
   ],
   "source": [
    "# How foods in each state react to price changes.\n",
    "# Ex: Foods (apple,orange,banana...) in Victoria.\n",
    "ped_state_item_id_households = households_df.groupby('state_id').apply(calculate_ped)\n",
    "print(ped_state_item_id_households)"
   ]
  },
  {
   "cell_type": "code",
   "execution_count": 193,
   "id": "69fdad1f",
   "metadata": {},
   "outputs": [
    {
     "name": "stdout",
     "output_type": "stream",
     "text": [
      "store_id\n",
      "CA_1   -0.639014\n",
      "CA_2   -0.577400\n",
      "CA_3   -0.770494\n",
      "CA_4   -0.576431\n",
      "TX_1   -0.859197\n",
      "TX_2   -0.786838\n",
      "TX_3   -0.866839\n",
      "WI_1   -0.755076\n",
      "WI_2   -0.958233\n",
      "WI_3   -0.835668\n",
      "dtype: float64\n"
     ]
    }
   ],
   "source": [
    "# How foods in each store react to price changes.\n",
    "# Ex: Foods (apple,orange,banana...) in Mcity.\n",
    "ped_store_item_id_households = households_df.groupby('store_id').apply(calculate_ped)\n",
    "print(ped_store_item_id_households)"
   ]
  },
  {
   "cell_type": "code",
   "execution_count": 194,
   "id": "7ce6464c",
   "metadata": {},
   "outputs": [
    {
     "name": "stdout",
     "output_type": "stream",
     "text": [
      "dept_id\n",
      "HOUSEHOLD_1   -0.567125\n",
      "HOUSEHOLD_2   -0.575657\n",
      "dtype: float64\n"
     ]
    }
   ],
   "source": [
    "# How foods in each dept react to price changes.\n",
    "# Ex: Foods (apple,orange,banana...) in all dept 1,2,3 including all woolies in Aus.\n",
    "ped_dept_item_id_households = households_df.groupby('dept_id').apply(calculate_ped)\n",
    "print(ped_dept_item_id_households)"
   ]
  },
  {
   "cell_type": "code",
   "execution_count": 195,
   "id": "a8db9eaf",
   "metadata": {},
   "outputs": [
    {
     "name": "stdout",
     "output_type": "stream",
     "text": [
      "item_id          store_id\n",
      "HOUSEHOLD_1_001  CA_1        -0.994784\n",
      "                 CA_2        10.577096\n",
      "                 CA_3         3.494343\n",
      "                 CA_4         0.134957\n",
      "                 TX_1        -2.200022\n",
      "                               ...    \n",
      "HOUSEHOLD_2_516  TX_2        -5.833195\n",
      "                 TX_3         1.000000\n",
      "                 WI_1         1.000000\n",
      "                 WI_2         1.000000\n",
      "                 WI_3         1.000000\n",
      "Length: 10470, dtype: float64\n"
     ]
    }
   ],
   "source": [
    "ped_item_store_id_households = households_df.groupby(['item_id','store_id']).apply(calculate_ped)\n",
    "print(ped_item_store_id_households)"
   ]
  },
  {
   "cell_type": "code",
   "execution_count": 196,
   "id": "83e5d008",
   "metadata": {},
   "outputs": [
    {
     "name": "stdout",
     "output_type": "stream",
     "text": [
      "item_id          state_id\n",
      "HOUSEHOLD_1_001  CA           2.890141\n",
      "                 TX           0.748463\n",
      "                 WI          -0.671808\n",
      "HOUSEHOLD_1_002  CA           0.789803\n",
      "                 TX           1.240118\n",
      "                               ...    \n",
      "HOUSEHOLD_2_515  TX          -0.268551\n",
      "                 WI           1.000000\n",
      "HOUSEHOLD_2_516  CA           1.000000\n",
      "                 TX         -10.051395\n",
      "                 WI           1.000000\n",
      "Length: 3141, dtype: float64\n"
     ]
    }
   ],
   "source": [
    "ped_item_state_id_households = households_df.groupby(['item_id','state_id']).apply(calculate_ped)\n",
    "print(ped_item_state_id_households)"
   ]
  },
  {
   "cell_type": "code",
   "execution_count": 197,
   "id": "545b87ae",
   "metadata": {},
   "outputs": [],
   "source": [
    "ped_item_id_households = ped_item_id_households.to_frame().reset_index()\n",
    "ped_item_store_id_households = ped_item_store_id_households.to_frame().reset_index()\n",
    "ped_item_state_id_households = ped_item_state_id_households.to_frame().reset_index().reset_index()"
   ]
  },
  {
   "cell_type": "code",
   "execution_count": 198,
   "id": "3df5393c",
   "metadata": {},
   "outputs": [],
   "source": [
    "ped_item_store_id_households['state_id'] = ped_item_store_id_households['store_id'].str[:2]"
   ]
  },
  {
   "cell_type": "code",
   "execution_count": 199,
   "id": "38f0558a",
   "metadata": {},
   "outputs": [],
   "source": [
    "a_households = ped_item_id_households.merge(ped_item_state_id_households,left_on ='item_id',right_on = 'item_id')\n",
    "b_households = a_households.merge(ped_item_store_id_households,left_on =['item_id','state_id'],right_on = ['item_id','state_id'])"
   ]
  },
  {
   "cell_type": "code",
   "execution_count": 201,
   "id": "5d97d7c9",
   "metadata": {},
   "outputs": [],
   "source": [
    "b_households.to_csv('households_ped.csv')"
   ]
  },
  {
   "cell_type": "code",
   "execution_count": null,
   "id": "8a383379",
   "metadata": {},
   "outputs": [],
   "source": []
  }
 ],
 "metadata": {
  "kernelspec": {
   "display_name": "Python 3 (ipykernel)",
   "language": "python",
   "name": "python3"
  },
  "language_info": {
   "codemirror_mode": {
    "name": "ipython",
    "version": 3
   },
   "file_extension": ".py",
   "mimetype": "text/x-python",
   "name": "python",
   "nbconvert_exporter": "python",
   "pygments_lexer": "ipython3",
   "version": "3.9.7"
  }
 },
 "nbformat": 4,
 "nbformat_minor": 5
}
