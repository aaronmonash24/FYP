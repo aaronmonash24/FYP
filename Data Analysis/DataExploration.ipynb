{
 "cells": [
  {
   "cell_type": "markdown",
   "id": "f67f291d",
   "metadata": {},
   "source": [
    "# Data Exploration"
   ]
  },
  {
   "cell_type": "markdown",
   "id": "6e6b1ea0",
   "metadata": {},
   "source": [
    "### Initial Data Exploration"
   ]
  },
  {
   "cell_type": "markdown",
   "id": "81c47d8c",
   "metadata": {},
   "source": [
    "The given zip file consists of 5 csv files,which are calendar.csv, sales_train_validation.csv, sample_submission.csv, sell_prices.csv and sales_train_evaluation.csv. Below we will explore all the files to understand what the files contains and the relationship between each files and elements.\n"
   ]
  },
  {
   "cell_type": "code",
   "execution_count": 3,
   "id": "5b3b1296",
   "metadata": {},
   "outputs": [],
   "source": [
    "import pandas as pd\n",
    "import seaborn as sns\n",
    "import matplotlib.pyplot as plt\n",
    "import numpy as np"
   ]
  },
  {
   "cell_type": "code",
   "execution_count": 18,
   "id": "53120cd1",
   "metadata": {},
   "outputs": [],
   "source": [
    "sales_train_evaluation = pd.read_csv('sales_train_evaluation.csv')"
   ]
  },
  {
   "cell_type": "code",
   "execution_count": 19,
   "id": "0e64f496",
   "metadata": {},
   "outputs": [],
   "source": [
    "selling_price = pd.read_csv('sell_prices.csv')"
   ]
  },
  {
   "cell_type": "code",
   "execution_count": 20,
   "id": "f3577342",
   "metadata": {},
   "outputs": [],
   "source": [
    "calendar = pd.read_csv('calendar.csv')"
   ]
  },
  {
   "cell_type": "code",
   "execution_count": 22,
   "id": "74eedd8a",
   "metadata": {},
   "outputs": [],
   "source": [
    "sales_train_validation = pd.read_csv('sales_train_validation.csv')"
   ]
  },
  {
   "cell_type": "markdown",
   "id": "b9b52214",
   "metadata": {},
   "source": [
    "#### Explore sales_train_evaluation.csv"
   ]
  },
  {
   "cell_type": "code",
   "execution_count": 10,
   "id": "05bfaa92",
   "metadata": {},
   "outputs": [],
   "source": [
    "sales_train_evaluation = pd.read_csv('sales_train_evaluation.csv')"
   ]
  },
  {
   "cell_type": "code",
   "execution_count": 3,
   "id": "0d9d5a8d",
   "metadata": {},
   "outputs": [
    {
     "data": {
      "text/plain": [
       "id          object\n",
       "item_id     object\n",
       "dept_id     object\n",
       "cat_id      object\n",
       "store_id    object\n",
       "             ...  \n",
       "d_1937       int64\n",
       "d_1938       int64\n",
       "d_1939       int64\n",
       "d_1940       int64\n",
       "d_1941       int64\n",
       "Length: 1947, dtype: object"
      ]
     },
     "execution_count": 3,
     "metadata": {},
     "output_type": "execute_result"
    }
   ],
   "source": [
    "sales_train_evaluation.dtypes"
   ]
  },
  {
   "cell_type": "code",
   "execution_count": 4,
   "id": "8931e5e2",
   "metadata": {},
   "outputs": [
    {
     "data": {
      "text/html": [
       "<div>\n",
       "<style scoped>\n",
       "    .dataframe tbody tr th:only-of-type {\n",
       "        vertical-align: middle;\n",
       "    }\n",
       "\n",
       "    .dataframe tbody tr th {\n",
       "        vertical-align: top;\n",
       "    }\n",
       "\n",
       "    .dataframe thead th {\n",
       "        text-align: right;\n",
       "    }\n",
       "</style>\n",
       "<table border=\"1\" class=\"dataframe\">\n",
       "  <thead>\n",
       "    <tr style=\"text-align: right;\">\n",
       "      <th></th>\n",
       "      <th>id</th>\n",
       "      <th>item_id</th>\n",
       "      <th>dept_id</th>\n",
       "      <th>cat_id</th>\n",
       "      <th>store_id</th>\n",
       "      <th>state_id</th>\n",
       "      <th>d_1</th>\n",
       "      <th>d_2</th>\n",
       "      <th>d_3</th>\n",
       "      <th>d_4</th>\n",
       "      <th>...</th>\n",
       "      <th>d_1932</th>\n",
       "      <th>d_1933</th>\n",
       "      <th>d_1934</th>\n",
       "      <th>d_1935</th>\n",
       "      <th>d_1936</th>\n",
       "      <th>d_1937</th>\n",
       "      <th>d_1938</th>\n",
       "      <th>d_1939</th>\n",
       "      <th>d_1940</th>\n",
       "      <th>d_1941</th>\n",
       "    </tr>\n",
       "  </thead>\n",
       "  <tbody>\n",
       "    <tr>\n",
       "      <th>0</th>\n",
       "      <td>HOBBIES_1_001_CA_1_evaluation</td>\n",
       "      <td>HOBBIES_1_001</td>\n",
       "      <td>HOBBIES_1</td>\n",
       "      <td>HOBBIES</td>\n",
       "      <td>CA_1</td>\n",
       "      <td>CA</td>\n",
       "      <td>0</td>\n",
       "      <td>0</td>\n",
       "      <td>0</td>\n",
       "      <td>0</td>\n",
       "      <td>...</td>\n",
       "      <td>2</td>\n",
       "      <td>4</td>\n",
       "      <td>0</td>\n",
       "      <td>0</td>\n",
       "      <td>0</td>\n",
       "      <td>0</td>\n",
       "      <td>3</td>\n",
       "      <td>3</td>\n",
       "      <td>0</td>\n",
       "      <td>1</td>\n",
       "    </tr>\n",
       "    <tr>\n",
       "      <th>1</th>\n",
       "      <td>HOBBIES_1_002_CA_1_evaluation</td>\n",
       "      <td>HOBBIES_1_002</td>\n",
       "      <td>HOBBIES_1</td>\n",
       "      <td>HOBBIES</td>\n",
       "      <td>CA_1</td>\n",
       "      <td>CA</td>\n",
       "      <td>0</td>\n",
       "      <td>0</td>\n",
       "      <td>0</td>\n",
       "      <td>0</td>\n",
       "      <td>...</td>\n",
       "      <td>0</td>\n",
       "      <td>1</td>\n",
       "      <td>2</td>\n",
       "      <td>1</td>\n",
       "      <td>1</td>\n",
       "      <td>0</td>\n",
       "      <td>0</td>\n",
       "      <td>0</td>\n",
       "      <td>0</td>\n",
       "      <td>0</td>\n",
       "    </tr>\n",
       "    <tr>\n",
       "      <th>2</th>\n",
       "      <td>HOBBIES_1_003_CA_1_evaluation</td>\n",
       "      <td>HOBBIES_1_003</td>\n",
       "      <td>HOBBIES_1</td>\n",
       "      <td>HOBBIES</td>\n",
       "      <td>CA_1</td>\n",
       "      <td>CA</td>\n",
       "      <td>0</td>\n",
       "      <td>0</td>\n",
       "      <td>0</td>\n",
       "      <td>0</td>\n",
       "      <td>...</td>\n",
       "      <td>1</td>\n",
       "      <td>0</td>\n",
       "      <td>2</td>\n",
       "      <td>0</td>\n",
       "      <td>0</td>\n",
       "      <td>0</td>\n",
       "      <td>2</td>\n",
       "      <td>3</td>\n",
       "      <td>0</td>\n",
       "      <td>1</td>\n",
       "    </tr>\n",
       "    <tr>\n",
       "      <th>3</th>\n",
       "      <td>HOBBIES_1_004_CA_1_evaluation</td>\n",
       "      <td>HOBBIES_1_004</td>\n",
       "      <td>HOBBIES_1</td>\n",
       "      <td>HOBBIES</td>\n",
       "      <td>CA_1</td>\n",
       "      <td>CA</td>\n",
       "      <td>0</td>\n",
       "      <td>0</td>\n",
       "      <td>0</td>\n",
       "      <td>0</td>\n",
       "      <td>...</td>\n",
       "      <td>1</td>\n",
       "      <td>1</td>\n",
       "      <td>0</td>\n",
       "      <td>4</td>\n",
       "      <td>0</td>\n",
       "      <td>1</td>\n",
       "      <td>3</td>\n",
       "      <td>0</td>\n",
       "      <td>2</td>\n",
       "      <td>6</td>\n",
       "    </tr>\n",
       "    <tr>\n",
       "      <th>4</th>\n",
       "      <td>HOBBIES_1_005_CA_1_evaluation</td>\n",
       "      <td>HOBBIES_1_005</td>\n",
       "      <td>HOBBIES_1</td>\n",
       "      <td>HOBBIES</td>\n",
       "      <td>CA_1</td>\n",
       "      <td>CA</td>\n",
       "      <td>0</td>\n",
       "      <td>0</td>\n",
       "      <td>0</td>\n",
       "      <td>0</td>\n",
       "      <td>...</td>\n",
       "      <td>0</td>\n",
       "      <td>0</td>\n",
       "      <td>0</td>\n",
       "      <td>2</td>\n",
       "      <td>1</td>\n",
       "      <td>0</td>\n",
       "      <td>0</td>\n",
       "      <td>2</td>\n",
       "      <td>1</td>\n",
       "      <td>0</td>\n",
       "    </tr>\n",
       "  </tbody>\n",
       "</table>\n",
       "<p>5 rows × 1947 columns</p>\n",
       "</div>"
      ],
      "text/plain": [
       "                              id        item_id    dept_id   cat_id store_id  \\\n",
       "0  HOBBIES_1_001_CA_1_evaluation  HOBBIES_1_001  HOBBIES_1  HOBBIES     CA_1   \n",
       "1  HOBBIES_1_002_CA_1_evaluation  HOBBIES_1_002  HOBBIES_1  HOBBIES     CA_1   \n",
       "2  HOBBIES_1_003_CA_1_evaluation  HOBBIES_1_003  HOBBIES_1  HOBBIES     CA_1   \n",
       "3  HOBBIES_1_004_CA_1_evaluation  HOBBIES_1_004  HOBBIES_1  HOBBIES     CA_1   \n",
       "4  HOBBIES_1_005_CA_1_evaluation  HOBBIES_1_005  HOBBIES_1  HOBBIES     CA_1   \n",
       "\n",
       "  state_id  d_1  d_2  d_3  d_4  ...  d_1932  d_1933  d_1934  d_1935  d_1936  \\\n",
       "0       CA    0    0    0    0  ...       2       4       0       0       0   \n",
       "1       CA    0    0    0    0  ...       0       1       2       1       1   \n",
       "2       CA    0    0    0    0  ...       1       0       2       0       0   \n",
       "3       CA    0    0    0    0  ...       1       1       0       4       0   \n",
       "4       CA    0    0    0    0  ...       0       0       0       2       1   \n",
       "\n",
       "   d_1937  d_1938  d_1939  d_1940  d_1941  \n",
       "0       0       3       3       0       1  \n",
       "1       0       0       0       0       0  \n",
       "2       0       2       3       0       1  \n",
       "3       1       3       0       2       6  \n",
       "4       0       0       2       1       0  \n",
       "\n",
       "[5 rows x 1947 columns]"
      ]
     },
     "execution_count": 4,
     "metadata": {},
     "output_type": "execute_result"
    }
   ],
   "source": [
    "sales_train_evaluation.head()"
   ]
  },
  {
   "cell_type": "code",
   "execution_count": 5,
   "id": "a8140096",
   "metadata": {},
   "outputs": [
    {
     "name": "stdout",
     "output_type": "stream",
     "text": [
      "<class 'pandas.core.frame.DataFrame'>\n",
      "RangeIndex: 30490 entries, 0 to 30489\n",
      "Columns: 1947 entries, id to d_1941\n",
      "dtypes: int64(1941), object(6)\n",
      "memory usage: 452.9+ MB\n"
     ]
    }
   ],
   "source": [
    "sales_train_evaluation.info()"
   ]
  },
  {
   "cell_type": "markdown",
   "id": "38f15c25",
   "metadata": {},
   "source": [
    "#### Explore sales_train_validation.csv"
   ]
  },
  {
   "cell_type": "code",
   "execution_count": 4,
   "id": "9d829b4b",
   "metadata": {},
   "outputs": [],
   "source": [
    "sales_train_validation = pd.read_csv('sales_train_validation.csv')"
   ]
  },
  {
   "cell_type": "code",
   "execution_count": 8,
   "id": "a79fce1d",
   "metadata": {},
   "outputs": [
    {
     "data": {
      "text/plain": [
       "id          object\n",
       "item_id     object\n",
       "dept_id     object\n",
       "cat_id      object\n",
       "store_id    object\n",
       "             ...  \n",
       "d_1909       int64\n",
       "d_1910       int64\n",
       "d_1911       int64\n",
       "d_1912       int64\n",
       "d_1913       int64\n",
       "Length: 1919, dtype: object"
      ]
     },
     "execution_count": 8,
     "metadata": {},
     "output_type": "execute_result"
    }
   ],
   "source": [
    "sales_train_validation.dtypes"
   ]
  },
  {
   "cell_type": "code",
   "execution_count": 9,
   "id": "9c8c00a6",
   "metadata": {},
   "outputs": [
    {
     "data": {
      "text/html": [
       "<div>\n",
       "<style scoped>\n",
       "    .dataframe tbody tr th:only-of-type {\n",
       "        vertical-align: middle;\n",
       "    }\n",
       "\n",
       "    .dataframe tbody tr th {\n",
       "        vertical-align: top;\n",
       "    }\n",
       "\n",
       "    .dataframe thead th {\n",
       "        text-align: right;\n",
       "    }\n",
       "</style>\n",
       "<table border=\"1\" class=\"dataframe\">\n",
       "  <thead>\n",
       "    <tr style=\"text-align: right;\">\n",
       "      <th></th>\n",
       "      <th>id</th>\n",
       "      <th>item_id</th>\n",
       "      <th>dept_id</th>\n",
       "      <th>cat_id</th>\n",
       "      <th>store_id</th>\n",
       "      <th>state_id</th>\n",
       "      <th>d_1</th>\n",
       "      <th>d_2</th>\n",
       "      <th>d_3</th>\n",
       "      <th>d_4</th>\n",
       "      <th>...</th>\n",
       "      <th>d_1904</th>\n",
       "      <th>d_1905</th>\n",
       "      <th>d_1906</th>\n",
       "      <th>d_1907</th>\n",
       "      <th>d_1908</th>\n",
       "      <th>d_1909</th>\n",
       "      <th>d_1910</th>\n",
       "      <th>d_1911</th>\n",
       "      <th>d_1912</th>\n",
       "      <th>d_1913</th>\n",
       "    </tr>\n",
       "  </thead>\n",
       "  <tbody>\n",
       "    <tr>\n",
       "      <th>0</th>\n",
       "      <td>HOBBIES_1_001_CA_1_validation</td>\n",
       "      <td>HOBBIES_1_001</td>\n",
       "      <td>HOBBIES_1</td>\n",
       "      <td>HOBBIES</td>\n",
       "      <td>CA_1</td>\n",
       "      <td>CA</td>\n",
       "      <td>0</td>\n",
       "      <td>0</td>\n",
       "      <td>0</td>\n",
       "      <td>0</td>\n",
       "      <td>...</td>\n",
       "      <td>1</td>\n",
       "      <td>3</td>\n",
       "      <td>0</td>\n",
       "      <td>1</td>\n",
       "      <td>1</td>\n",
       "      <td>1</td>\n",
       "      <td>3</td>\n",
       "      <td>0</td>\n",
       "      <td>1</td>\n",
       "      <td>1</td>\n",
       "    </tr>\n",
       "    <tr>\n",
       "      <th>1</th>\n",
       "      <td>HOBBIES_1_002_CA_1_validation</td>\n",
       "      <td>HOBBIES_1_002</td>\n",
       "      <td>HOBBIES_1</td>\n",
       "      <td>HOBBIES</td>\n",
       "      <td>CA_1</td>\n",
       "      <td>CA</td>\n",
       "      <td>0</td>\n",
       "      <td>0</td>\n",
       "      <td>0</td>\n",
       "      <td>0</td>\n",
       "      <td>...</td>\n",
       "      <td>0</td>\n",
       "      <td>0</td>\n",
       "      <td>0</td>\n",
       "      <td>0</td>\n",
       "      <td>0</td>\n",
       "      <td>1</td>\n",
       "      <td>0</td>\n",
       "      <td>0</td>\n",
       "      <td>0</td>\n",
       "      <td>0</td>\n",
       "    </tr>\n",
       "    <tr>\n",
       "      <th>2</th>\n",
       "      <td>HOBBIES_1_003_CA_1_validation</td>\n",
       "      <td>HOBBIES_1_003</td>\n",
       "      <td>HOBBIES_1</td>\n",
       "      <td>HOBBIES</td>\n",
       "      <td>CA_1</td>\n",
       "      <td>CA</td>\n",
       "      <td>0</td>\n",
       "      <td>0</td>\n",
       "      <td>0</td>\n",
       "      <td>0</td>\n",
       "      <td>...</td>\n",
       "      <td>2</td>\n",
       "      <td>1</td>\n",
       "      <td>2</td>\n",
       "      <td>1</td>\n",
       "      <td>1</td>\n",
       "      <td>1</td>\n",
       "      <td>0</td>\n",
       "      <td>1</td>\n",
       "      <td>1</td>\n",
       "      <td>1</td>\n",
       "    </tr>\n",
       "    <tr>\n",
       "      <th>3</th>\n",
       "      <td>HOBBIES_1_004_CA_1_validation</td>\n",
       "      <td>HOBBIES_1_004</td>\n",
       "      <td>HOBBIES_1</td>\n",
       "      <td>HOBBIES</td>\n",
       "      <td>CA_1</td>\n",
       "      <td>CA</td>\n",
       "      <td>0</td>\n",
       "      <td>0</td>\n",
       "      <td>0</td>\n",
       "      <td>0</td>\n",
       "      <td>...</td>\n",
       "      <td>1</td>\n",
       "      <td>0</td>\n",
       "      <td>5</td>\n",
       "      <td>4</td>\n",
       "      <td>1</td>\n",
       "      <td>0</td>\n",
       "      <td>1</td>\n",
       "      <td>3</td>\n",
       "      <td>7</td>\n",
       "      <td>2</td>\n",
       "    </tr>\n",
       "    <tr>\n",
       "      <th>4</th>\n",
       "      <td>HOBBIES_1_005_CA_1_validation</td>\n",
       "      <td>HOBBIES_1_005</td>\n",
       "      <td>HOBBIES_1</td>\n",
       "      <td>HOBBIES</td>\n",
       "      <td>CA_1</td>\n",
       "      <td>CA</td>\n",
       "      <td>0</td>\n",
       "      <td>0</td>\n",
       "      <td>0</td>\n",
       "      <td>0</td>\n",
       "      <td>...</td>\n",
       "      <td>2</td>\n",
       "      <td>1</td>\n",
       "      <td>1</td>\n",
       "      <td>0</td>\n",
       "      <td>1</td>\n",
       "      <td>1</td>\n",
       "      <td>2</td>\n",
       "      <td>2</td>\n",
       "      <td>2</td>\n",
       "      <td>4</td>\n",
       "    </tr>\n",
       "  </tbody>\n",
       "</table>\n",
       "<p>5 rows × 1919 columns</p>\n",
       "</div>"
      ],
      "text/plain": [
       "                              id        item_id    dept_id   cat_id store_id  \\\n",
       "0  HOBBIES_1_001_CA_1_validation  HOBBIES_1_001  HOBBIES_1  HOBBIES     CA_1   \n",
       "1  HOBBIES_1_002_CA_1_validation  HOBBIES_1_002  HOBBIES_1  HOBBIES     CA_1   \n",
       "2  HOBBIES_1_003_CA_1_validation  HOBBIES_1_003  HOBBIES_1  HOBBIES     CA_1   \n",
       "3  HOBBIES_1_004_CA_1_validation  HOBBIES_1_004  HOBBIES_1  HOBBIES     CA_1   \n",
       "4  HOBBIES_1_005_CA_1_validation  HOBBIES_1_005  HOBBIES_1  HOBBIES     CA_1   \n",
       "\n",
       "  state_id  d_1  d_2  d_3  d_4  ...  d_1904  d_1905  d_1906  d_1907  d_1908  \\\n",
       "0       CA    0    0    0    0  ...       1       3       0       1       1   \n",
       "1       CA    0    0    0    0  ...       0       0       0       0       0   \n",
       "2       CA    0    0    0    0  ...       2       1       2       1       1   \n",
       "3       CA    0    0    0    0  ...       1       0       5       4       1   \n",
       "4       CA    0    0    0    0  ...       2       1       1       0       1   \n",
       "\n",
       "   d_1909  d_1910  d_1911  d_1912  d_1913  \n",
       "0       1       3       0       1       1  \n",
       "1       1       0       0       0       0  \n",
       "2       1       0       1       1       1  \n",
       "3       0       1       3       7       2  \n",
       "4       1       2       2       2       4  \n",
       "\n",
       "[5 rows x 1919 columns]"
      ]
     },
     "execution_count": 9,
     "metadata": {},
     "output_type": "execute_result"
    }
   ],
   "source": [
    "sales_train_validation.head()"
   ]
  },
  {
   "cell_type": "code",
   "execution_count": 344,
   "id": "64399e2c",
   "metadata": {},
   "outputs": [
    {
     "data": {
      "text/html": [
       "<div>\n",
       "<style scoped>\n",
       "    .dataframe tbody tr th:only-of-type {\n",
       "        vertical-align: middle;\n",
       "    }\n",
       "\n",
       "    .dataframe tbody tr th {\n",
       "        vertical-align: top;\n",
       "    }\n",
       "\n",
       "    .dataframe thead th {\n",
       "        text-align: right;\n",
       "    }\n",
       "</style>\n",
       "<table border=\"1\" class=\"dataframe\">\n",
       "  <thead>\n",
       "    <tr style=\"text-align: right;\">\n",
       "      <th></th>\n",
       "      <th>id</th>\n",
       "      <th>item_id</th>\n",
       "      <th>dept_id</th>\n",
       "      <th>cat_id</th>\n",
       "      <th>store_id</th>\n",
       "      <th>state_id</th>\n",
       "      <th>d_1</th>\n",
       "      <th>d_2</th>\n",
       "      <th>d_3</th>\n",
       "      <th>d_4</th>\n",
       "      <th>...</th>\n",
       "      <th>d_1904</th>\n",
       "      <th>d_1905</th>\n",
       "      <th>d_1906</th>\n",
       "      <th>d_1907</th>\n",
       "      <th>d_1908</th>\n",
       "      <th>d_1909</th>\n",
       "      <th>d_1910</th>\n",
       "      <th>d_1911</th>\n",
       "      <th>d_1912</th>\n",
       "      <th>d_1913</th>\n",
       "    </tr>\n",
       "  </thead>\n",
       "  <tbody>\n",
       "    <tr>\n",
       "      <th>30485</th>\n",
       "      <td>FOODS_3_823_WI_3_validation</td>\n",
       "      <td>FOODS_3_823</td>\n",
       "      <td>FOODS_3</td>\n",
       "      <td>FOODS</td>\n",
       "      <td>WI_3</td>\n",
       "      <td>WI</td>\n",
       "      <td>0</td>\n",
       "      <td>0</td>\n",
       "      <td>2</td>\n",
       "      <td>2</td>\n",
       "      <td>...</td>\n",
       "      <td>2</td>\n",
       "      <td>0</td>\n",
       "      <td>0</td>\n",
       "      <td>0</td>\n",
       "      <td>0</td>\n",
       "      <td>0</td>\n",
       "      <td>1</td>\n",
       "      <td>0</td>\n",
       "      <td>0</td>\n",
       "      <td>1</td>\n",
       "    </tr>\n",
       "    <tr>\n",
       "      <th>30486</th>\n",
       "      <td>FOODS_3_824_WI_3_validation</td>\n",
       "      <td>FOODS_3_824</td>\n",
       "      <td>FOODS_3</td>\n",
       "      <td>FOODS</td>\n",
       "      <td>WI_3</td>\n",
       "      <td>WI</td>\n",
       "      <td>0</td>\n",
       "      <td>0</td>\n",
       "      <td>0</td>\n",
       "      <td>0</td>\n",
       "      <td>...</td>\n",
       "      <td>0</td>\n",
       "      <td>0</td>\n",
       "      <td>0</td>\n",
       "      <td>0</td>\n",
       "      <td>0</td>\n",
       "      <td>0</td>\n",
       "      <td>0</td>\n",
       "      <td>0</td>\n",
       "      <td>1</td>\n",
       "      <td>0</td>\n",
       "    </tr>\n",
       "    <tr>\n",
       "      <th>30487</th>\n",
       "      <td>FOODS_3_825_WI_3_validation</td>\n",
       "      <td>FOODS_3_825</td>\n",
       "      <td>FOODS_3</td>\n",
       "      <td>FOODS</td>\n",
       "      <td>WI_3</td>\n",
       "      <td>WI</td>\n",
       "      <td>0</td>\n",
       "      <td>6</td>\n",
       "      <td>0</td>\n",
       "      <td>2</td>\n",
       "      <td>...</td>\n",
       "      <td>2</td>\n",
       "      <td>1</td>\n",
       "      <td>0</td>\n",
       "      <td>2</td>\n",
       "      <td>0</td>\n",
       "      <td>1</td>\n",
       "      <td>0</td>\n",
       "      <td>0</td>\n",
       "      <td>1</td>\n",
       "      <td>0</td>\n",
       "    </tr>\n",
       "    <tr>\n",
       "      <th>30488</th>\n",
       "      <td>FOODS_3_826_WI_3_validation</td>\n",
       "      <td>FOODS_3_826</td>\n",
       "      <td>FOODS_3</td>\n",
       "      <td>FOODS</td>\n",
       "      <td>WI_3</td>\n",
       "      <td>WI</td>\n",
       "      <td>0</td>\n",
       "      <td>0</td>\n",
       "      <td>0</td>\n",
       "      <td>0</td>\n",
       "      <td>...</td>\n",
       "      <td>0</td>\n",
       "      <td>0</td>\n",
       "      <td>1</td>\n",
       "      <td>0</td>\n",
       "      <td>0</td>\n",
       "      <td>1</td>\n",
       "      <td>0</td>\n",
       "      <td>3</td>\n",
       "      <td>1</td>\n",
       "      <td>3</td>\n",
       "    </tr>\n",
       "    <tr>\n",
       "      <th>30489</th>\n",
       "      <td>FOODS_3_827_WI_3_validation</td>\n",
       "      <td>FOODS_3_827</td>\n",
       "      <td>FOODS_3</td>\n",
       "      <td>FOODS</td>\n",
       "      <td>WI_3</td>\n",
       "      <td>WI</td>\n",
       "      <td>0</td>\n",
       "      <td>0</td>\n",
       "      <td>0</td>\n",
       "      <td>0</td>\n",
       "      <td>...</td>\n",
       "      <td>0</td>\n",
       "      <td>0</td>\n",
       "      <td>0</td>\n",
       "      <td>0</td>\n",
       "      <td>0</td>\n",
       "      <td>0</td>\n",
       "      <td>0</td>\n",
       "      <td>0</td>\n",
       "      <td>0</td>\n",
       "      <td>0</td>\n",
       "    </tr>\n",
       "  </tbody>\n",
       "</table>\n",
       "<p>5 rows × 1919 columns</p>\n",
       "</div>"
      ],
      "text/plain": [
       "                                id      item_id  dept_id cat_id store_id  \\\n",
       "30485  FOODS_3_823_WI_3_validation  FOODS_3_823  FOODS_3  FOODS     WI_3   \n",
       "30486  FOODS_3_824_WI_3_validation  FOODS_3_824  FOODS_3  FOODS     WI_3   \n",
       "30487  FOODS_3_825_WI_3_validation  FOODS_3_825  FOODS_3  FOODS     WI_3   \n",
       "30488  FOODS_3_826_WI_3_validation  FOODS_3_826  FOODS_3  FOODS     WI_3   \n",
       "30489  FOODS_3_827_WI_3_validation  FOODS_3_827  FOODS_3  FOODS     WI_3   \n",
       "\n",
       "      state_id  d_1  d_2  d_3  d_4  ...  d_1904  d_1905  d_1906  d_1907  \\\n",
       "30485       WI    0    0    2    2  ...       2       0       0       0   \n",
       "30486       WI    0    0    0    0  ...       0       0       0       0   \n",
       "30487       WI    0    6    0    2  ...       2       1       0       2   \n",
       "30488       WI    0    0    0    0  ...       0       0       1       0   \n",
       "30489       WI    0    0    0    0  ...       0       0       0       0   \n",
       "\n",
       "       d_1908  d_1909  d_1910  d_1911  d_1912  d_1913  \n",
       "30485       0       0       1       0       0       1  \n",
       "30486       0       0       0       0       1       0  \n",
       "30487       0       1       0       0       1       0  \n",
       "30488       0       1       0       3       1       3  \n",
       "30489       0       0       0       0       0       0  \n",
       "\n",
       "[5 rows x 1919 columns]"
      ]
     },
     "execution_count": 344,
     "metadata": {},
     "output_type": "execute_result"
    }
   ],
   "source": [
    "sales_train_validation.tail()"
   ]
  },
  {
   "cell_type": "code",
   "execution_count": 10,
   "id": "d199554e",
   "metadata": {},
   "outputs": [
    {
     "name": "stdout",
     "output_type": "stream",
     "text": [
      "<class 'pandas.core.frame.DataFrame'>\n",
      "RangeIndex: 30490 entries, 0 to 30489\n",
      "Columns: 1919 entries, id to d_1913\n",
      "dtypes: int64(1913), object(6)\n",
      "memory usage: 446.4+ MB\n"
     ]
    }
   ],
   "source": [
    "sales_train_validation.info()"
   ]
  },
  {
   "cell_type": "markdown",
   "id": "7b31015f",
   "metadata": {},
   "source": [
    "#### Explore each columns."
   ]
  },
  {
   "cell_type": "code",
   "execution_count": 11,
   "id": "b9554b45",
   "metadata": {},
   "outputs": [
    {
     "data": {
      "text/plain": [
       "FOODS_3        8230\n",
       "HOUSEHOLD_1    5320\n",
       "HOUSEHOLD_2    5150\n",
       "HOBBIES_1      4160\n",
       "FOODS_2        3980\n",
       "FOODS_1        2160\n",
       "HOBBIES_2      1490\n",
       "Name: dept_id, dtype: int64"
      ]
     },
     "execution_count": 11,
     "metadata": {},
     "output_type": "execute_result"
    }
   ],
   "source": [
    "sales_train_validation['dept_id'].value_counts()"
   ]
  },
  {
   "cell_type": "code",
   "execution_count": 86,
   "id": "9104bbd5",
   "metadata": {},
   "outputs": [
    {
     "data": {
      "image/png": "[encoded data removed]",
      "text/plain": [
       "<Figure size 360x144 with 1 Axes>"
      ]
     },
     "metadata": {
      "needs_background": "light"
     },
     "output_type": "display_data"
    }
   ],
   "source": [
    "# To find which department has most items.\n",
    "# finding: Food_3 has most items\n",
    "sales_train_evaluation.groupby('dept_id').count()['id'].sort_values().plot(kind='bar', figsize=(5, 2), title='Count of Items in Each Department')\n",
    "plt.show()"
   ]
  },
  {
   "cell_type": "code",
   "execution_count": 12,
   "id": "0bb3d7b7",
   "metadata": {},
   "outputs": [
    {
     "data": {
      "text/plain": [
       "FOODS        14370\n",
       "HOUSEHOLD    10470\n",
       "HOBBIES       5650\n",
       "Name: cat_id, dtype: int64"
      ]
     },
     "execution_count": 12,
     "metadata": {},
     "output_type": "execute_result"
    }
   ],
   "source": [
    "sales_train_validation['cat_id'].value_counts()"
   ]
  },
  {
   "cell_type": "code",
   "execution_count": 83,
   "id": "83bca074",
   "metadata": {},
   "outputs": [
    {
     "data": {
      "image/png": "[encoded data removed]",
      "text/plain": [
       "<Figure size 360x144 with 1 Axes>"
      ]
     },
     "metadata": {
      "needs_background": "light"
     },
     "output_type": "display_data"
    }
   ],
   "source": [
    "# To find which category has highest items.\n",
    "# finding: Foods has most items.\n",
    "sales_train_evaluation.groupby('cat_id').count()['id'].sort_values().plot(kind='bar', figsize=(5, 2), title='Count of Items in Each Category')\n",
    "plt.xticks(rotation=0)\n",
    "plt.show()"
   ]
  },
  {
   "cell_type": "code",
   "execution_count": 14,
   "id": "36742be6",
   "metadata": {},
   "outputs": [
    {
     "data": {
      "text/plain": [
       "CA    12196\n",
       "TX     9147\n",
       "WI     9147\n",
       "Name: state_id, dtype: int64"
      ]
     },
     "execution_count": 14,
     "metadata": {},
     "output_type": "execute_result"
    }
   ],
   "source": [
    "sales_train_validation['state_id'].value_counts()"
   ]
  },
  {
   "cell_type": "code",
   "execution_count": 78,
   "id": "8dc6a4cf",
   "metadata": {},
   "outputs": [
    {
     "data": {
      "image/png": "[encoded data removed]",
      "text/plain": [
       "<Figure size 360x144 with 1 Axes>"
      ]
     },
     "metadata": {
      "needs_background": "light"
     },
     "output_type": "display_data"
    }
   ],
   "source": [
    "# To find which states has most items\n",
    "# finding: In total, CA has most items which make sense because CA has one more store than others. \n",
    "sales_train_evaluation.groupby('state_id').count()['id'].sort_values().plot(kind='bar', figsize=(5, 2), title='Count of Items in Each State')\n",
    "plt.show()"
   ]
  },
  {
   "cell_type": "code",
   "execution_count": 5,
   "id": "11289fa0",
   "metadata": {},
   "outputs": [
    {
     "data": {
      "text/plain": [
       "CA_1    3049\n",
       "CA_2    3049\n",
       "CA_3    3049\n",
       "CA_4    3049\n",
       "TX_1    3049\n",
       "TX_2    3049\n",
       "TX_3    3049\n",
       "WI_1    3049\n",
       "WI_2    3049\n",
       "WI_3    3049\n",
       "Name: store_id, dtype: int64"
      ]
     },
     "execution_count": 5,
     "metadata": {},
     "output_type": "execute_result"
    }
   ],
   "source": [
    "sales_train_validation['store_id'].value_counts()"
   ]
  },
  {
   "cell_type": "code",
   "execution_count": 82,
   "id": "c7f600a0",
   "metadata": {},
   "outputs": [
    {
     "data": {
      "image/png": "[encoded data removed]",
      "text/plain": [
       "<Figure size 504x288 with 1 Axes>"
      ]
     },
     "metadata": {
      "needs_background": "light"
     },
     "output_type": "display_data"
    }
   ],
   "source": [
    "# To find which store has most items.\n",
    "# finding: There are same items in each store.\n",
    "sales_train_evaluation.groupby('store_id').count()['id'].sort_values().plot(kind='bar', figsize=(7, 4), title='Count of Items in Each Store')\n",
    "plt.show()"
   ]
  },
  {
   "cell_type": "code",
   "execution_count": 6,
   "id": "d66fcea0",
   "metadata": {},
   "outputs": [],
   "source": [
    "# which item has the most/least SALES in this 5 years\n",
    "# which states/store/ dept has the most/leaast SALES \n"
   ]
  },
  {
   "cell_type": "markdown",
   "id": "32e3dd28",
   "metadata": {},
   "source": [
    "# Selling Price"
   ]
  },
  {
   "cell_type": "code",
   "execution_count": 7,
   "id": "7e43f59f",
   "metadata": {},
   "outputs": [],
   "source": [
    "selling_price = pd.read_csv('sell_prices.csv')"
   ]
  },
  {
   "cell_type": "code",
   "execution_count": 5,
   "id": "3b72adf6",
   "metadata": {},
   "outputs": [
    {
     "data": {
      "text/html": [
       "<div>\n",
       "<style scoped>\n",
       "    .dataframe tbody tr th:only-of-type {\n",
       "        vertical-align: middle;\n",
       "    }\n",
       "\n",
       "    .dataframe tbody tr th {\n",
       "        vertical-align: top;\n",
       "    }\n",
       "\n",
       "    .dataframe thead th {\n",
       "        text-align: right;\n",
       "    }\n",
       "</style>\n",
       "<table border=\"1\" class=\"dataframe\">\n",
       "  <thead>\n",
       "    <tr style=\"text-align: right;\">\n",
       "      <th></th>\n",
       "      <th>store_id</th>\n",
       "      <th>item_id</th>\n",
       "      <th>wm_yr_wk</th>\n",
       "      <th>sell_price</th>\n",
       "    </tr>\n",
       "  </thead>\n",
       "  <tbody>\n",
       "    <tr>\n",
       "      <th>0</th>\n",
       "      <td>CA_1</td>\n",
       "      <td>HOBBIES_1_001</td>\n",
       "      <td>11325</td>\n",
       "      <td>9.58</td>\n",
       "    </tr>\n",
       "    <tr>\n",
       "      <th>1</th>\n",
       "      <td>CA_1</td>\n",
       "      <td>HOBBIES_1_001</td>\n",
       "      <td>11326</td>\n",
       "      <td>9.58</td>\n",
       "    </tr>\n",
       "    <tr>\n",
       "      <th>2</th>\n",
       "      <td>CA_1</td>\n",
       "      <td>HOBBIES_1_001</td>\n",
       "      <td>11327</td>\n",
       "      <td>8.26</td>\n",
       "    </tr>\n",
       "    <tr>\n",
       "      <th>3</th>\n",
       "      <td>CA_1</td>\n",
       "      <td>HOBBIES_1_001</td>\n",
       "      <td>11328</td>\n",
       "      <td>8.26</td>\n",
       "    </tr>\n",
       "    <tr>\n",
       "      <th>4</th>\n",
       "      <td>CA_1</td>\n",
       "      <td>HOBBIES_1_001</td>\n",
       "      <td>11329</td>\n",
       "      <td>8.26</td>\n",
       "    </tr>\n",
       "  </tbody>\n",
       "</table>\n",
       "</div>"
      ],
      "text/plain": [
       "  store_id        item_id  wm_yr_wk  sell_price\n",
       "0     CA_1  HOBBIES_1_001     11325        9.58\n",
       "1     CA_1  HOBBIES_1_001     11326        9.58\n",
       "2     CA_1  HOBBIES_1_001     11327        8.26\n",
       "3     CA_1  HOBBIES_1_001     11328        8.26\n",
       "4     CA_1  HOBBIES_1_001     11329        8.26"
      ]
     },
     "execution_count": 5,
     "metadata": {},
     "output_type": "execute_result"
    }
   ],
   "source": [
    "selling_price.head()"
   ]
  },
  {
   "cell_type": "code",
   "execution_count": 13,
   "id": "d949f15e",
   "metadata": {},
   "outputs": [
    {
     "name": "stdout",
     "output_type": "stream",
     "text": [
      "<class 'pandas.core.frame.DataFrame'>\n",
      "RangeIndex: 6841121 entries, 0 to 6841120\n",
      "Data columns (total 4 columns):\n",
      " #   Column      Dtype  \n",
      "---  ------      -----  \n",
      " 0   store_id    object \n",
      " 1   item_id     object \n",
      " 2   wm_yr_wk    int64  \n",
      " 3   sell_price  float64\n",
      "dtypes: float64(1), int64(1), object(2)\n",
      "memory usage: 208.8+ MB\n"
     ]
    }
   ],
   "source": [
    "selling_price.info()"
   ]
  },
  {
   "cell_type": "code",
   "execution_count": 14,
   "id": "64d55bd9",
   "metadata": {},
   "outputs": [
    {
     "data": {
      "text/plain": [
       "array(['CA_1', 'CA_2', 'CA_3', 'CA_4', 'TX_1', 'TX_2', 'TX_3', 'WI_1',\n",
       "       'WI_2', 'WI_3'], dtype=object)"
      ]
     },
     "execution_count": 14,
     "metadata": {},
     "output_type": "execute_result"
    }
   ],
   "source": [
    "selling_price['store_id'].unique()"
   ]
  },
  {
   "cell_type": "code",
   "execution_count": 14,
   "id": "4085f981",
   "metadata": {},
   "outputs": [
    {
     "data": {
      "text/html": [
       "<div>\n",
       "<style scoped>\n",
       "    .dataframe tbody tr th:only-of-type {\n",
       "        vertical-align: middle;\n",
       "    }\n",
       "\n",
       "    .dataframe tbody tr th {\n",
       "        vertical-align: top;\n",
       "    }\n",
       "\n",
       "    .dataframe thead th {\n",
       "        text-align: right;\n",
       "    }\n",
       "</style>\n",
       "<table border=\"1\" class=\"dataframe\">\n",
       "  <thead>\n",
       "    <tr style=\"text-align: right;\">\n",
       "      <th></th>\n",
       "      <th>store_id</th>\n",
       "      <th>item_id</th>\n",
       "      <th>wm_yr_wk</th>\n",
       "      <th>sell_price</th>\n",
       "    </tr>\n",
       "  </thead>\n",
       "  <tbody>\n",
       "    <tr>\n",
       "      <th>225727</th>\n",
       "      <td>CA_1</td>\n",
       "      <td>HOUSEHOLD_1_443</td>\n",
       "      <td>11442</td>\n",
       "      <td>0.01</td>\n",
       "    </tr>\n",
       "    <tr>\n",
       "      <th>1394085</th>\n",
       "      <td>CA_3</td>\n",
       "      <td>HOBBIES_1_261</td>\n",
       "      <td>11332</td>\n",
       "      <td>0.01</td>\n",
       "    </tr>\n",
       "    <tr>\n",
       "      <th>1394086</th>\n",
       "      <td>CA_3</td>\n",
       "      <td>HOBBIES_1_261</td>\n",
       "      <td>11333</td>\n",
       "      <td>0.01</td>\n",
       "    </tr>\n",
       "    <tr>\n",
       "      <th>1394087</th>\n",
       "      <td>CA_3</td>\n",
       "      <td>HOBBIES_1_261</td>\n",
       "      <td>11334</td>\n",
       "      <td>0.01</td>\n",
       "    </tr>\n",
       "    <tr>\n",
       "      <th>2617306</th>\n",
       "      <td>CA_4</td>\n",
       "      <td>FOODS_3_413</td>\n",
       "      <td>11148</td>\n",
       "      <td>0.01</td>\n",
       "    </tr>\n",
       "    <tr>\n",
       "      <th>4877375</th>\n",
       "      <td>WI_1</td>\n",
       "      <td>HOBBIES_1_338</td>\n",
       "      <td>11342</td>\n",
       "      <td>0.01</td>\n",
       "    </tr>\n",
       "    <tr>\n",
       "      <th>4877376</th>\n",
       "      <td>WI_1</td>\n",
       "      <td>HOBBIES_1_338</td>\n",
       "      <td>11343</td>\n",
       "      <td>0.01</td>\n",
       "    </tr>\n",
       "    <tr>\n",
       "      <th>5044267</th>\n",
       "      <td>WI_1</td>\n",
       "      <td>HOUSEHOLD_1_533</td>\n",
       "      <td>11408</td>\n",
       "      <td>0.01</td>\n",
       "    </tr>\n",
       "    <tr>\n",
       "      <th>5316537</th>\n",
       "      <td>WI_1</td>\n",
       "      <td>FOODS_3_122</td>\n",
       "      <td>11425</td>\n",
       "      <td>0.01</td>\n",
       "    </tr>\n",
       "    <tr>\n",
       "      <th>6282347</th>\n",
       "      <td>WI_3</td>\n",
       "      <td>HOUSEHOLD_1_036</td>\n",
       "      <td>11442</td>\n",
       "      <td>0.01</td>\n",
       "    </tr>\n",
       "    <tr>\n",
       "      <th>6282348</th>\n",
       "      <td>WI_3</td>\n",
       "      <td>HOUSEHOLD_1_036</td>\n",
       "      <td>11443</td>\n",
       "      <td>0.01</td>\n",
       "    </tr>\n",
       "    <tr>\n",
       "      <th>6282349</th>\n",
       "      <td>WI_3</td>\n",
       "      <td>HOUSEHOLD_1_036</td>\n",
       "      <td>11444</td>\n",
       "      <td>0.01</td>\n",
       "    </tr>\n",
       "  </tbody>\n",
       "</table>\n",
       "</div>"
      ],
      "text/plain": [
       "        store_id          item_id  wm_yr_wk  sell_price\n",
       "225727      CA_1  HOUSEHOLD_1_443     11442        0.01\n",
       "1394085     CA_3    HOBBIES_1_261     11332        0.01\n",
       "1394086     CA_3    HOBBIES_1_261     11333        0.01\n",
       "1394087     CA_3    HOBBIES_1_261     11334        0.01\n",
       "2617306     CA_4      FOODS_3_413     11148        0.01\n",
       "4877375     WI_1    HOBBIES_1_338     11342        0.01\n",
       "4877376     WI_1    HOBBIES_1_338     11343        0.01\n",
       "5044267     WI_1  HOUSEHOLD_1_533     11408        0.01\n",
       "5316537     WI_1      FOODS_3_122     11425        0.01\n",
       "6282347     WI_3  HOUSEHOLD_1_036     11442        0.01\n",
       "6282348     WI_3  HOUSEHOLD_1_036     11443        0.01\n",
       "6282349     WI_3  HOUSEHOLD_1_036     11444        0.01"
      ]
     },
     "execution_count": 14,
     "metadata": {},
     "output_type": "execute_result"
    }
   ],
   "source": [
    "min_item =selling_price[selling_price['sell_price'] == (selling_price['sell_price'].min())]\n",
    "min_item"
   ]
  },
  {
   "cell_type": "code",
   "execution_count": 15,
   "id": "05383f58",
   "metadata": {},
   "outputs": [
    {
     "data": {
      "text/html": [
       "<div>\n",
       "<style scoped>\n",
       "    .dataframe tbody tr th:only-of-type {\n",
       "        vertical-align: middle;\n",
       "    }\n",
       "\n",
       "    .dataframe tbody tr th {\n",
       "        vertical-align: top;\n",
       "    }\n",
       "\n",
       "    .dataframe thead th {\n",
       "        text-align: right;\n",
       "    }\n",
       "</style>\n",
       "<table border=\"1\" class=\"dataframe\">\n",
       "  <thead>\n",
       "    <tr style=\"text-align: right;\">\n",
       "      <th></th>\n",
       "      <th>store_id</th>\n",
       "      <th>item_id</th>\n",
       "      <th>wm_yr_wk</th>\n",
       "      <th>sell_price</th>\n",
       "    </tr>\n",
       "  </thead>\n",
       "  <tbody>\n",
       "    <tr>\n",
       "      <th>6485945</th>\n",
       "      <td>WI_3</td>\n",
       "      <td>HOUSEHOLD_2_406</td>\n",
       "      <td>11317</td>\n",
       "      <td>107.32</td>\n",
       "    </tr>\n",
       "    <tr>\n",
       "      <th>6485946</th>\n",
       "      <td>WI_3</td>\n",
       "      <td>HOUSEHOLD_2_406</td>\n",
       "      <td>11318</td>\n",
       "      <td>107.32</td>\n",
       "    </tr>\n",
       "    <tr>\n",
       "      <th>6485947</th>\n",
       "      <td>WI_3</td>\n",
       "      <td>HOUSEHOLD_2_406</td>\n",
       "      <td>11319</td>\n",
       "      <td>107.32</td>\n",
       "    </tr>\n",
       "  </tbody>\n",
       "</table>\n",
       "</div>"
      ],
      "text/plain": [
       "        store_id          item_id  wm_yr_wk  sell_price\n",
       "6485945     WI_3  HOUSEHOLD_2_406     11317      107.32\n",
       "6485946     WI_3  HOUSEHOLD_2_406     11318      107.32\n",
       "6485947     WI_3  HOUSEHOLD_2_406     11319      107.32"
      ]
     },
     "execution_count": 15,
     "metadata": {},
     "output_type": "execute_result"
    }
   ],
   "source": [
    "max_item =selling_price[selling_price['sell_price'] == (selling_price['sell_price'].max())]\n",
    "max_item"
   ]
  },
  {
   "cell_type": "code",
   "execution_count": 32,
   "id": "ff096f7c",
   "metadata": {},
   "outputs": [],
   "source": [
    "# To categorise the items in selling_price \n",
    "def categorize_item(item_id):\n",
    "    if 'HOBBIES' in item_id:\n",
    "        return 'HOBBIES'\n",
    "    elif 'FOOD' in item_id:\n",
    "        return 'FOODS'\n",
    "    elif 'HOUSEHOLD' in item_id:\n",
    "        return 'HOUSEHOLDS'\n",
    "    else:\n",
    "        return 'OTHER'"
   ]
  },
  {
   "cell_type": "code",
   "execution_count": 33,
   "id": "3e800bcd",
   "metadata": {},
   "outputs": [],
   "source": [
    "selling_price['cat_id'] = selling_price['item_id'].apply(categorize_item)"
   ]
  },
  {
   "cell_type": "code",
   "execution_count": 34,
   "id": "88179077",
   "metadata": {},
   "outputs": [
    {
     "data": {
      "text/html": [
       "<div>\n",
       "<style scoped>\n",
       "    .dataframe tbody tr th:only-of-type {\n",
       "        vertical-align: middle;\n",
       "    }\n",
       "\n",
       "    .dataframe tbody tr th {\n",
       "        vertical-align: top;\n",
       "    }\n",
       "\n",
       "    .dataframe thead th {\n",
       "        text-align: right;\n",
       "    }\n",
       "</style>\n",
       "<table border=\"1\" class=\"dataframe\">\n",
       "  <thead>\n",
       "    <tr style=\"text-align: right;\">\n",
       "      <th></th>\n",
       "      <th>store_id</th>\n",
       "      <th>item_id</th>\n",
       "      <th>wm_yr_wk</th>\n",
       "      <th>sell_price</th>\n",
       "      <th>cat_id</th>\n",
       "    </tr>\n",
       "  </thead>\n",
       "  <tbody>\n",
       "    <tr>\n",
       "      <th>0</th>\n",
       "      <td>CA_1</td>\n",
       "      <td>HOBBIES_1_001</td>\n",
       "      <td>11325</td>\n",
       "      <td>9.58</td>\n",
       "      <td>HOBBIES</td>\n",
       "    </tr>\n",
       "    <tr>\n",
       "      <th>1</th>\n",
       "      <td>CA_1</td>\n",
       "      <td>HOBBIES_1_001</td>\n",
       "      <td>11326</td>\n",
       "      <td>9.58</td>\n",
       "      <td>HOBBIES</td>\n",
       "    </tr>\n",
       "    <tr>\n",
       "      <th>2</th>\n",
       "      <td>CA_1</td>\n",
       "      <td>HOBBIES_1_001</td>\n",
       "      <td>11327</td>\n",
       "      <td>8.26</td>\n",
       "      <td>HOBBIES</td>\n",
       "    </tr>\n",
       "    <tr>\n",
       "      <th>3</th>\n",
       "      <td>CA_1</td>\n",
       "      <td>HOBBIES_1_001</td>\n",
       "      <td>11328</td>\n",
       "      <td>8.26</td>\n",
       "      <td>HOBBIES</td>\n",
       "    </tr>\n",
       "    <tr>\n",
       "      <th>4</th>\n",
       "      <td>CA_1</td>\n",
       "      <td>HOBBIES_1_001</td>\n",
       "      <td>11329</td>\n",
       "      <td>8.26</td>\n",
       "      <td>HOBBIES</td>\n",
       "    </tr>\n",
       "    <tr>\n",
       "      <th>...</th>\n",
       "      <td>...</td>\n",
       "      <td>...</td>\n",
       "      <td>...</td>\n",
       "      <td>...</td>\n",
       "      <td>...</td>\n",
       "    </tr>\n",
       "    <tr>\n",
       "      <th>6841116</th>\n",
       "      <td>WI_3</td>\n",
       "      <td>FOODS_3_827</td>\n",
       "      <td>11617</td>\n",
       "      <td>1.00</td>\n",
       "      <td>FOODS</td>\n",
       "    </tr>\n",
       "    <tr>\n",
       "      <th>6841117</th>\n",
       "      <td>WI_3</td>\n",
       "      <td>FOODS_3_827</td>\n",
       "      <td>11618</td>\n",
       "      <td>1.00</td>\n",
       "      <td>FOODS</td>\n",
       "    </tr>\n",
       "    <tr>\n",
       "      <th>6841118</th>\n",
       "      <td>WI_3</td>\n",
       "      <td>FOODS_3_827</td>\n",
       "      <td>11619</td>\n",
       "      <td>1.00</td>\n",
       "      <td>FOODS</td>\n",
       "    </tr>\n",
       "    <tr>\n",
       "      <th>6841119</th>\n",
       "      <td>WI_3</td>\n",
       "      <td>FOODS_3_827</td>\n",
       "      <td>11620</td>\n",
       "      <td>1.00</td>\n",
       "      <td>FOODS</td>\n",
       "    </tr>\n",
       "    <tr>\n",
       "      <th>6841120</th>\n",
       "      <td>WI_3</td>\n",
       "      <td>FOODS_3_827</td>\n",
       "      <td>11621</td>\n",
       "      <td>1.00</td>\n",
       "      <td>FOODS</td>\n",
       "    </tr>\n",
       "  </tbody>\n",
       "</table>\n",
       "<p>6841121 rows × 5 columns</p>\n",
       "</div>"
      ],
      "text/plain": [
       "        store_id        item_id  wm_yr_wk  sell_price   cat_id\n",
       "0           CA_1  HOBBIES_1_001     11325        9.58  HOBBIES\n",
       "1           CA_1  HOBBIES_1_001     11326        9.58  HOBBIES\n",
       "2           CA_1  HOBBIES_1_001     11327        8.26  HOBBIES\n",
       "3           CA_1  HOBBIES_1_001     11328        8.26  HOBBIES\n",
       "4           CA_1  HOBBIES_1_001     11329        8.26  HOBBIES\n",
       "...          ...            ...       ...         ...      ...\n",
       "6841116     WI_3    FOODS_3_827     11617        1.00    FOODS\n",
       "6841117     WI_3    FOODS_3_827     11618        1.00    FOODS\n",
       "6841118     WI_3    FOODS_3_827     11619        1.00    FOODS\n",
       "6841119     WI_3    FOODS_3_827     11620        1.00    FOODS\n",
       "6841120     WI_3    FOODS_3_827     11621        1.00    FOODS\n",
       "\n",
       "[6841121 rows x 5 columns]"
      ]
     },
     "execution_count": 34,
     "metadata": {},
     "output_type": "execute_result"
    }
   ],
   "source": [
    "# selling_price is just to show the price of the items\n",
    "selling_price"
   ]
  },
  {
   "cell_type": "code",
   "execution_count": 95,
   "id": "2d6e1615",
   "metadata": {},
   "outputs": [
    {
     "name": "stdout",
     "output_type": "stream",
     "text": [
      "cat_id\n",
      "FOODS         3.251027\n",
      "HOBBIES       5.333896\n",
      "HOUSEHOLDS    5.465780\n",
      "Name: sell_price, dtype: float64\n"
     ]
    }
   ],
   "source": [
    "print(selling_price.groupby(['cat_id'])['sell_price'].mean())"
   ]
  },
  {
   "cell_type": "code",
   "execution_count": 36,
   "id": "373c26a2",
   "metadata": {},
   "outputs": [
    {
     "name": "stdout",
     "output_type": "stream",
     "text": [
      "                mean  median       std\n",
      "cat_id                                \n",
      "FOODS       3.251027    2.68  2.132220\n",
      "HOBBIES     5.333896    3.97  4.828999\n",
      "HOUSEHOLDS  5.465780    4.94  3.375843\n"
     ]
    }
   ],
   "source": [
    "# To find mean & std of selling price in each category.\n",
    "selling_price_summary = selling_price.groupby(\"cat_id\").agg(mean = (\"sell_price\",\"mean\"),median = (\"sell_price\",\"median\"),std = (\"sell_price\",\"std\"))\n",
    "print(selling_price_summary)"
   ]
  },
  {
   "cell_type": "code",
   "execution_count": 99,
   "id": "457a1078",
   "metadata": {},
   "outputs": [
    {
     "data": {
      "image/png": "[encoded data removed]",
      "text/plain": [
       "<Figure size 432x288 with 1 Axes>"
      ]
     },
     "metadata": {
      "needs_background": "light"
     },
     "output_type": "display_data"
    }
   ],
   "source": [
    "sns.boxplot(data=selling_price, x=\"cat_id\", y=\"sell_price\")\n",
    "plt.show()"
   ]
  },
  {
   "cell_type": "code",
   "execution_count": 51,
   "id": "73fd706c",
   "metadata": {},
   "outputs": [
    {
     "data": {
      "text/html": [
       "<div>\n",
       "<style scoped>\n",
       "    .dataframe tbody tr th:only-of-type {\n",
       "        vertical-align: middle;\n",
       "    }\n",
       "\n",
       "    .dataframe tbody tr th {\n",
       "        vertical-align: top;\n",
       "    }\n",
       "\n",
       "    .dataframe thead th {\n",
       "        text-align: right;\n",
       "    }\n",
       "</style>\n",
       "<table border=\"1\" class=\"dataframe\">\n",
       "  <thead>\n",
       "    <tr style=\"text-align: right;\">\n",
       "      <th></th>\n",
       "      <th></th>\n",
       "      <th>wm_yr_wk</th>\n",
       "      <th>sell_price</th>\n",
       "    </tr>\n",
       "    <tr>\n",
       "      <th>item_id</th>\n",
       "      <th></th>\n",
       "      <th></th>\n",
       "      <th></th>\n",
       "    </tr>\n",
       "  </thead>\n",
       "  <tbody>\n",
       "    <tr>\n",
       "      <th rowspan=\"2\" valign=\"top\">FOODS_1_001</th>\n",
       "      <th>wm_yr_wk</th>\n",
       "      <td>1.000000</td>\n",
       "      <td>0.740673</td>\n",
       "    </tr>\n",
       "    <tr>\n",
       "      <th>sell_price</th>\n",
       "      <td>0.740673</td>\n",
       "      <td>1.000000</td>\n",
       "    </tr>\n",
       "    <tr>\n",
       "      <th rowspan=\"2\" valign=\"top\">FOODS_1_002</th>\n",
       "      <th>wm_yr_wk</th>\n",
       "      <td>1.000000</td>\n",
       "      <td>0.847670</td>\n",
       "    </tr>\n",
       "    <tr>\n",
       "      <th>sell_price</th>\n",
       "      <td>0.847670</td>\n",
       "      <td>1.000000</td>\n",
       "    </tr>\n",
       "    <tr>\n",
       "      <th>FOODS_1_003</th>\n",
       "      <th>wm_yr_wk</th>\n",
       "      <td>1.000000</td>\n",
       "      <td>0.777547</td>\n",
       "    </tr>\n",
       "    <tr>\n",
       "      <th>...</th>\n",
       "      <th>...</th>\n",
       "      <td>...</td>\n",
       "      <td>...</td>\n",
       "    </tr>\n",
       "    <tr>\n",
       "      <th>HOUSEHOLD_2_514</th>\n",
       "      <th>sell_price</th>\n",
       "      <td>0.054446</td>\n",
       "      <td>1.000000</td>\n",
       "    </tr>\n",
       "    <tr>\n",
       "      <th rowspan=\"2\" valign=\"top\">HOUSEHOLD_2_515</th>\n",
       "      <th>wm_yr_wk</th>\n",
       "      <td>1.000000</td>\n",
       "      <td>-0.005363</td>\n",
       "    </tr>\n",
       "    <tr>\n",
       "      <th>sell_price</th>\n",
       "      <td>-0.005363</td>\n",
       "      <td>1.000000</td>\n",
       "    </tr>\n",
       "    <tr>\n",
       "      <th rowspan=\"2\" valign=\"top\">HOUSEHOLD_2_516</th>\n",
       "      <th>wm_yr_wk</th>\n",
       "      <td>1.000000</td>\n",
       "      <td>-0.014832</td>\n",
       "    </tr>\n",
       "    <tr>\n",
       "      <th>sell_price</th>\n",
       "      <td>-0.014832</td>\n",
       "      <td>1.000000</td>\n",
       "    </tr>\n",
       "  </tbody>\n",
       "</table>\n",
       "<p>6098 rows × 2 columns</p>\n",
       "</div>"
      ],
      "text/plain": [
       "                            wm_yr_wk  sell_price\n",
       "item_id                                         \n",
       "FOODS_1_001     wm_yr_wk    1.000000    0.740673\n",
       "                sell_price  0.740673    1.000000\n",
       "FOODS_1_002     wm_yr_wk    1.000000    0.847670\n",
       "                sell_price  0.847670    1.000000\n",
       "FOODS_1_003     wm_yr_wk    1.000000    0.777547\n",
       "...                              ...         ...\n",
       "HOUSEHOLD_2_514 sell_price  0.054446    1.000000\n",
       "HOUSEHOLD_2_515 wm_yr_wk    1.000000   -0.005363\n",
       "                sell_price -0.005363    1.000000\n",
       "HOUSEHOLD_2_516 wm_yr_wk    1.000000   -0.014832\n",
       "                sell_price -0.014832    1.000000\n",
       "\n",
       "[6098 rows x 2 columns]"
      ]
     },
     "execution_count": 51,
     "metadata": {},
     "output_type": "execute_result"
    }
   ],
   "source": [
    "selling_price_by_id.corr()"
   ]
  },
  {
   "cell_type": "code",
   "execution_count": 17,
   "id": "fd2cef4d",
   "metadata": {},
   "outputs": [],
   "source": [
    "# To find the range of price changes of each items.\n",
    "# findings: HOUSEHOLD_2_406 has largest change, foods_1_014 has smallest change.\n",
    "price_range = selling_price.groupby(['store_id','item_id'])['sell_price'].apply(lambda x: max(x) - min(x))\n",
    "max_change_product = price_range.idxmax()\n",
    "max_change_value = price_range.max()\n",
    "min_change_product = price_range.idxmin()\n",
    "min_change_value = price_range.min()"
   ]
  },
  {
   "cell_type": "code",
   "execution_count": 19,
   "id": "58ba98a5",
   "metadata": {},
   "outputs": [
    {
     "data": {
      "text/plain": [
       "('WI_3', 'HOUSEHOLD_2_406')"
      ]
     },
     "execution_count": 19,
     "metadata": {},
     "output_type": "execute_result"
    }
   ],
   "source": [
    "max_change_value\n",
    "max_change_product"
   ]
  },
  {
   "cell_type": "code",
   "execution_count": 20,
   "id": "1f41d8d3",
   "metadata": {},
   "outputs": [
    {
     "data": {
      "text/plain": [
       "104.05999999999999"
      ]
     },
     "execution_count": 20,
     "metadata": {},
     "output_type": "execute_result"
    }
   ],
   "source": [
    "max_change_value"
   ]
  },
  {
   "cell_type": "code",
   "execution_count": 29,
   "id": "445be5ff",
   "metadata": {},
   "outputs": [
    {
     "data": {
      "image/png": "[encoded data removed]",
      "text/plain": [
       "<Figure size 432x288 with 1 Axes>"
      ]
     },
     "metadata": {
      "needs_background": "light"
     },
     "output_type": "display_data"
    }
   ],
   "source": [
    "max_change_item = selling_price[(selling_price['item_id'] == 'HOUSEHOLD_2_406') & (selling_price['store_id'] == 'WI_3')]\n",
    "x = max_change_item['wm_yr_wk']\n",
    "y = max_change_item['sell_price']\n",
    "plt.plot(x, y)\n",
    "plt.xlabel(\"Week\")  \n",
    "plt.ylabel(\"Sell Price\")  \n",
    "plt.show()"
   ]
  },
  {
   "cell_type": "code",
   "execution_count": 111,
   "id": "f2641477",
   "metadata": {},
   "outputs": [
    {
     "data": {
      "text/plain": [
       "('CA_1', 'FOODS_1_014')"
      ]
     },
     "execution_count": 111,
     "metadata": {},
     "output_type": "execute_result"
    }
   ],
   "source": [
    "min_change_value\n",
    "min_change_product"
   ]
  },
  {
   "cell_type": "code",
   "execution_count": 113,
   "id": "1808d312",
   "metadata": {},
   "outputs": [
    {
     "data": {
      "text/plain": [
       "0.0"
      ]
     },
     "execution_count": 113,
     "metadata": {},
     "output_type": "execute_result"
    }
   ],
   "source": [
    "min_change_value"
   ]
  },
  {
   "cell_type": "code",
   "execution_count": 28,
   "id": "e5d04a61",
   "metadata": {},
   "outputs": [
    {
     "data": {
      "image/png": "[encoded data removed]",
      "text/plain": [
       "<Figure size 432x288 with 1 Axes>"
      ]
     },
     "metadata": {
      "needs_background": "light"
     },
     "output_type": "display_data"
    }
   ],
   "source": [
    "min_change_item = selling_price[(selling_price['item_id'] == 'FOODS_1_014') & (selling_price['store_id'] == 'CA_1')]\n",
    "x = min_change_item['wm_yr_wk']\n",
    "y = min_change_item['sell_price']\n",
    "plt.plot(x, y)\n",
    "plt.xlabel(\"Sell Price\")  \n",
    "plt.ylabel(\"Week\")  \n",
    "plt.show()"
   ]
  },
  {
   "cell_type": "code",
   "execution_count": 118,
   "id": "b420aa1e",
   "metadata": {},
   "outputs": [],
   "source": [
    "# find out why the range so big?"
   ]
  },
  {
   "cell_type": "markdown",
   "id": "bbcb94e0",
   "metadata": {},
   "source": [
    "### Find distribution of prices of items in different hierarchies"
   ]
  },
  {
   "cell_type": "code",
   "execution_count": 39,
   "id": "3fe498ab",
   "metadata": {},
   "outputs": [],
   "source": [
    "selling_price_2 = pd.read_csv('sell_prices.csv')"
   ]
  },
  {
   "cell_type": "code",
   "execution_count": 40,
   "id": "f6ef8d21",
   "metadata": {},
   "outputs": [],
   "source": [
    "selling_price_2['cat_id'] = selling_price_2['item_id'].apply(categorize_item)"
   ]
  },
  {
   "cell_type": "code",
   "execution_count": 41,
   "id": "ff29a16b",
   "metadata": {},
   "outputs": [],
   "source": [
    "# apply log1p to make the selling price less skewed\n",
    "selling_price_2['sell_price']=selling_price_2['sell_price'].apply(np.log1p)"
   ]
  },
  {
   "cell_type": "code",
   "execution_count": 42,
   "id": "455ea5db",
   "metadata": {},
   "outputs": [
    {
     "data": {
      "text/html": [
       "<div>\n",
       "<style scoped>\n",
       "    .dataframe tbody tr th:only-of-type {\n",
       "        vertical-align: middle;\n",
       "    }\n",
       "\n",
       "    .dataframe tbody tr th {\n",
       "        vertical-align: top;\n",
       "    }\n",
       "\n",
       "    .dataframe thead th {\n",
       "        text-align: right;\n",
       "    }\n",
       "</style>\n",
       "<table border=\"1\" class=\"dataframe\">\n",
       "  <thead>\n",
       "    <tr style=\"text-align: right;\">\n",
       "      <th></th>\n",
       "      <th>store_id</th>\n",
       "      <th>item_id</th>\n",
       "      <th>wm_yr_wk</th>\n",
       "      <th>sell_price</th>\n",
       "      <th>cat_id</th>\n",
       "    </tr>\n",
       "  </thead>\n",
       "  <tbody>\n",
       "    <tr>\n",
       "      <th>0</th>\n",
       "      <td>CA_1</td>\n",
       "      <td>HOBBIES_1_001</td>\n",
       "      <td>11325</td>\n",
       "      <td>2.358965</td>\n",
       "      <td>HOBBIES</td>\n",
       "    </tr>\n",
       "    <tr>\n",
       "      <th>1</th>\n",
       "      <td>CA_1</td>\n",
       "      <td>HOBBIES_1_001</td>\n",
       "      <td>11326</td>\n",
       "      <td>2.358965</td>\n",
       "      <td>HOBBIES</td>\n",
       "    </tr>\n",
       "    <tr>\n",
       "      <th>2</th>\n",
       "      <td>CA_1</td>\n",
       "      <td>HOBBIES_1_001</td>\n",
       "      <td>11327</td>\n",
       "      <td>2.225704</td>\n",
       "      <td>HOBBIES</td>\n",
       "    </tr>\n",
       "    <tr>\n",
       "      <th>3</th>\n",
       "      <td>CA_1</td>\n",
       "      <td>HOBBIES_1_001</td>\n",
       "      <td>11328</td>\n",
       "      <td>2.225704</td>\n",
       "      <td>HOBBIES</td>\n",
       "    </tr>\n",
       "    <tr>\n",
       "      <th>4</th>\n",
       "      <td>CA_1</td>\n",
       "      <td>HOBBIES_1_001</td>\n",
       "      <td>11329</td>\n",
       "      <td>2.225704</td>\n",
       "      <td>HOBBIES</td>\n",
       "    </tr>\n",
       "    <tr>\n",
       "      <th>...</th>\n",
       "      <td>...</td>\n",
       "      <td>...</td>\n",
       "      <td>...</td>\n",
       "      <td>...</td>\n",
       "      <td>...</td>\n",
       "    </tr>\n",
       "    <tr>\n",
       "      <th>6841116</th>\n",
       "      <td>WI_3</td>\n",
       "      <td>FOODS_3_827</td>\n",
       "      <td>11617</td>\n",
       "      <td>0.693147</td>\n",
       "      <td>FOODS</td>\n",
       "    </tr>\n",
       "    <tr>\n",
       "      <th>6841117</th>\n",
       "      <td>WI_3</td>\n",
       "      <td>FOODS_3_827</td>\n",
       "      <td>11618</td>\n",
       "      <td>0.693147</td>\n",
       "      <td>FOODS</td>\n",
       "    </tr>\n",
       "    <tr>\n",
       "      <th>6841118</th>\n",
       "      <td>WI_3</td>\n",
       "      <td>FOODS_3_827</td>\n",
       "      <td>11619</td>\n",
       "      <td>0.693147</td>\n",
       "      <td>FOODS</td>\n",
       "    </tr>\n",
       "    <tr>\n",
       "      <th>6841119</th>\n",
       "      <td>WI_3</td>\n",
       "      <td>FOODS_3_827</td>\n",
       "      <td>11620</td>\n",
       "      <td>0.693147</td>\n",
       "      <td>FOODS</td>\n",
       "    </tr>\n",
       "    <tr>\n",
       "      <th>6841120</th>\n",
       "      <td>WI_3</td>\n",
       "      <td>FOODS_3_827</td>\n",
       "      <td>11621</td>\n",
       "      <td>0.693147</td>\n",
       "      <td>FOODS</td>\n",
       "    </tr>\n",
       "  </tbody>\n",
       "</table>\n",
       "<p>6841121 rows × 5 columns</p>\n",
       "</div>"
      ],
      "text/plain": [
       "        store_id        item_id  wm_yr_wk  sell_price   cat_id\n",
       "0           CA_1  HOBBIES_1_001     11325    2.358965  HOBBIES\n",
       "1           CA_1  HOBBIES_1_001     11326    2.358965  HOBBIES\n",
       "2           CA_1  HOBBIES_1_001     11327    2.225704  HOBBIES\n",
       "3           CA_1  HOBBIES_1_001     11328    2.225704  HOBBIES\n",
       "4           CA_1  HOBBIES_1_001     11329    2.225704  HOBBIES\n",
       "...          ...            ...       ...         ...      ...\n",
       "6841116     WI_3    FOODS_3_827     11617    0.693147    FOODS\n",
       "6841117     WI_3    FOODS_3_827     11618    0.693147    FOODS\n",
       "6841118     WI_3    FOODS_3_827     11619    0.693147    FOODS\n",
       "6841119     WI_3    FOODS_3_827     11620    0.693147    FOODS\n",
       "6841120     WI_3    FOODS_3_827     11621    0.693147    FOODS\n",
       "\n",
       "[6841121 rows x 5 columns]"
      ]
     },
     "execution_count": 42,
     "metadata": {},
     "output_type": "execute_result"
    }
   ],
   "source": [
    "selling_price_2"
   ]
  },
  {
   "cell_type": "code",
   "execution_count": 68,
   "id": "0a5c4fa0",
   "metadata": {},
   "outputs": [],
   "source": [
    "Hobbies_df = selling_price_2[selling_price_2['cat_id'] == 'HOBBIES']\n",
    "Foods_df = selling_price_2[selling_price_2['cat_id'] == 'FOODS']\n",
    "Household_df = selling_price_2[selling_price_2['cat_id'] == 'HOUSEHOLDS']"
   ]
  },
  {
   "cell_type": "markdown",
   "id": "1990ee42",
   "metadata": {},
   "source": [
    "#### Create density plot to visualise distribution of prices in different categories of different departments and stores"
   ]
  },
  {
   "cell_type": "code",
   "execution_count": 70,
   "id": "23bf6f47",
   "metadata": {},
   "outputs": [
    {
     "name": "stderr",
     "output_type": "stream",
     "text": [
      "/var/folders/7h/s4cspbv95x98l3h5nvklx3ym0000gn/T/ipykernel_9465/2585816788.py:1: SettingWithCopyWarning: \n",
      "A value is trying to be set on a copy of a slice from a DataFrame.\n",
      "Try using .loc[row_indexer,col_indexer] = value instead\n",
      "\n",
      "See the caveats in the documentation: https://pandas.pydata.org/pandas-docs/stable/user_guide/indexing.html#returning-a-view-versus-a-copy\n",
      "  Hobbies_df['dept_id'] = Hobbies_df['item_id'].str[-5]\n",
      "/var/folders/7h/s4cspbv95x98l3h5nvklx3ym0000gn/T/ipykernel_9465/2585816788.py:2: SettingWithCopyWarning: \n",
      "A value is trying to be set on a copy of a slice from a DataFrame.\n",
      "Try using .loc[row_indexer,col_indexer] = value instead\n",
      "\n",
      "See the caveats in the documentation: https://pandas.pydata.org/pandas-docs/stable/user_guide/indexing.html#returning-a-view-versus-a-copy\n",
      "  Hobbies_df['state_id'] = Hobbies_df['store_id'].str[0:2]\n"
     ]
    }
   ],
   "source": [
    "Hobbies_df['dept_id'] = Hobbies_df['item_id'].str[-5]\n",
    "Hobbies_df['state_id'] = Hobbies_df['store_id'].str[0:2]\n",
    "Household_df['dept_id'] = Household_df['item_id'].str[-5]\n",
    "Household_df['state_id'] = Household_df['store_id'].str[0:2]\n",
    "Foods_df['dept_id'] = Foods_df['item_id'].str[-5]\n",
    "Foods_df['state_id'] = Foods_df['store_id'].str[0:2]"
   ]
  },
  {
   "cell_type": "code",
   "execution_count": 224,
   "id": "53ce2db6",
   "metadata": {},
   "outputs": [
    {
     "data": {
      "image/png": "[encoded data removed]",
      "text/plain": [
       "<Figure size 432x288 with 1 Axes>"
      ]
     },
     "metadata": {
      "needs_background": "light"
     },
     "output_type": "display_data"
    }
   ],
   "source": [
    "sns.kdeplot(data=Hobbies_df, x='sell_price', hue='store_id', palette='bright')\n",
    "plt.xlabel('sell_price')\n",
    "plt.ylabel('Density')\n",
    "plt.title('Price distribution of hobbies items in different store')\n",
    "plt.show()"
   ]
  },
  {
   "cell_type": "code",
   "execution_count": 225,
   "id": "5bbcef1a",
   "metadata": {},
   "outputs": [
    {
     "data": {
      "image/png": "[encoded data removed]",
      "text/plain": [
       "<Figure size 432x288 with 1 Axes>"
      ]
     },
     "metadata": {
      "needs_background": "light"
     },
     "output_type": "display_data"
    }
   ],
   "source": [
    "sns.kdeplot(data=Foods_df, x='sell_price', hue='store_id', palette='bright')\n",
    "plt.xlabel('sell_price')\n",
    "plt.ylabel('Density')\n",
    "plt.title('Price distribution of foods items in different store')\n",
    "plt.show()"
   ]
  },
  {
   "cell_type": "code",
   "execution_count": 226,
   "id": "0f1d7dc7",
   "metadata": {},
   "outputs": [
    {
     "data": {
      "image/png": "[encoded data removed]",
      "text/plain": [
       "<Figure size 432x288 with 1 Axes>"
      ]
     },
     "metadata": {
      "needs_background": "light"
     },
     "output_type": "display_data"
    }
   ],
   "source": [
    "sns.kdeplot(data=Household_df, x='sell_price', hue='store_id', palette='bright')\n",
    "plt.xlabel('sell_price')\n",
    "plt.ylabel('Density')\n",
    "plt.title('Price distribution of households items in different store')\n",
    "plt.show()"
   ]
  },
  {
   "cell_type": "code",
   "execution_count": 192,
   "id": "2e1c788b",
   "metadata": {},
   "outputs": [
    {
     "data": {
      "image/png": "[encoded data removed]",
      "text/plain": [
       "<Figure size 432x288 with 1 Axes>"
      ]
     },
     "metadata": {
      "needs_background": "light"
     },
     "output_type": "display_data"
    }
   ],
   "source": [
    "sns.kdeplot(data=Hobbies_df, x='sell_price', hue='dept_id', palette='bright')\n",
    "plt.xlabel('sell_price')\n",
    "plt.ylabel('Density')\n",
    "plt.title('Price distribution of hobbies items in different department')\n",
    "plt.show()"
   ]
  },
  {
   "cell_type": "code",
   "execution_count": 193,
   "id": "30f8f837",
   "metadata": {},
   "outputs": [
    {
     "data": {
      "image/png": "[encoded data removed]",
      "text/plain": [
       "<Figure size 432x288 with 1 Axes>"
      ]
     },
     "metadata": {
      "needs_background": "light"
     },
     "output_type": "display_data"
    }
   ],
   "source": [
    "sns.kdeplot(data=Foods_df, x='sell_price', hue='dept_id', palette='bright')\n",
    "plt.xlabel('sell_price')\n",
    "plt.ylabel('Density')\n",
    "plt.title('Price distribution of foods items in different department')\n",
    "plt.show()"
   ]
  },
  {
   "cell_type": "code",
   "execution_count": 194,
   "id": "8c738b32",
   "metadata": {},
   "outputs": [
    {
     "data": {
      "image/png": "[encoded data removed]",
      "text/plain": [
       "<Figure size 432x288 with 1 Axes>"
      ]
     },
     "metadata": {
      "needs_background": "light"
     },
     "output_type": "display_data"
    }
   ],
   "source": [
    "sns.kdeplot(data = Household_df, x='sell_price', hue='dept_id', palette='bright')\n",
    "plt.xlabel('sell_price')\n",
    "plt.ylabel('Density')\n",
    "plt.title('Price distribution of household items in different department')\n",
    "plt.show()"
   ]
  },
  {
   "cell_type": "markdown",
   "id": "c2f81fce",
   "metadata": {},
   "source": [
    "##### Findings:\n",
    "Based on the visualisations above, they makes it clear that while prices tend to be reasonably similar across different stores, but there are some differences between departments.\n",
    "- Households items averagely costed more than other items.\n",
    "- Hobbies items in department 1 are averagely priced higher than those in department 2.\n",
    "- Food items in 3 different departments have pretty similar distribution. \n",
    "- Household items in department 2 are averagely priced slightly higher than those in department 1.\n",
    "\n",
    "- Hobbies items in department 1 an households items in department 2 has an obvious high price tails, meaning some of the items have significant higher price than other items."
   ]
  },
  {
   "cell_type": "markdown",
   "id": "b74c702d",
   "metadata": {},
   "source": [
    "# Calendar"
   ]
  },
  {
   "cell_type": "code",
   "execution_count": 227,
   "id": "229ca343",
   "metadata": {},
   "outputs": [],
   "source": [
    "calendar = pd.read_csv('calendar.csv')"
   ]
  },
  {
   "cell_type": "code",
   "execution_count": 7,
   "id": "ae1bdea8",
   "metadata": {},
   "outputs": [
    {
     "data": {
      "text/html": [
       "<div>\n",
       "<style scoped>\n",
       "    .dataframe tbody tr th:only-of-type {\n",
       "        vertical-align: middle;\n",
       "    }\n",
       "\n",
       "    .dataframe tbody tr th {\n",
       "        vertical-align: top;\n",
       "    }\n",
       "\n",
       "    .dataframe thead th {\n",
       "        text-align: right;\n",
       "    }\n",
       "</style>\n",
       "<table border=\"1\" class=\"dataframe\">\n",
       "  <thead>\n",
       "    <tr style=\"text-align: right;\">\n",
       "      <th></th>\n",
       "      <th>date</th>\n",
       "      <th>wm_yr_wk</th>\n",
       "      <th>weekday</th>\n",
       "      <th>wday</th>\n",
       "      <th>month</th>\n",
       "      <th>year</th>\n",
       "      <th>d</th>\n",
       "      <th>event_name_1</th>\n",
       "      <th>event_type_1</th>\n",
       "      <th>event_name_2</th>\n",
       "      <th>event_type_2</th>\n",
       "      <th>snap_CA</th>\n",
       "      <th>snap_TX</th>\n",
       "      <th>snap_WI</th>\n",
       "    </tr>\n",
       "  </thead>\n",
       "  <tbody>\n",
       "    <tr>\n",
       "      <th>0</th>\n",
       "      <td>2011-01-29</td>\n",
       "      <td>11101</td>\n",
       "      <td>Saturday</td>\n",
       "      <td>1</td>\n",
       "      <td>1</td>\n",
       "      <td>2011</td>\n",
       "      <td>d_1</td>\n",
       "      <td>NaN</td>\n",
       "      <td>NaN</td>\n",
       "      <td>NaN</td>\n",
       "      <td>NaN</td>\n",
       "      <td>0</td>\n",
       "      <td>0</td>\n",
       "      <td>0</td>\n",
       "    </tr>\n",
       "    <tr>\n",
       "      <th>1</th>\n",
       "      <td>2011-01-30</td>\n",
       "      <td>11101</td>\n",
       "      <td>Sunday</td>\n",
       "      <td>2</td>\n",
       "      <td>1</td>\n",
       "      <td>2011</td>\n",
       "      <td>d_2</td>\n",
       "      <td>NaN</td>\n",
       "      <td>NaN</td>\n",
       "      <td>NaN</td>\n",
       "      <td>NaN</td>\n",
       "      <td>0</td>\n",
       "      <td>0</td>\n",
       "      <td>0</td>\n",
       "    </tr>\n",
       "    <tr>\n",
       "      <th>2</th>\n",
       "      <td>2011-01-31</td>\n",
       "      <td>11101</td>\n",
       "      <td>Monday</td>\n",
       "      <td>3</td>\n",
       "      <td>1</td>\n",
       "      <td>2011</td>\n",
       "      <td>d_3</td>\n",
       "      <td>NaN</td>\n",
       "      <td>NaN</td>\n",
       "      <td>NaN</td>\n",
       "      <td>NaN</td>\n",
       "      <td>0</td>\n",
       "      <td>0</td>\n",
       "      <td>0</td>\n",
       "    </tr>\n",
       "    <tr>\n",
       "      <th>3</th>\n",
       "      <td>2011-02-01</td>\n",
       "      <td>11101</td>\n",
       "      <td>Tuesday</td>\n",
       "      <td>4</td>\n",
       "      <td>2</td>\n",
       "      <td>2011</td>\n",
       "      <td>d_4</td>\n",
       "      <td>NaN</td>\n",
       "      <td>NaN</td>\n",
       "      <td>NaN</td>\n",
       "      <td>NaN</td>\n",
       "      <td>1</td>\n",
       "      <td>1</td>\n",
       "      <td>0</td>\n",
       "    </tr>\n",
       "    <tr>\n",
       "      <th>4</th>\n",
       "      <td>2011-02-02</td>\n",
       "      <td>11101</td>\n",
       "      <td>Wednesday</td>\n",
       "      <td>5</td>\n",
       "      <td>2</td>\n",
       "      <td>2011</td>\n",
       "      <td>d_5</td>\n",
       "      <td>NaN</td>\n",
       "      <td>NaN</td>\n",
       "      <td>NaN</td>\n",
       "      <td>NaN</td>\n",
       "      <td>1</td>\n",
       "      <td>0</td>\n",
       "      <td>1</td>\n",
       "    </tr>\n",
       "  </tbody>\n",
       "</table>\n",
       "</div>"
      ],
      "text/plain": [
       "         date  wm_yr_wk    weekday  wday  month  year    d event_name_1  \\\n",
       "0  2011-01-29     11101   Saturday     1      1  2011  d_1          NaN   \n",
       "1  2011-01-30     11101     Sunday     2      1  2011  d_2          NaN   \n",
       "2  2011-01-31     11101     Monday     3      1  2011  d_3          NaN   \n",
       "3  2011-02-01     11101    Tuesday     4      2  2011  d_4          NaN   \n",
       "4  2011-02-02     11101  Wednesday     5      2  2011  d_5          NaN   \n",
       "\n",
       "  event_type_1 event_name_2 event_type_2  snap_CA  snap_TX  snap_WI  \n",
       "0          NaN          NaN          NaN        0        0        0  \n",
       "1          NaN          NaN          NaN        0        0        0  \n",
       "2          NaN          NaN          NaN        0        0        0  \n",
       "3          NaN          NaN          NaN        1        1        0  \n",
       "4          NaN          NaN          NaN        1        0        1  "
      ]
     },
     "execution_count": 7,
     "metadata": {},
     "output_type": "execute_result"
    }
   ],
   "source": [
    "calendar.head()"
   ]
  },
  {
   "cell_type": "code",
   "execution_count": 128,
   "id": "b33e7048",
   "metadata": {},
   "outputs": [
    {
     "data": {
      "text/html": [
       "<div>\n",
       "<style scoped>\n",
       "    .dataframe tbody tr th:only-of-type {\n",
       "        vertical-align: middle;\n",
       "    }\n",
       "\n",
       "    .dataframe tbody tr th {\n",
       "        vertical-align: top;\n",
       "    }\n",
       "\n",
       "    .dataframe thead th {\n",
       "        text-align: right;\n",
       "    }\n",
       "</style>\n",
       "<table border=\"1\" class=\"dataframe\">\n",
       "  <thead>\n",
       "    <tr style=\"text-align: right;\">\n",
       "      <th></th>\n",
       "      <th>date</th>\n",
       "      <th>wm_yr_wk</th>\n",
       "      <th>weekday</th>\n",
       "      <th>wday</th>\n",
       "      <th>month</th>\n",
       "      <th>year</th>\n",
       "      <th>d</th>\n",
       "      <th>event_name_1</th>\n",
       "      <th>event_type_1</th>\n",
       "      <th>event_name_2</th>\n",
       "      <th>event_type_2</th>\n",
       "      <th>snap_CA</th>\n",
       "      <th>snap_TX</th>\n",
       "      <th>snap_WI</th>\n",
       "    </tr>\n",
       "  </thead>\n",
       "  <tbody>\n",
       "    <tr>\n",
       "      <th>1964</th>\n",
       "      <td>2016-06-15</td>\n",
       "      <td>11620</td>\n",
       "      <td>Wednesday</td>\n",
       "      <td>5</td>\n",
       "      <td>6</td>\n",
       "      <td>2016</td>\n",
       "      <td>d_1965</td>\n",
       "      <td>NaN</td>\n",
       "      <td>NaN</td>\n",
       "      <td>NaN</td>\n",
       "      <td>NaN</td>\n",
       "      <td>0</td>\n",
       "      <td>1</td>\n",
       "      <td>1</td>\n",
       "    </tr>\n",
       "    <tr>\n",
       "      <th>1965</th>\n",
       "      <td>2016-06-16</td>\n",
       "      <td>11620</td>\n",
       "      <td>Thursday</td>\n",
       "      <td>6</td>\n",
       "      <td>6</td>\n",
       "      <td>2016</td>\n",
       "      <td>d_1966</td>\n",
       "      <td>NaN</td>\n",
       "      <td>NaN</td>\n",
       "      <td>NaN</td>\n",
       "      <td>NaN</td>\n",
       "      <td>0</td>\n",
       "      <td>0</td>\n",
       "      <td>0</td>\n",
       "    </tr>\n",
       "    <tr>\n",
       "      <th>1966</th>\n",
       "      <td>2016-06-17</td>\n",
       "      <td>11620</td>\n",
       "      <td>Friday</td>\n",
       "      <td>7</td>\n",
       "      <td>6</td>\n",
       "      <td>2016</td>\n",
       "      <td>d_1967</td>\n",
       "      <td>NaN</td>\n",
       "      <td>NaN</td>\n",
       "      <td>NaN</td>\n",
       "      <td>NaN</td>\n",
       "      <td>0</td>\n",
       "      <td>0</td>\n",
       "      <td>0</td>\n",
       "    </tr>\n",
       "    <tr>\n",
       "      <th>1967</th>\n",
       "      <td>2016-06-18</td>\n",
       "      <td>11621</td>\n",
       "      <td>Saturday</td>\n",
       "      <td>1</td>\n",
       "      <td>6</td>\n",
       "      <td>2016</td>\n",
       "      <td>d_1968</td>\n",
       "      <td>NaN</td>\n",
       "      <td>NaN</td>\n",
       "      <td>NaN</td>\n",
       "      <td>NaN</td>\n",
       "      <td>0</td>\n",
       "      <td>0</td>\n",
       "      <td>0</td>\n",
       "    </tr>\n",
       "    <tr>\n",
       "      <th>1968</th>\n",
       "      <td>2016-06-19</td>\n",
       "      <td>11621</td>\n",
       "      <td>Sunday</td>\n",
       "      <td>2</td>\n",
       "      <td>6</td>\n",
       "      <td>2016</td>\n",
       "      <td>d_1969</td>\n",
       "      <td>NBAFinalsEnd</td>\n",
       "      <td>Sporting</td>\n",
       "      <td>Father's day</td>\n",
       "      <td>Cultural</td>\n",
       "      <td>0</td>\n",
       "      <td>0</td>\n",
       "      <td>0</td>\n",
       "    </tr>\n",
       "  </tbody>\n",
       "</table>\n",
       "</div>"
      ],
      "text/plain": [
       "            date  wm_yr_wk    weekday  wday  month  year       d  \\\n",
       "1964  2016-06-15     11620  Wednesday     5      6  2016  d_1965   \n",
       "1965  2016-06-16     11620   Thursday     6      6  2016  d_1966   \n",
       "1966  2016-06-17     11620     Friday     7      6  2016  d_1967   \n",
       "1967  2016-06-18     11621   Saturday     1      6  2016  d_1968   \n",
       "1968  2016-06-19     11621     Sunday     2      6  2016  d_1969   \n",
       "\n",
       "      event_name_1 event_type_1  event_name_2 event_type_2  snap_CA  snap_TX  \\\n",
       "1964           NaN          NaN           NaN          NaN        0        1   \n",
       "1965           NaN          NaN           NaN          NaN        0        0   \n",
       "1966           NaN          NaN           NaN          NaN        0        0   \n",
       "1967           NaN          NaN           NaN          NaN        0        0   \n",
       "1968  NBAFinalsEnd     Sporting  Father's day     Cultural        0        0   \n",
       "\n",
       "      snap_WI  \n",
       "1964        1  \n",
       "1965        0  \n",
       "1966        0  \n",
       "1967        0  \n",
       "1968        0  "
      ]
     },
     "execution_count": 128,
     "metadata": {},
     "output_type": "execute_result"
    }
   ],
   "source": [
    "calendar.tail()"
   ]
  },
  {
   "cell_type": "code",
   "execution_count": 129,
   "id": "ea1b719e",
   "metadata": {},
   "outputs": [
    {
     "name": "stdout",
     "output_type": "stream",
     "text": [
      "<class 'pandas.core.frame.DataFrame'>\n",
      "RangeIndex: 1969 entries, 0 to 1968\n",
      "Data columns (total 14 columns):\n",
      " #   Column        Non-Null Count  Dtype \n",
      "---  ------        --------------  ----- \n",
      " 0   date          1969 non-null   object\n",
      " 1   wm_yr_wk      1969 non-null   int64 \n",
      " 2   weekday       1969 non-null   object\n",
      " 3   wday          1969 non-null   int64 \n",
      " 4   month         1969 non-null   int64 \n",
      " 5   year          1969 non-null   int64 \n",
      " 6   d             1969 non-null   object\n",
      " 7   event_name_1  162 non-null    object\n",
      " 8   event_type_1  162 non-null    object\n",
      " 9   event_name_2  5 non-null      object\n",
      " 10  event_type_2  5 non-null      object\n",
      " 11  snap_CA       1969 non-null   int64 \n",
      " 12  snap_TX       1969 non-null   int64 \n",
      " 13  snap_WI       1969 non-null   int64 \n",
      "dtypes: int64(7), object(7)\n",
      "memory usage: 215.5+ KB\n"
     ]
    }
   ],
   "source": [
    "calendar.info()"
   ]
  },
  {
   "cell_type": "code",
   "execution_count": 130,
   "id": "3b2ea335",
   "metadata": {},
   "outputs": [
    {
     "data": {
      "text/plain": [
       "array([2011, 2012, 2013, 2014, 2015, 2016])"
      ]
     },
     "execution_count": 130,
     "metadata": {},
     "output_type": "execute_result"
    }
   ],
   "source": [
    "calendar['year'].unique()"
   ]
  },
  {
   "cell_type": "code",
   "execution_count": 131,
   "id": "68f01b6b",
   "metadata": {},
   "outputs": [
    {
     "data": {
      "text/plain": [
       "array([nan, 'SuperBowl', 'ValentinesDay', 'PresidentsDay', 'LentStart',\n",
       "       'LentWeek2', 'StPatricksDay', 'Purim End', 'OrthodoxEaster',\n",
       "       'Pesach End', 'Cinco De Mayo', \"Mother's day\", 'MemorialDay',\n",
       "       'NBAFinalsStart', 'NBAFinalsEnd', \"Father's day\",\n",
       "       'IndependenceDay', 'Ramadan starts', 'Eid al-Fitr', 'LaborDay',\n",
       "       'ColumbusDay', 'Halloween', 'EidAlAdha', 'VeteransDay',\n",
       "       'Thanksgiving', 'Christmas', 'Chanukah End', 'NewYear',\n",
       "       'OrthodoxChristmas', 'MartinLutherKingDay', 'Easter'], dtype=object)"
      ]
     },
     "execution_count": 131,
     "metadata": {},
     "output_type": "execute_result"
    }
   ],
   "source": [
    "calendar['event_name_1'].unique()"
   ]
  },
  {
   "cell_type": "code",
   "execution_count": 132,
   "id": "2b065d27",
   "metadata": {},
   "outputs": [
    {
     "data": {
      "text/plain": [
       "array([nan, 'Sporting', 'Cultural', 'National', 'Religious'], dtype=object)"
      ]
     },
     "execution_count": 132,
     "metadata": {},
     "output_type": "execute_result"
    }
   ],
   "source": [
    "calendar['event_type_1'].unique()"
   ]
  },
  {
   "cell_type": "code",
   "execution_count": 134,
   "id": "2df3bcb7",
   "metadata": {},
   "outputs": [
    {
     "data": {
      "text/plain": [
       "event_type_1  event_name_1       \n",
       "Cultural      Cinco De Mayo          5\n",
       "              Easter                 5\n",
       "              Father's day           4\n",
       "              Halloween              5\n",
       "              Mother's day           6\n",
       "              StPatricksDay          6\n",
       "              ValentinesDay          6\n",
       "National      Christmas              5\n",
       "              ColumbusDay            5\n",
       "              IndependenceDay        5\n",
       "              LaborDay               5\n",
       "              MartinLutherKingDay    5\n",
       "              MemorialDay            6\n",
       "              NewYear                5\n",
       "              PresidentsDay          6\n",
       "              Thanksgiving           5\n",
       "              VeteransDay            5\n",
       "Religious     Chanukah End           5\n",
       "              Eid al-Fitr            5\n",
       "              EidAlAdha              5\n",
       "              LentStart              6\n",
       "              LentWeek2              6\n",
       "              OrthodoxChristmas      5\n",
       "              OrthodoxEaster         5\n",
       "              Pesach End             6\n",
       "              Purim End              6\n",
       "              Ramadan starts         6\n",
       "Sporting      NBAFinalsEnd           6\n",
       "              NBAFinalsStart         6\n",
       "              SuperBowl              6\n",
       "dtype: int64"
      ]
     },
     "execution_count": 134,
     "metadata": {},
     "output_type": "execute_result"
    }
   ],
   "source": [
    "events_count = calendar.groupby(['event_type_1','event_name_1']).size()\n",
    "events_count"
   ]
  },
  {
   "cell_type": "code",
   "execution_count": 135,
   "id": "5862d247",
   "metadata": {},
   "outputs": [
    {
     "data": {
      "text/plain": [
       "event_type_1\n",
       "Cultural     37\n",
       "National     52\n",
       "Religious    55\n",
       "Sporting     18\n",
       "dtype: int64"
      ]
     },
     "execution_count": 135,
     "metadata": {},
     "output_type": "execute_result"
    }
   ],
   "source": [
    "event_type_count = calendar.groupby(['event_type_1']).size()\n",
    "event_type_count"
   ]
  },
  {
   "cell_type": "code",
   "execution_count": 136,
   "id": "544db227",
   "metadata": {},
   "outputs": [
    {
     "data": {
      "text/plain": [
       "event_type_2  event_name_2  \n",
       "Cultural      Cinco De Mayo     1\n",
       "              Easter            1\n",
       "              Father's day      2\n",
       "Religious     OrthodoxEaster    1\n",
       "dtype: int64"
      ]
     },
     "execution_count": 136,
     "metadata": {},
     "output_type": "execute_result"
    }
   ],
   "source": [
    "event_type2_count = calendar.groupby(['event_type_2','event_name_2']).size()\n",
    "event_type2_count"
   ]
  },
  {
   "cell_type": "markdown",
   "id": "e93e8186",
   "metadata": {},
   "source": [
    "##### SNAP - The Supplemental Nutrition Assistance Programme \n",
    "- To help low-income people and families buy food\n",
    "- Supplemental Nutrition Assistance Programme (SNAP) offers electronic benefit transfer (EBT) cards to qualified households\n",
    "- These cards can be used at approved retailers to purchase a range of food items, with the exception of hot prepared foods, alcohol, tobacco, and vitamins and supplements. \n",
    "- Each state runs its own SNAP programme in accordance with federal rules, and eligibility is established by taking into account criteria including household income, expenses, and size"
   ]
  },
  {
   "cell_type": "code",
   "execution_count": 234,
   "id": "519c47c0",
   "metadata": {},
   "outputs": [
    {
     "data": {
      "text/plain": [
       "650"
      ]
     },
     "execution_count": 234,
     "metadata": {},
     "output_type": "execute_result"
    }
   ],
   "source": [
    "snap_CA = sum(calendar['snap_CA'])\n",
    "snap_CA"
   ]
  },
  {
   "cell_type": "code",
   "execution_count": 235,
   "id": "da74f93b",
   "metadata": {},
   "outputs": [
    {
     "data": {
      "text/plain": [
       "650"
      ]
     },
     "execution_count": 235,
     "metadata": {},
     "output_type": "execute_result"
    }
   ],
   "source": [
    "snap_TX = sum(calendar['snap_TX'])\n",
    "snap_TX"
   ]
  },
  {
   "cell_type": "code",
   "execution_count": 233,
   "id": "53e6c608",
   "metadata": {},
   "outputs": [
    {
     "data": {
      "text/plain": [
       "650"
      ]
     },
     "execution_count": 233,
     "metadata": {},
     "output_type": "execute_result"
    }
   ],
   "source": [
    "snap_WI= calendar['snap_WI'].sum()\n",
    "snap_WI"
   ]
  },
  {
   "cell_type": "markdown",
   "id": "d59cd370",
   "metadata": {},
   "source": [
    "# Relationship"
   ]
  },
  {
   "cell_type": "code",
   "execution_count": 50,
   "id": "065643fd",
   "metadata": {},
   "outputs": [
    {
     "name": "stderr",
     "output_type": "stream",
     "text": [
      "/Users/chloeang/opt/anaconda3/lib/python3.9/site-packages/IPython/core/interactiveshell.py:3444: DtypeWarning: Columns (15,16,17,18) have mixed types.Specify dtype option on import or set low_memory=False.\n",
      "  exec(code_obj, self.user_global_ns, self.user_ns)\n"
     ]
    }
   ],
   "source": [
    "hobbies = pd.read_csv('hobbies_df')"
   ]
  },
  {
   "cell_type": "code",
   "execution_count": 42,
   "id": "5c7f6e5c",
   "metadata": {},
   "outputs": [],
   "source": [
    "hobbies1 = pd.read_csv('final_sell_calendar_hobbies.csv')"
   ]
  },
  {
   "cell_type": "code",
   "execution_count": 51,
   "id": "bfe63067",
   "metadata": {},
   "outputs": [
    {
     "data": {
      "text/plain": [
       "array([2011, 2012, 2013, 2014, 2015, 2016])"
      ]
     },
     "execution_count": 51,
     "metadata": {},
     "output_type": "execute_result"
    }
   ],
   "source": [
    "hobbies['year'].unique()"
   ]
  },
  {
   "cell_type": "code",
   "execution_count": 52,
   "id": "6f6b4a2f",
   "metadata": {},
   "outputs": [],
   "source": [
    "hobbies['date'] = pd.to_datetime(hobbies['date'])"
   ]
  },
  {
   "cell_type": "code",
   "execution_count": 53,
   "id": "2dd7f142",
   "metadata": {},
   "outputs": [],
   "source": [
    "daily_sales = hobbies.groupby('date')['sold'].sum()"
   ]
  },
  {
   "cell_type": "code",
   "execution_count": 54,
   "id": "1e59664c",
   "metadata": {},
   "outputs": [
    {
     "data": {
      "text/plain": [
       "date\n",
       "2011-01-29    3764\n",
       "2011-01-30    3357\n",
       "2011-01-31    2682\n",
       "2011-02-01    2669\n",
       "2011-02-02    1814\n",
       "              ... \n",
       "2016-04-20    3472\n",
       "2016-04-21    3353\n",
       "2016-04-22    4085\n",
       "2016-04-23    4787\n",
       "2016-04-24    4683\n",
       "Name: sold, Length: 1913, dtype: int64"
      ]
     },
     "execution_count": 54,
     "metadata": {},
     "output_type": "execute_result"
    }
   ],
   "source": [
    "daily_sales"
   ]
  },
  {
   "cell_type": "code",
   "execution_count": 55,
   "id": "5413310c",
   "metadata": {},
   "outputs": [
    {
     "data": {
      "text/plain": [
       "date\n",
       "2011-12-25    0\n",
       "Name: sold, dtype: int64"
      ]
     },
     "execution_count": 55,
     "metadata": {},
     "output_type": "execute_result"
    }
   ],
   "source": [
    "daily_sales[daily_sales.index == '2011-12-25']"
   ]
  },
  {
   "cell_type": "code",
   "execution_count": 58,
   "id": "bf5d22d5",
   "metadata": {},
   "outputs": [
    {
     "data": {
      "image/png": "[encoded data removed]",
      "text/plain": [
       "<Figure size 1080x432 with 1 Axes>"
      ]
     },
     "metadata": {
      "needs_background": "light"
     },
     "output_type": "display_data"
    }
   ],
   "source": [
    "plt.figure(figsize=(15, 6))\n",
    "plt.plot(daily_sales.index, daily_sales.values)\n",
    "plt.title('Total Sales per Day')\n",
    "plt.xlabel('Date')\n",
    "plt.ylabel('Total Sales')\n",
    "plt.xticks(rotation=45)\n",
    "plt.grid(True)\n",
    "plt.tight_layout()\n",
    "plt.show()"
   ]
  },
  {
   "cell_type": "code",
   "execution_count": 61,
   "id": "d9eb6259",
   "metadata": {},
   "outputs": [],
   "source": [
    "hobbies_try_1 = hobbies[['date','event_type_1','sold','sell_price']]"
   ]
  },
  {
   "cell_type": "code",
   "execution_count": 64,
   "id": "47bbeb17",
   "metadata": {},
   "outputs": [
    {
     "data": {
      "text/plain": [
       "array([nan, 'Sporting', 'Cultural', 'National', 'Religious'], dtype=object)"
      ]
     },
     "execution_count": 64,
     "metadata": {},
     "output_type": "execute_result"
    }
   ],
   "source": [
    "hobbies_try_1['event_type_1'].unique()"
   ]
  },
  {
   "cell_type": "code",
   "execution_count": 66,
   "id": "8ca063ff",
   "metadata": {},
   "outputs": [
    {
     "name": "stderr",
     "output_type": "stream",
     "text": [
      "/var/folders/7h/s4cspbv95x98l3h5nvklx3ym0000gn/T/ipykernel_15281/849805213.py:1: SettingWithCopyWarning: \n",
      "A value is trying to be set on a copy of a slice from a DataFrame.\n",
      "Try using .loc[row_indexer,col_indexer] = value instead\n",
      "\n",
      "See the caveats in the documentation: https://pandas.pydata.org/pandas-docs/stable/user_guide/indexing.html#returning-a-view-versus-a-copy\n",
      "  hobbies_try_1['Sporting'] = hobbies_try_1['event_type_1'] == 'Sporting'\n"
     ]
    }
   ],
   "source": [
    "hobbies_try_1['Sporting'] = hobbies_try_1['event_type_1'] == 'Sporting'\n",
    "hobbies_try_1['Sporting'] = hobbies_try_1['Sporting'].astype(int)\n",
    "hobbies_try_1['Cultural'] = hobbies_try_1['event_type_1'] == 'Cultural'\n",
    "hobbies_try_1['Cultural'] = hobbies_try_1['Cultural'].astype(int)\n",
    "hobbies_try_1['National'] = hobbies_try_1['event_type_1'] == 'National'\n",
    "hobbies_try_1['National'] = hobbies_try_1['National'].astype(int)\n",
    "hobbies_try_1['Religious'] = hobbies_try_1['event_type_1'] == 'Religious'\n",
    "hobbies_try_1['Religious'] = hobbies_try_1['Religious'].astype(int)"
   ]
  },
  {
   "cell_type": "code",
   "execution_count": 81,
   "id": "985b7c03",
   "metadata": {},
   "outputs": [],
   "source": [
    "hobbies_try_1 = hobbies_try_1.drop(hobbies_try_1.columns[1],axis=1)"
   ]
  },
  {
   "cell_type": "code",
   "execution_count": 85,
   "id": "695276e8",
   "metadata": {},
   "outputs": [],
   "source": [
    "hobbies_try_2 = hobbies_try_1.set_index(hobbies_try_1.columns[0])"
   ]
  },
  {
   "cell_type": "code",
   "execution_count": 88,
   "id": "93fb1056",
   "metadata": {},
   "outputs": [
    {
     "data": {
      "text/html": [
       "<div>\n",
       "<style scoped>\n",
       "    .dataframe tbody tr th:only-of-type {\n",
       "        vertical-align: middle;\n",
       "    }\n",
       "\n",
       "    .dataframe tbody tr th {\n",
       "        vertical-align: top;\n",
       "    }\n",
       "\n",
       "    .dataframe thead th {\n",
       "        text-align: right;\n",
       "    }\n",
       "</style>\n",
       "<table border=\"1\" class=\"dataframe\">\n",
       "  <thead>\n",
       "    <tr style=\"text-align: right;\">\n",
       "      <th></th>\n",
       "      <th>sold</th>\n",
       "      <th>sell_price</th>\n",
       "      <th>Sporting</th>\n",
       "      <th>Cultural</th>\n",
       "      <th>National</th>\n",
       "      <th>Religious</th>\n",
       "    </tr>\n",
       "    <tr>\n",
       "      <th>date</th>\n",
       "      <th></th>\n",
       "      <th></th>\n",
       "      <th></th>\n",
       "      <th></th>\n",
       "      <th></th>\n",
       "      <th></th>\n",
       "    </tr>\n",
       "  </thead>\n",
       "  <tbody>\n",
       "    <tr>\n",
       "      <th>2011-01-29</th>\n",
       "      <td>12</td>\n",
       "      <td>0.46</td>\n",
       "      <td>0</td>\n",
       "      <td>0</td>\n",
       "      <td>0</td>\n",
       "      <td>0</td>\n",
       "    </tr>\n",
       "    <tr>\n",
       "      <th>2011-01-29</th>\n",
       "      <td>2</td>\n",
       "      <td>1.56</td>\n",
       "      <td>0</td>\n",
       "      <td>0</td>\n",
       "      <td>0</td>\n",
       "      <td>0</td>\n",
       "    </tr>\n",
       "    <tr>\n",
       "      <th>2011-01-29</th>\n",
       "      <td>0</td>\n",
       "      <td>3.17</td>\n",
       "      <td>0</td>\n",
       "      <td>0</td>\n",
       "      <td>0</td>\n",
       "      <td>0</td>\n",
       "    </tr>\n",
       "    <tr>\n",
       "      <th>2011-01-29</th>\n",
       "      <td>0</td>\n",
       "      <td>5.98</td>\n",
       "      <td>0</td>\n",
       "      <td>0</td>\n",
       "      <td>0</td>\n",
       "      <td>0</td>\n",
       "    </tr>\n",
       "    <tr>\n",
       "      <th>2011-01-29</th>\n",
       "      <td>4</td>\n",
       "      <td>0.70</td>\n",
       "      <td>0</td>\n",
       "      <td>0</td>\n",
       "      <td>0</td>\n",
       "      <td>0</td>\n",
       "    </tr>\n",
       "    <tr>\n",
       "      <th>...</th>\n",
       "      <td>...</td>\n",
       "      <td>...</td>\n",
       "      <td>...</td>\n",
       "      <td>...</td>\n",
       "      <td>...</td>\n",
       "      <td>...</td>\n",
       "    </tr>\n",
       "    <tr>\n",
       "      <th>2016-04-24</th>\n",
       "      <td>0</td>\n",
       "      <td>2.88</td>\n",
       "      <td>0</td>\n",
       "      <td>0</td>\n",
       "      <td>0</td>\n",
       "      <td>0</td>\n",
       "    </tr>\n",
       "    <tr>\n",
       "      <th>2016-04-24</th>\n",
       "      <td>0</td>\n",
       "      <td>1.97</td>\n",
       "      <td>0</td>\n",
       "      <td>0</td>\n",
       "      <td>0</td>\n",
       "      <td>0</td>\n",
       "    </tr>\n",
       "    <tr>\n",
       "      <th>2016-04-24</th>\n",
       "      <td>0</td>\n",
       "      <td>0.97</td>\n",
       "      <td>0</td>\n",
       "      <td>0</td>\n",
       "      <td>0</td>\n",
       "      <td>0</td>\n",
       "    </tr>\n",
       "    <tr>\n",
       "      <th>2016-04-24</th>\n",
       "      <td>0</td>\n",
       "      <td>0.88</td>\n",
       "      <td>0</td>\n",
       "      <td>0</td>\n",
       "      <td>0</td>\n",
       "      <td>0</td>\n",
       "    </tr>\n",
       "    <tr>\n",
       "      <th>2016-04-24</th>\n",
       "      <td>0</td>\n",
       "      <td>0.97</td>\n",
       "      <td>0</td>\n",
       "      <td>0</td>\n",
       "      <td>0</td>\n",
       "      <td>0</td>\n",
       "    </tr>\n",
       "  </tbody>\n",
       "</table>\n",
       "<p>8642685 rows × 6 columns</p>\n",
       "</div>"
      ],
      "text/plain": [
       "            sold  sell_price  Sporting  Cultural  National  Religious\n",
       "date                                                                 \n",
       "2011-01-29    12        0.46         0         0         0          0\n",
       "2011-01-29     2        1.56         0         0         0          0\n",
       "2011-01-29     0        3.17         0         0         0          0\n",
       "2011-01-29     0        5.98         0         0         0          0\n",
       "2011-01-29     4        0.70         0         0         0          0\n",
       "...          ...         ...       ...       ...       ...        ...\n",
       "2016-04-24     0        2.88         0         0         0          0\n",
       "2016-04-24     0        1.97         0         0         0          0\n",
       "2016-04-24     0        0.97         0         0         0          0\n",
       "2016-04-24     0        0.88         0         0         0          0\n",
       "2016-04-24     0        0.97         0         0         0          0\n",
       "\n",
       "[8642685 rows x 6 columns]"
      ]
     },
     "execution_count": 88,
     "metadata": {},
     "output_type": "execute_result"
    }
   ],
   "source": [
    "hobbies_try_2 = hobbies_try_2.dropna(subset=['sell_price'])\n",
    "hobbies_try_2 "
   ]
  },
  {
   "cell_type": "code",
   "execution_count": 83,
   "id": "88c9cb4e",
   "metadata": {},
   "outputs": [],
   "source": [
    "import statsmodels.api as sm"
   ]
  },
  {
   "cell_type": "code",
   "execution_count": 104,
   "id": "75f810a9",
   "metadata": {},
   "outputs": [
    {
     "name": "stdout",
     "output_type": "stream",
     "text": [
      "                            OLS Regression Results                            \n",
      "==============================================================================\n",
      "Dep. Variable:                   sold   R-squared:                       0.011\n",
      "Model:                            OLS   Adj. R-squared:                  0.011\n",
      "Method:                 Least Squares   F-statistic:                 1.933e+04\n",
      "Date:                Sat, 23 Mar 2024   Prob (F-statistic):               0.00\n",
      "Time:                        17:56:33   Log-Likelihood:            -1.9245e+07\n",
      "No. Observations:             8642685   AIC:                         3.849e+07\n",
      "Df Residuals:                 8642679   BIC:                         3.849e+07\n",
      "Df Model:                           5                                         \n",
      "Covariance Type:            nonrobust                                         \n",
      "==============================================================================\n",
      "                 coef    std err          t      P>|t|      [0.025      0.975]\n",
      "------------------------------------------------------------------------------\n",
      "const          0.9742      0.001    840.128      0.000       0.972       0.977\n",
      "sell_price    -0.0489      0.000   -308.653      0.000      -0.049      -0.049\n",
      "Cultural      -0.0108      0.006     -1.890      0.059      -0.022       0.000\n",
      "Sporting      -0.0048      0.009     -0.559      0.576      -0.021       0.012\n",
      "National      -0.1752      0.005    -37.174      0.000      -0.184      -0.166\n",
      "Religious     -0.0066      0.005     -1.388      0.165      -0.016       0.003\n",
      "==============================================================================\n",
      "Omnibus:                 14851529.922   Durbin-Watson:                   1.894\n",
      "Prob(Omnibus):                  0.000   Jarque-Bera (JB):      42920608719.534\n",
      "Skew:                          11.582   Prob(JB):                         0.00\n",
      "Kurtosis:                     347.457   Cond. No.                         80.6\n",
      "==============================================================================\n",
      "\n",
      "Notes:\n",
      "[1] Standard Errors assume that the covariance matrix of the errors is correctly specified.\n"
     ]
    }
   ],
   "source": [
    "hobbies_try_2  = sm.add_constant(hobbies_try_2 )\n",
    "# Fit linear regression model\n",
    "model = sm.OLS(endog=hobbies_try_2 ['sold'],exog=hobbies_try_2[['const', 'sell_price', 'Cultural','Sporting','National','Religious']]).fit()\n",
    "# Print model summary\n",
    "print(model.summary())"
   ]
  },
  {
   "cell_type": "code",
   "execution_count": 106,
   "id": "d34a13c0",
   "metadata": {},
   "outputs": [],
   "source": [
    "foods = pd.read_csv('final_sell_calendar_foods2.csv')"
   ]
  },
  {
   "cell_type": "code",
   "execution_count": 107,
   "id": "258b8d92",
   "metadata": {},
   "outputs": [
    {
     "data": {
      "text/html": [
       "<div>\n",
       "<style scoped>\n",
       "    .dataframe tbody tr th:only-of-type {\n",
       "        vertical-align: middle;\n",
       "    }\n",
       "\n",
       "    .dataframe tbody tr th {\n",
       "        vertical-align: top;\n",
       "    }\n",
       "\n",
       "    .dataframe thead th {\n",
       "        text-align: right;\n",
       "    }\n",
       "</style>\n",
       "<table border=\"1\" class=\"dataframe\">\n",
       "  <thead>\n",
       "    <tr style=\"text-align: right;\">\n",
       "      <th></th>\n",
       "      <th>Unnamed: 0</th>\n",
       "      <th>id</th>\n",
       "      <th>item_id</th>\n",
       "      <th>dept_id</th>\n",
       "      <th>cat_id</th>\n",
       "      <th>store_id</th>\n",
       "      <th>date</th>\n",
       "      <th>month</th>\n",
       "      <th>year</th>\n",
       "      <th>wm_yr_wk</th>\n",
       "      <th>sell_price</th>\n",
       "      <th>sold</th>\n",
       "    </tr>\n",
       "  </thead>\n",
       "  <tbody>\n",
       "    <tr>\n",
       "      <th>0</th>\n",
       "      <td>1612</td>\n",
       "      <td>FOODS_1_001_CA_1_validation</td>\n",
       "      <td>FOODS_1_001</td>\n",
       "      <td>FOODS_1</td>\n",
       "      <td>FOODS</td>\n",
       "      <td>CA_1</td>\n",
       "      <td>2011-01-29</td>\n",
       "      <td>1</td>\n",
       "      <td>2011</td>\n",
       "      <td>11101</td>\n",
       "      <td>2.00</td>\n",
       "      <td>3</td>\n",
       "    </tr>\n",
       "    <tr>\n",
       "      <th>1</th>\n",
       "      <td>1613</td>\n",
       "      <td>FOODS_1_002_CA_1_validation</td>\n",
       "      <td>FOODS_1_002</td>\n",
       "      <td>FOODS_1</td>\n",
       "      <td>FOODS</td>\n",
       "      <td>CA_1</td>\n",
       "      <td>2011-01-29</td>\n",
       "      <td>1</td>\n",
       "      <td>2011</td>\n",
       "      <td>11101</td>\n",
       "      <td>7.88</td>\n",
       "      <td>0</td>\n",
       "    </tr>\n",
       "    <tr>\n",
       "      <th>2</th>\n",
       "      <td>1614</td>\n",
       "      <td>FOODS_1_003_CA_1_validation</td>\n",
       "      <td>FOODS_1_003</td>\n",
       "      <td>FOODS_1</td>\n",
       "      <td>FOODS</td>\n",
       "      <td>CA_1</td>\n",
       "      <td>2011-01-29</td>\n",
       "      <td>1</td>\n",
       "      <td>2011</td>\n",
       "      <td>11101</td>\n",
       "      <td>2.88</td>\n",
       "      <td>0</td>\n",
       "    </tr>\n",
       "    <tr>\n",
       "      <th>3</th>\n",
       "      <td>1615</td>\n",
       "      <td>FOODS_1_004_CA_1_validation</td>\n",
       "      <td>FOODS_1_004</td>\n",
       "      <td>FOODS_1</td>\n",
       "      <td>FOODS</td>\n",
       "      <td>CA_1</td>\n",
       "      <td>2011-01-29</td>\n",
       "      <td>1</td>\n",
       "      <td>2011</td>\n",
       "      <td>11101</td>\n",
       "      <td>NaN</td>\n",
       "      <td>0</td>\n",
       "    </tr>\n",
       "    <tr>\n",
       "      <th>4</th>\n",
       "      <td>1616</td>\n",
       "      <td>FOODS_1_005_CA_1_validation</td>\n",
       "      <td>FOODS_1_005</td>\n",
       "      <td>FOODS_1</td>\n",
       "      <td>FOODS</td>\n",
       "      <td>CA_1</td>\n",
       "      <td>2011-01-29</td>\n",
       "      <td>1</td>\n",
       "      <td>2011</td>\n",
       "      <td>11101</td>\n",
       "      <td>2.94</td>\n",
       "      <td>3</td>\n",
       "    </tr>\n",
       "    <tr>\n",
       "      <th>...</th>\n",
       "      <td>...</td>\n",
       "      <td>...</td>\n",
       "      <td>...</td>\n",
       "      <td>...</td>\n",
       "      <td>...</td>\n",
       "      <td>...</td>\n",
       "      <td>...</td>\n",
       "      <td>...</td>\n",
       "      <td>...</td>\n",
       "      <td>...</td>\n",
       "      <td>...</td>\n",
       "      <td>...</td>\n",
       "    </tr>\n",
       "    <tr>\n",
       "      <th>27489805</th>\n",
       "      <td>58327365</td>\n",
       "      <td>FOODS_3_823_WI_3_validation</td>\n",
       "      <td>FOODS_3_823</td>\n",
       "      <td>FOODS_3</td>\n",
       "      <td>FOODS</td>\n",
       "      <td>WI_3</td>\n",
       "      <td>2016-04-24</td>\n",
       "      <td>4</td>\n",
       "      <td>2016</td>\n",
       "      <td>11613</td>\n",
       "      <td>2.98</td>\n",
       "      <td>1</td>\n",
       "    </tr>\n",
       "    <tr>\n",
       "      <th>27489806</th>\n",
       "      <td>58327366</td>\n",
       "      <td>FOODS_3_824_WI_3_validation</td>\n",
       "      <td>FOODS_3_824</td>\n",
       "      <td>FOODS_3</td>\n",
       "      <td>FOODS</td>\n",
       "      <td>WI_3</td>\n",
       "      <td>2016-04-24</td>\n",
       "      <td>4</td>\n",
       "      <td>2016</td>\n",
       "      <td>11613</td>\n",
       "      <td>2.48</td>\n",
       "      <td>0</td>\n",
       "    </tr>\n",
       "    <tr>\n",
       "      <th>27489807</th>\n",
       "      <td>58327367</td>\n",
       "      <td>FOODS_3_825_WI_3_validation</td>\n",
       "      <td>FOODS_3_825</td>\n",
       "      <td>FOODS_3</td>\n",
       "      <td>FOODS</td>\n",
       "      <td>WI_3</td>\n",
       "      <td>2016-04-24</td>\n",
       "      <td>4</td>\n",
       "      <td>2016</td>\n",
       "      <td>11613</td>\n",
       "      <td>3.98</td>\n",
       "      <td>0</td>\n",
       "    </tr>\n",
       "    <tr>\n",
       "      <th>27489808</th>\n",
       "      <td>58327368</td>\n",
       "      <td>FOODS_3_826_WI_3_validation</td>\n",
       "      <td>FOODS_3_826</td>\n",
       "      <td>FOODS_3</td>\n",
       "      <td>FOODS</td>\n",
       "      <td>WI_3</td>\n",
       "      <td>2016-04-24</td>\n",
       "      <td>4</td>\n",
       "      <td>2016</td>\n",
       "      <td>11613</td>\n",
       "      <td>1.28</td>\n",
       "      <td>3</td>\n",
       "    </tr>\n",
       "    <tr>\n",
       "      <th>27489809</th>\n",
       "      <td>58327369</td>\n",
       "      <td>FOODS_3_827_WI_3_validation</td>\n",
       "      <td>FOODS_3_827</td>\n",
       "      <td>FOODS_3</td>\n",
       "      <td>FOODS</td>\n",
       "      <td>WI_3</td>\n",
       "      <td>2016-04-24</td>\n",
       "      <td>4</td>\n",
       "      <td>2016</td>\n",
       "      <td>11613</td>\n",
       "      <td>1.00</td>\n",
       "      <td>0</td>\n",
       "    </tr>\n",
       "  </tbody>\n",
       "</table>\n",
       "<p>27489810 rows × 12 columns</p>\n",
       "</div>"
      ],
      "text/plain": [
       "          Unnamed: 0                           id      item_id  dept_id  \\\n",
       "0               1612  FOODS_1_001_CA_1_validation  FOODS_1_001  FOODS_1   \n",
       "1               1613  FOODS_1_002_CA_1_validation  FOODS_1_002  FOODS_1   \n",
       "2               1614  FOODS_1_003_CA_1_validation  FOODS_1_003  FOODS_1   \n",
       "3               1615  FOODS_1_004_CA_1_validation  FOODS_1_004  FOODS_1   \n",
       "4               1616  FOODS_1_005_CA_1_validation  FOODS_1_005  FOODS_1   \n",
       "...              ...                          ...          ...      ...   \n",
       "27489805    58327365  FOODS_3_823_WI_3_validation  FOODS_3_823  FOODS_3   \n",
       "27489806    58327366  FOODS_3_824_WI_3_validation  FOODS_3_824  FOODS_3   \n",
       "27489807    58327367  FOODS_3_825_WI_3_validation  FOODS_3_825  FOODS_3   \n",
       "27489808    58327368  FOODS_3_826_WI_3_validation  FOODS_3_826  FOODS_3   \n",
       "27489809    58327369  FOODS_3_827_WI_3_validation  FOODS_3_827  FOODS_3   \n",
       "\n",
       "         cat_id store_id        date  month  year  wm_yr_wk  sell_price  sold  \n",
       "0         FOODS     CA_1  2011-01-29      1  2011     11101        2.00     3  \n",
       "1         FOODS     CA_1  2011-01-29      1  2011     11101        7.88     0  \n",
       "2         FOODS     CA_1  2011-01-29      1  2011     11101        2.88     0  \n",
       "3         FOODS     CA_1  2011-01-29      1  2011     11101         NaN     0  \n",
       "4         FOODS     CA_1  2011-01-29      1  2011     11101        2.94     3  \n",
       "...         ...      ...         ...    ...   ...       ...         ...   ...  \n",
       "27489805  FOODS     WI_3  2016-04-24      4  2016     11613        2.98     1  \n",
       "27489806  FOODS     WI_3  2016-04-24      4  2016     11613        2.48     0  \n",
       "27489807  FOODS     WI_3  2016-04-24      4  2016     11613        3.98     0  \n",
       "27489808  FOODS     WI_3  2016-04-24      4  2016     11613        1.28     3  \n",
       "27489809  FOODS     WI_3  2016-04-24      4  2016     11613        1.00     0  \n",
       "\n",
       "[27489810 rows x 12 columns]"
      ]
     },
     "execution_count": 107,
     "metadata": {},
     "output_type": "execute_result"
    }
   ],
   "source": [
    "foods "
   ]
  },
  {
   "cell_type": "code",
   "execution_count": null,
   "id": "2ecac20c",
   "metadata": {},
   "outputs": [],
   "source": [
    "foods_try_1 = foods[['date','event_type_1','sold','sell_price']]"
   ]
  },
  {
   "cell_type": "code",
   "execution_count": null,
   "id": "687d0e85",
   "metadata": {},
   "outputs": [],
   "source": [
    "foods_try_1['Sporting'] = foods_try_1['event_type_1'] == 'Sporting'\n",
    "foods_try_1['Sporting'] = foods_try_1['Sporting'].astype(int)\n",
    "foods_try_1['Cultural'] = foods_try_1['event_type_1'] == 'Cultural'\n",
    "foods_try_1['Cultural'] = foods_try_1['Cultural'].astype(int)\n",
    "foods_try_1['National'] = foods_try_1['event_type_1'] == 'National'\n",
    "foods_try_1['National'] = foods_try_1['National'].astype(int)\n",
    "foods_try_1['Religious'] = foods_try_1['event_type_1'] == 'Religious'\n",
    "foods_try_1['Religious'] = foods_try_1['Religious'].astype(int)"
   ]
  },
  {
   "cell_type": "code",
   "execution_count": null,
   "id": "cccb4bdb",
   "metadata": {},
   "outputs": [],
   "source": []
  },
  {
   "cell_type": "code",
   "execution_count": null,
   "id": "95590c72",
   "metadata": {},
   "outputs": [],
   "source": []
  },
  {
   "cell_type": "code",
   "execution_count": null,
   "id": "b8f14908",
   "metadata": {},
   "outputs": [],
   "source": []
  },
  {
   "cell_type": "markdown",
   "id": "a88c3d8a",
   "metadata": {},
   "source": [
    "## Relationship between data (sales_train_validation)"
   ]
  },
  {
   "cell_type": "code",
   "execution_count": null,
   "id": "78f34704",
   "metadata": {},
   "outputs": [],
   "source": []
  },
  {
   "cell_type": "code",
   "execution_count": null,
   "id": "65c56fd1",
   "metadata": {},
   "outputs": [],
   "source": [
    "# How do sales volumes change during and after events?\n",
    "# Are there specific types of events that have a significant impact on sales?\n",
    "# Do different regions respond differently to events?"
   ]
  },
  {
   "cell_type": "code",
   "execution_count": null,
   "id": "bdc5f43e",
   "metadata": {},
   "outputs": [],
   "source": [
    "# how does event day affect the sales of product in each category,dept,branch,states, as a whole\n"
   ]
  },
  {
   "cell_type": "code",
   "execution_count": null,
   "id": "5233c9f3",
   "metadata": {},
   "outputs": [],
   "source": []
  },
  {
   "cell_type": "code",
   "execution_count": 92,
   "id": "9070aa75",
   "metadata": {},
   "outputs": [],
   "source": [
    "# Chloe's questions\n",
    "# which states has the highest sales in total, why \n",
    "    # in the states, is there any categories or dept has higher sales why\n",
    "# which branch has the highest sales, why\n",
    "# which department has the highest sales ex: food1 or food2\n",
    "# how does event day affect the sales of product in each category,dept,branch,states, as a whole\n",
    "# how does snap day affect the sales of product in each category,dept,branch,states, as a whole\n",
    "# todo: agg items with categories and find mean price"
   ]
  },
  {
   "cell_type": "code",
   "execution_count": null,
   "id": "5bba4769",
   "metadata": {},
   "outputs": [],
   "source": [
    "# how many products has price change in history\n",
    "# how many products has 1,2,3,...times price changes\n",
    "# same questions for different level ex: state , national level\n",
    "# sku\n",
    "# go to find price elasticity \n",
    "# what learn come after\n",
    "# 10%, 20% discount\n",
    "# incorporate slider into "
   ]
  }
 ],
 "metadata": {
  "kernelspec": {
   "display_name": "Python 3 (ipykernel)",
   "language": "python",
   "name": "python3"
  },
  "language_info": {
   "codemirror_mode": {
    "name": "ipython",
    "version": 3
   },
   "file_extension": ".py",
   "mimetype": "text/x-python",
   "name": "python",
   "nbconvert_exporter": "python",
   "pygments_lexer": "ipython3",
   "version": "3.9.7"
  }
 },
 "nbformat": 4,
 "nbformat_minor": 5
}
